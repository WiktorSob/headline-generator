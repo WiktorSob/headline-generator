{
 "cells": [
  {
   "cell_type": "code",
   "execution_count": 1,
   "metadata": {},
   "outputs": [],
   "source": [
    "import pickle\n",
    "import os\n",
    "\n"
   ]
  },
  {
   "cell_type": "code",
   "execution_count": 24,
   "metadata": {},
   "outputs": [
    {
     "data": {
      "text/plain": [
       "235640"
      ]
     },
     "execution_count": 24,
     "metadata": {},
     "output_type": "execute_result"
    }
   ],
   "source": [
    "946 * 20 + 5109 * 20 + 3830 * 20 + 430 * 20 + 367 * 20 + 1100 * 20"
   ]
  },
  {
   "cell_type": "code",
   "execution_count": 46,
   "metadata": {},
   "outputs": [],
   "source": [
    "pkl_file_list = os.listdir(os.getcwd() + '/results')\n",
    "pkl_file_list.sort()\n",
    "\n",
    "links, headlines, titles = [], [], []\n",
    "for pkl_file in pkl_file_list:\n",
    "    with open(f'results/{pkl_file}', 'rb') as f:\n",
    "        pkl_in = pickle.load(f)\n",
    "    links.extend(pkl_in[0])\n",
    "    headlines.extend(pkl_in[1])\n",
    "    titles.extend(pkl_in[2])\n",
    "    "
   ]
  },
  {
   "cell_type": "code",
   "execution_count": 47,
   "metadata": {},
   "outputs": [
    {
     "name": "stdout",
     "output_type": "stream",
     "text": [
      "253021 253021 253021\n"
     ]
    }
   ],
   "source": [
    "print(len(links), len(headlines), len(titles))"
   ]
  },
  {
   "cell_type": "code",
   "execution_count": 52,
   "metadata": {},
   "outputs": [],
   "source": [
    "with open(f'articles_metadata/articles_links.pkl', 'wb') as f:\n",
    "    pickle.dump(links, f)\n",
    "with open(f'articles_metadata/articles_headlines.pkl', 'wb') as f:\n",
    "    pickle.dump(headlines, f)\n",
    "with open(f'articles_metadata/articles_titles.pkl', 'wb') as f:\n",
    "    pickle.dump(titles, f)"
   ]
  },
  {
   "cell_type": "code",
   "execution_count": 5,
   "metadata": {},
   "outputs": [],
   "source": [
    "with open('articles_metadata/articles_links.pkl', 'rb') as f:\n",
    "    links = pickle.load(f)"
   ]
  },
  {
   "cell_type": "code",
   "execution_count": 6,
   "metadata": {},
   "outputs": [
    {
     "data": {
      "text/plain": [
       "253021"
      ]
     },
     "execution_count": 6,
     "metadata": {},
     "output_type": "execute_result"
    }
   ],
   "source": [
    "len(links)"
   ]
  },
  {
   "cell_type": "code",
   "execution_count": 53,
   "metadata": {},
   "outputs": [
    {
     "data": {
      "text/plain": [
       "False"
      ]
     },
     "execution_count": 53,
     "metadata": {},
     "output_type": "execute_result"
    }
   ],
   "source": [
    "\"False\" in links"
   ]
  },
  {
   "cell_type": "code",
   "execution_count": 46,
   "metadata": {},
   "outputs": [
    {
     "name": "stdout",
     "output_type": "stream",
     "text": [
      "https://www.tvp.info/68305505/w-holandii-krowy-sikaja-zlotem-tylko-w-specjalnych-toaletach\n"
     ]
    },
    {
     "data": {
      "text/plain": [
       "'68305505'"
      ]
     },
     "execution_count": 46,
     "metadata": {},
     "output_type": "execute_result"
    }
   ],
   "source": [
    "print(links[0])\n",
    "links[0].split('/')[3]\n"
   ]
  },
  {
   "cell_type": "code",
   "execution_count": 8,
   "metadata": {},
   "outputs": [],
   "source": [
    "from utils import get_website\n",
    "import re"
   ]
  },
  {
   "cell_type": "code",
   "execution_count": 28,
   "metadata": {},
   "outputs": [],
   "source": [
    "def get_content(link):\n",
    "    print(link)\n",
    "    soup = get_website(link)\n",
    "    text_parts = soup.find_all('p', {'class' : \"am-article__text article__width\"})\n",
    "    full_content = ' '.join([bit.get_text() for bit in text_parts])\n",
    "    return full_content"
   ]
  },
  {
   "cell_type": "code",
   "execution_count": 22,
   "metadata": {},
   "outputs": [],
   "source": [
    "from concurrent.futures import ThreadPoolExecutor, ProcessPoolExecutor"
   ]
  },
  {
   "cell_type": "code",
   "execution_count": 24,
   "metadata": {},
   "outputs": [
    {
     "data": {
      "text/plain": [
       "8"
      ]
     },
     "execution_count": 24,
     "metadata": {},
     "output_type": "execute_result"
    }
   ],
   "source": [
    "os.cpu_count()"
   ]
  },
  {
   "cell_type": "code",
   "execution_count": null,
   "metadata": {},
   "outputs": [],
   "source": []
  },
  {
   "cell_type": "code",
   "execution_count": 32,
   "metadata": {},
   "outputs": [
    {
     "name": "stdout",
     "output_type": "stream",
     "text": [
      "https://www.tvp.info/68305505/w-holandii-krowy-sikaja-zlotem-tylko-w-specjalnych-toaletach\n",
      "https://www.tvp.info/68303268/plan-chin-piecioprocentowy-wzrost-gospodarczy\n",
      "https://www.tvp.info/68292477/ogromny-wzrost-wplywow-z-vat-ministerstwo-finansow-pokazalo-dane\n",
      "https://www.tvp.info/68289222/europejski-dzien-rownych-plac-niemcy-tylko-w-jednej-branzy-kobiety-zarabiaja-wiecej-od-mezczyzn\n",
      "https://www.tvp.info/68289414/moskwa-nie-planuje-naprawy-nord-stream-1-i-2-projekt-uwaza-za-pogrzebany\n",
      "https://www.tvp.info/68280509/wzrosty-kursow-akcji-na-amerykanskiej-gieldzie-wall-street\n",
      "https://www.tvp.info/68272392/tym-razem-tusk-uderza-w-program-mieszkanie-plus\n",
      "https://www.tvp.info/68270122/zakaz-sprzedazy-cywilnych-dronow-w-sieci-chinski-gigant-uderza-w-rosjan\n",
      "https://www.tvp.info/68271034/bezrobocie-w-krajach-unii-europejskiej-polska-z-jednym-z-najnizszych-wynikow\n",
      "https://www.tvp.info/68268733/prezydent-andrzej-duda-czeka-na-propozycje-instytucji-panstwowych-ws-kredytow-frankowych\n",
      "https://www.tvp.info/67694052/zus-aplikacja-mzus-rozszerzona-o-kolejne-swiadczenia-dla-rodzin\n",
      "https://www.tvp.info/67693312/do-8-marca-odbiorcy-wrazliwi-musza-zlozyc-oswiadczenia-w-sprawie-zwrotu-nadplaty-za-cieplo\n",
      "https://www.tvp.info/67482626/chile-pozary-zniszczyly-dziesiatki-tysiecy-uli-cios-dla-rolnictwa-eksport-owocow-zmaleje\n",
      "https://www.tvp.info/67482464/ppk-pracownicze-plany-kapitalowe-rezygnacja-wyplata-autozapis-zasady-najwazniejsze-informacje\n",
      "https://www.tvp.info/66932813/obnizki-cen-na-stacjach-paliw\n",
      "https://www.tvp.info/66928975/prawie-polowa-polek-w-it-awansowala-w-minionym-roku\n",
      "https://www.tvp.info/66927764/dochody-rosji-z-eksportu-gazu-i-ropy-spadly-o-prawie-40-proc\n",
      "https://www.tvp.info/66911527/rolnictwo-kontrola-miodow-liczne-przypadki-falszerstwa\n",
      "https://www.tvp.info/66912347/rafako-i-gaz-system-ugoda-dotyczaca-budowy-gazociagu-na-odcinku-goleniowploty-i-projektu-tlocznia-kedzierzyn-kozle\n",
      "https://www.tvp.info/66912819/usa-general-motors-redukuje-zatrudnienie-chce-obnizyc-koszty-produkcji\n",
      "CPU times: user 9.44 s, sys: 112 ms, total: 9.56 s\n",
      "Wall time: 16.7 s\n"
     ]
    }
   ],
   "source": [
    "%%time\n",
    "res_1 = list()\n",
    "for link in links[:20]:\n",
    "    res_1.append(get_content(link))"
   ]
  },
  {
   "cell_type": "code",
   "execution_count": 35,
   "metadata": {},
   "outputs": [
    {
     "name": "stdout",
     "output_type": "stream",
     "text": [
      "https://www.tvp.info/68305505/w-holandii-krowy-sikaja-zlotem-tylko-w-specjalnych-toaletach\n",
      "https://www.tvp.info/68303268/plan-chin-piecioprocentowy-wzrost-gospodarczy\n",
      "https://www.tvp.info/68292477/ogromny-wzrost-wplywow-z-vat-ministerstwo-finansow-pokazalo-dane\n",
      "https://www.tvp.info/68289222/europejski-dzien-rownych-plac-niemcy-tylko-w-jednej-branzy-kobiety-zarabiaja-wiecej-od-mezczyzn\n",
      "https://www.tvp.info/68289414/moskwa-nie-planuje-naprawy-nord-stream-1-i-2-projekt-uwaza-za-pogrzebany\n",
      "https://www.tvp.info/68280509/wzrosty-kursow-akcji-na-amerykanskiej-gieldzie-wall-street\n",
      "https://www.tvp.info/68272392/tym-razem-tusk-uderza-w-program-mieszkanie-plus\n",
      "https://www.tvp.info/68270122/zakaz-sprzedazy-cywilnych-dronow-w-sieci-chinski-gigant-uderza-w-rosjan\n",
      "https://www.tvp.info/68271034/bezrobocie-w-krajach-unii-europejskiej-polska-z-jednym-z-najnizszych-wynikow\n",
      "https://www.tvp.info/68268733/prezydent-andrzej-duda-czeka-na-propozycje-instytucji-panstwowych-ws-kredytow-frankowych\n",
      "https://www.tvp.info/67694052/zus-aplikacja-mzus-rozszerzona-o-kolejne-swiadczenia-dla-rodzin\n",
      "https://www.tvp.info/67693312/do-8-marca-odbiorcy-wrazliwi-musza-zlozyc-oswiadczenia-w-sprawie-zwrotu-nadplaty-za-cieplo\n",
      "https://www.tvp.info/67482626/chile-pozary-zniszczyly-dziesiatki-tysiecy-uli-cios-dla-rolnictwa-eksport-owocow-zmaleje\n",
      "https://www.tvp.info/67482464/ppk-pracownicze-plany-kapitalowe-rezygnacja-wyplata-autozapis-zasady-najwazniejsze-informacje\n",
      "https://www.tvp.info/66932813/obnizki-cen-na-stacjach-paliw\n",
      "https://www.tvp.info/66928975/prawie-polowa-polek-w-it-awansowala-w-minionym-roku\n",
      "https://www.tvp.info/66927764/dochody-rosji-z-eksportu-gazu-i-ropy-spadly-o-prawie-40-proc\n",
      "https://www.tvp.info/66911527/rolnictwo-kontrola-miodow-liczne-przypadki-falszerstwa\n",
      "https://www.tvp.info/66912347/rafako-i-gaz-system-ugoda-dotyczaca-budowy-gazociagu-na-odcinku-goleniowploty-i-projektu-tlocznia-kedzierzyn-kozle\n",
      "https://www.tvp.info/66912819/usa-general-motors-redukuje-zatrudnienie-chce-obnizyc-koszty-produkcji\n",
      "CPU times: user 12.3 s, sys: 1.18 s, total: 13.5 s\n",
      "Wall time: 12.6 s\n"
     ]
    }
   ],
   "source": [
    "%%time\n",
    "with ThreadPoolExecutor(1) as executor:\n",
    "    res = list(executor.map(get_content, links[:20]))"
   ]
  },
  {
   "cell_type": "code",
   "execution_count": 30,
   "metadata": {},
   "outputs": [
    {
     "data": {
      "text/plain": [
       "['\\n„Krowa sika nowym płynnym złotem?” – tak zatytułował niedawno swój artykuł popularny dziennik Niderlandów. Wykorzystywanie krowiego moczu jako zamiennika sztucznego nawozu nie jest w Holandii niczym nowym. Jednak, jak zauważa „AD”, nie było to dotychczas zjawisko masowe wśród hodowców bydła. To się może zmienić dzięki toaletom dla krów.Toalety są produkowane przez jedną z holenderskich firm. „Toaleta wywołuje u krów naturalny odruch oddawania moczu poprzez lekkie dotknięcie pojemnikiem powyżej wymion; mocz jest natychmiast odsysany przez system” – zachwala producent. Podkreśla, że nie dochodzi do powstawania żadnych emisji. Cenne nawozy„Mocz zawiera azot i potas, a gęsty obornik m.in. fosforany. Dzięki czystemu sposobowi separacji hodowcy i rolnicy mogą nawozić w znacznie bardziej ukierunkowany sposób, co jest niewątpliwie korzystne dla środowiska” – ocenia na łamach dziennika „De Volkanrant” Paul Galama z Wageningen University & Research w Leeuwarden na północy kraju. #wieszwiecejPolub nasRząd premiera Marka Ruttego zdecydował w ubiegłym roku, że Niderlandy do 2030 roku zredukują liczbę emisji tlenku azotu o 70 procent. Media ujawniły ekspertyzy, z których wynika, że konieczna będzie redukcja o jedną trzecią zwierząt hodowlanych w holenderskich fermach. Na tym tle doszło do rolniczych protestów na terenie całego kraju. Blokowane były autostrady, a także centra dystrybucyjne supermarketów.W ubiegły piątek protestowali także rolnicy u południowego sąsiada. Przeszło 2,7 tys. traktorów przyjechało do Brukseli, aby wziąć udział w proteście hodowców bydła chcących wyrazić swoje niezadowolenie z planów rządu we Flandrii, który także dyskutuje nad planami ograniczenia emisji tlenku azotu.  \\n\\n\\n\\n ',\n",
       " '\\nUstępujący premier Li Keqiang stwierdził, że konieczne jest nadanie priorytetu stabilności gospodarczej i wezwał do stworzenia w tym roku w miastach około 12 mln miejsc pracy, co oznacza wzrost wobec zeszłorocznego celu, który zakładał powstanie 11 mln nowych miejsc pracy.Czytaj także: Szlaban na sprzedaż cywilnych dronów w sieci. Chiński gigant uderza w RosjanReuters przypomniał, że w ubiegłym roku chińska gospodarka wzrosła zaledwie o trzy proc., co było jednym z najgorszych wyników w ciągu ostatnich dziesięcioleci. Przyczyny takiego stanu rzeczy to przede wszystkim surowe restrykcje dot. koranawirusa, kryzys w sektorze nieruchomości, stłumienie prywatnej przedsiębiorczości i słabnący popyt na chiński eksport. \\n\\n\\n\\n  \\nCel pięciu procent wzrostu znajdował się na dolnej skali oczekiwań, gdyż – jak zaznacza Reuters – źródła w Pekinie sugerowały, że wzrost PKB może zostać określony na poziomie sześciu procent. Chiński przywódca Xi Jinping powiedział wcześniej, że oficjalnym priorytetem w tym roku jest ożywienie gospodarcze oparte na wydatkach konsumpcyjnych, po zeszłorocznym spadku wzrostu PKB, który był drugim najsłabszym wynikiem od co najmniej lat 70. ubiegłego wieku.Czytaj także: Chiński okręt w pobliżu filipińskiej wyspy. Napięcie na Morzu PołudniowochińskimReuters pisze, że wraz z ustępującym premierem odejdzie wielu innych urzędników, którzy byli zwolennikami polityki gospodarczej zorientowanej na reformy. Ustąpią oni miejsca lojalistom skupionym wokół prezydenta Xi Jinpinga, który na ubiegłorocznym kongresie Komunistycznej Partii Chin zapewnił sobie trzecią kadencję.#wieszwiecejPolub nas \\n\\n\\n\\n ',\n",
       " '\\nW okresie rządów PO–PSL w latach 2007–2015 wpływy do budżetu państwa z tytułu podatku VAT zwiększyły się z 96,35 mld do 123,12 mld złotych.To wzrost dochodów budżetowych o 27,8 proc. O ile wzrosły wpływy z VAT?Odkąd władzę objął obóz Zjednoczonej Prawicy jednym z pierwszych zadań było załatanie luki vatowskiej. Szacuje się, że w okresie rządów koalicji PO–PSL wyniosła ona aż 260 mld złotych.To przełożyło się na bezwzględne liczby.W latach 2016–2022 wpływy wzrosły ze 123,12 mld do 230,48 mld złotych. To przyrost aż o 87,2 proc. \\n\\n\\n\\n  \\nJeszcze lepiej prezentują się dane przyjęte w prognozie budżetowej na 2023 rok. Z tytułu podatku od towarów i usług do budżetu wpłynie aż 286,3 mld złotych. W porównaniu z 2016 rokiem to wzrost o 132,5 proc. „Przychody za 2023 rok byłyby istotnie wyższe, gdyby nie decyzja o utrzymaniu niższej stawki VAT na żywność” – komentuje resort. Jeszcze większe wrażenie robi zestawienie z 2007 rokiem. Od tego okresu z tytułu VAT do budżetu wpłynęło niemal trzy razy więcej środków.Dlaczego wzrosły wpływy z VAT?PiS znacznie poprawił ściągalność podatku VAT. Według danych Komisji Europejskiej w latach 2016–2020 udało się zmniejszyć lukę vatowską o 9,1 proc. To jeden z najlepszych wyników w UE. W zestawieniu opracowanym przez KE efektywniej wypadła tylko Łotwa.  \\n\\n \\n\\n\\nTak zmieniły się wpływy z tytułu VAT do budżetu państwa, odkąd władze objął rząd Zjednoczonej Prawicy (fot. mat. pras.)\\n\\n\\n\\n\\n\\n\\n  \\n„Wysokie tempo spadku luki VAT to m.in. efekt wprowadzania nowoczesnych narzędzi uszczelniających system podatkowy. Są państwa biorące z nas przykład” – informowało MF.Jak Polska poprawiła ściąganie VAT?Resort pochwalił się swoimi osiągnięciami w egzekwowaniu należnych podatków: „Zreformowaliśmy administrację skarbową, podnieśliśmy kary za przestępstwa VAT-owskie. Ulgę uczciwym przedsiębiorcom, którzy przegrywali konkurencję z podatkowymi przestępcami, przyniosły pakiety paliwowy i przewozowy (SENT). Pojawiały się pionierskie, systemowe rozwiązania, które zaczęły przynosić trwałe skutki. To m.in. mechanizm podzielonej płatności, wykaz podatników VAT i elektroniczne raportowanie. To także kolejne e-usługi administracji, kasy online, kasy w postaci oprogramowania czy e-paragon Stworzyliśmy STIR (System Teleinformatyczny Izby Rozliczeniowej). Teraz kluczem do dalszych efektów w obniżaniu luki VAT jest wykorzystanie nowoczesnych technologii” – przekazało ministerstwo.  \\n\\n\\n\\n ',\n",
       " '\\nInstytut Nauk Ekonomicznych i Społecznych (WSI) poinformował, że w 45 z 46 zbadanych branż kobiety zarabiały w ubiegłym roku mniej niż mężczyźni. „Naukowcy ocenili najnowsze dostępne dane z Federalnego Urzędu Statystycznego i Federalnej Agencji Pracy za lata 2021 i 2022. Według badania mężczyźni we wszystkich sektorach zarabiali w 2022 roku średnio 24,36 euro brutto na godzinę, a kobiety 20,05 euro. Oznacza to różnicę około 18 proc.” – podał portal.Jak wyjaśnia „Deutsche Welle” w zależności od branży ta różnica wahała się od 4 proc. w przewozach pasażerskich i towarowych do 30 proc. w ochronie zdrowia i nawet 32 \\u200b\\u200bproc. w doradztwie prawnym i podatkowym.„Jedynym wyjątkiem były usługi pocztowe. Stawka godzinowa dla kobiet w tym sektorze wynosiła 16,26 euro, czyli o dwa procent więcej niż w przypadku mężczyzn (15,93 euro). »Szklany sufit« jest nadal również na stanowiskach menadżerskich. W 26 z 34 branż, dla których dostępne były dane, kobiety rzadziej zajmowały stanowiska kierownicze niż mężczyźni” – informuje portal.Zobacz też: Polki w branży IT zarabiają mniej niż mężczyźni, ale... symbolicznie mniej \\n\\n\\n\\n ',\n",
       " '\\nNord Stream 1 i Nord Stream 2, każdy składający się z dwóch rurociągów, zostały zbudowane przez rosyjski koncern Gazprom. Miały pompować pod Bałtykiem do Niemiec 110 mld metrów sześciennych gazu ziemnego rocznie. 26 września w rurociągach stwierdzono gwałtowny spadek ciśnienia i wyciek gazu. Szybko okazało się, że doszło do trzech eksplozji, które spowodowały rozległe uszkodzenia. W połowie listopada szwedzka prokuratura podała, że na uszkodzonych gazociągach odnaleziono ślady materiałów wybuchowych.Naprawy nie będzieGazprom poinformował, że naprawa uszkodzonych nitek jest technicznie możliwa, jednak – jak przekazał Reuters – źródła zaznajomione z rosyjskimi planami przekazały, że Moskwa nie widzi szans na wystarczającą poprawę stosunków z Zachodem i w dającej się przewidzieć przyszłości rurociągi nie będą potrzebne. #wieszwiecejPolub nasJedno z rosyjskich źródeł agencji Reutera przekazało, że Rosja postrzega projekt jako „pogrzebany”. W ocenie dwóch innych źródeł pomimo braku planów naprawy, niewykluczona jest ich ewentualna reaktywacja w przyszłości. Wymagałoby to uszczelnienia uszkodzonych końców i umieszczenia w rurach specjalnej powłoki, aby zapobiec ich dalszej korozji spowodowanej wodą morską.Kto stoi za eksplozją?Moskwa utrzymuje, nie dostarczając dowodów, że za zniszczenie gazociągów odpowiedzialne są kraje Zachodu, z kolei Zachód oskarża Rosję o sabotaż. Nadal trwają śledztwa w sprawie eksplozji, prowadzone przez Danię, Niemcy i Szwecję.  \\n\\n\\n\\n ',\n",
       " '\\n– Wydaje się, że jesteśmy w fazie przeciągania liny na rynku między tematem ponownego otwarcia gospodarki Chin, co w zasadzie oznacza podwyższenie prognoz globalnego wzrostu PKB, a ponowną wyceną wyższych stóp proc. w USA – powiedział Vasileios Gkionakis, europejski szef strategii walutowej w Citi.Czytaj także: Szlaban na sprzedaż cywilnych dronów w sieci. Chiński gigant uderza w RosjanCzłonek FOMC Christopher J. Waller wskazywał na możliwość wyższego od oczekiwań docelowego przedziału stóp proc. w USA, jeśli inflacja nie zacznie trwale spadać, powołując się na zacieśniony rynek pracy. W czwartek prezes Rezerwy Federalnej z Atlanty Raphael Bostic powiedział, że „zdecydowanie” opowiada się za utrzymaniem podwyżek o ćwierć punktu procentowego.Czytaj także: Bezrobocie w UE. Polska z jednym z najniższych wynikówRynek ropy zareagował w piątek spadkami na informację Wall Street Journal o tym, że w ZEA trwa wewnętrzna debata o wyjściu z OPEC. Źródło Reutera zaprzeczyło jednak tym doniesieniom i rynek powrócił do wzrostów.#wieszwiecejPolub nas \\n\\n\\n\\n ',\n",
       " '\\nW piątek lider PO Donald Tusk spotkał się z panią Edytą z Mińska Mazowieckiego, która wynajmuje mieszkanie w ramach rządowego programu Mieszkanie Plus. Jak powiedział szef PO na konferencji prasowej, od stycznia opłaty pani Edyty – matki samotnie wychowującej dzieci – wzrosły o 400 zł miesięcznie.– To mieszkanie jest droższe niż mieszkania komercyjnie wynajmowane w Mińsku Mazowieckim – powiedział Tusk. Dodał, że „tak się dzieje wszędzie, to dotyczy praktycznie wszystkich, blisko 20 tysięcy rodzin w kraju”. Jego zdaniem korzystający z programu Mieszkanie Plus są raczej jego ofiarami niż beneficjentami.PFR odpowiada TuskowiW odpowiedzi na słowa szefa PO Polski Fundusz Rozwoju napisał na Twitterze, że prostuje nieprawdziwe informacje przekazywane w mediach przez polityków. „Czynsz najmu mieszkania 50 m2 w prog. PFR Nieruchomości w Mińsku Maz. wynosi 1685 zł. To wraz z dopłatami do czynszu ok. 30 proc. zł taniej niż na rynku komercyjnym. To oznacza do 6 tys. zł więcej w portfelu najemców rocznie” – podano.  \\n\\n\\n\\n  \\nJak dodano, mieszkania w Mińsku Maz. są zaplanowane w formule dojścia do własności (DDW), podobnie jak inne inwestycje PFR Nieruchomości, w których dojście do własności zapowiedziano.W połowie lutego Polski Fundusz Rozwoju i PFR Nieruchomości ogłosiły zasady wsparcia finansowego dla wszystkich mieszkańców osiedli wybudowanych w ramach rynkowej części rządowego programu mieszkaniowego.Wsparcie dla mieszkańcówZapowiedziano, że obecnie oferowana stawka czynszu oraz kaucja nie będą podlegać waloryzacji o wskaźnik inflacji do końca 2025 r. Dzięki temu przeciętna kwota oszczędności dla budżetu domowego najemcy ma wynieść nieco ponad 5 tys. zł. Dodatkowym wsparciem ma być zwrot kaucji w wysokości jednomiesięcznego czynszu, który będzie dotyczył wszystkich najemców osiedli Funduszu Mieszkań dla Rozwoju. Średnio dla najemcy będzie to 1500 zł oszczędności.PFR Nieruchomości SA podkreśliły, że jako jedyna na polskim rynku spółka – oferuje umowy najmu ze stopniowym dochodzeniem do własności. Z tej oferty korzystają już najemcy w Białej Podlaskiej, a w najbliższym czasie ma zostać ona zaproponowana mieszkańcom osiedla w Gdyni przy ul. Puszczyka. „Umowy najmu instytucjonalnego z dojściem do własności zostaną także zaoferowane wszystkim najemcom inwestycji, w których ta opcja została zadeklarowana, czyli w Krakowie, w Radomiu, w Katowicach, w Dębicy, w Świdniku, w Łowiczu, w Mińsku Mazowieckim, w Nowym Targu, w Wałbrzychu, we Wrześni i w Zamościu” – podano w komunikacie spółki. \\n\\n\\n\\n ',\n",
       " '\\nPortal, powołując się m.in. na ukraińskie źródła, podaje, że chociaż karty produktów pozostają w rosyjskiej wersji chińskiej platformy, to po przejściu do sklepu pojawia się i komunikat: „Ta strona nie istnieje”. Ponadto firma DJI usunęła mobilne oprogramowanie do sterowania dronami z rosyjskiej wersji AppStore (sklep mobilny Apple).Od czwartku Rosjanie nie mogą kupić na AliExpress dronów, baterii, futerałów, gogli, niektórych części i akcesoriów powyższych marek. W przypadku niektórych zakupionych już dronów producenci wprowadzili ograniczenie wysokości lotu – ale prawdopodobnie można je obejść po instalacji odpowiedniego oprogramowania – zauważa belsat.eu.Drony te były wcześniej wykorzystywane przez Rosjan na Ukrainie do celów rozpoznawczych i dywersyjnych. Użytkownicy z Ukrainy nadal mogą je nabywać.Portal zebrał opinie ekspertów na temat tego posunięcia. Część z nich uważa, że niektórzy rosyjscy użytkownicy prawdopodobnie odmówią zakupu chińskich dronów, ponieważ ceny na AliExpress są znacznie niższe niż w sklepach detalicznych. Jednak nabywcy hurtowi raczej nie odczują skutków zakazu, ponieważ mają innych dostawców. \\n\\n\\n\\n  \\nDmitrij Korniew, rosyjski ekspert wojskowy i założyciel portalu Military Russia, cytowany przez belsat.eu twierdzi, że drony DJI Mavic są aktywnie wykorzystywane w wojnie na Ukrainie do rekonesansu. Analityk zasugerował, że zagraniczni partnerzy naciskali na chińskie władze lub samą firmę DJI, by zaprzestała ich dostaw do Rosji. „Chińczycy już dawno przestali oficjalnie sprzedawać takie drony, ale teraz uniemożliwiają także ich wykorzystanie w działaniach zbrojnych” – czytamy.DJI wstrzymała dostawy swoich dronów do Rosji i Ukrainy w kwietniu. Firma oznajmiła, że jest przeciwna ich wykorzystywaniu w walce. Przyznała jednak, że nie może całkowicie zastopować sprzedaży przez inne podmioty na rynku. \\n\\n\\n\\n ',\n",
       " '\\n– Unijny urząd statystyczny po raz kolejny potwierdza dobrą i stabilną sytuację na naszym rynku pracy. To niewątpliwy sukces, który zawdzięczamy odpowiedniej polityce rządu Zjednoczonej Prawicy. Osiągnęliśmy drugi najlepszy wynik w Unii Europejskiej, wyprzedzają nas jedynie Czechy z wynikiem 2,5 proc. Jak już wielokrotnie udowodniliśmy, potrafimy mierzyć się ze światowymi kryzysami – powiedziała cytowana w rządowym komunikacie minister rodziny i polityki społecznej Marlena Maląg. Jak zwróciła uwagę szefowa resortu, „pandemia, jaka dotknęła cały świat, w wielu krajach doprowadziła do niewyobrażalnego bezrobocia, my wyszliśmy z niej obronną ręką”. – Kolejną próbą była wojna na Ukrainie. Zdaliśmy egzamin z człowieczeństwa, zapewniając obywatelom tego kraju zatrudnienie, jednocześnie chroniąc polski rynek pracy – zaznaczyła Maląg. Stopy bezrobocia w krajach UE Po Czechach i Polsce na liście – pod względem stopy bezrobocia – znajdują się Niemcy i Malta – po 3 proc., Słowenia – 3,2 proc. Krajem z najwyższym wskaźnikiem bezrobocia – 13 proc. – jest Hiszpania. Dwucyfrowy wynik – 10,8 proc. osiągnęła ponownie Grecja, jednak stopa bezrobocia w tym kraju spadła z 12,4 proc. w grudniu 2022 r. W całej Unii Europejskiej stopa bezrobocia wyniosła 6,1 proc.    \\n\\n \\n\\n\\n(fot. mat pras.)\\n\\n\\n\\n\\n\\n\\n ',\n",
       " '\\n– Nie toczą się obecnie żadne prace w Kancelarii Prezydenta RP nad ustawą dotyczącą kredytów frankowych. Wiem, bo prowadziłem rozmowy, że takie prace i dyskusje koncepcyjne toczą się w różnych innych instytucjach państwa – powiedział dziennikarzom w przerwie XXIII Konferencji Rynku Kapitałowego w Bukowinie Tatrzańskiej prezydent Andrzej Duda.Dodał, że jest wstępnie umówiony na ten temat z przedstawicielami kilku instytucji. – Oni chcą przedstawić różne rozwiązania koncepcyjne, nad którymi się pracuje w tej chwili – mówił prezydent Duda.Jego zdaniem takie spotkanie „pewnie będzie w najbliższym czasie”.Konferencja Rynku Kapitałowego w Bukowinie Tatrzańskiej to coroczne spotkanie przedstawicieli rynku kapitałowego – inwestorów, spółek giełdowych, domów maklerskich, banków, organów rządowych, giełd i instytucji rozliczeniowych, organizacji biznesowych i samorządowych.Tegoroczna konferencja odbywa się pod hasłem Uczestnicy rynku kapitałowego wobec wyzwań współczesnej gospodarki. \\n\\n\\n\\n ',\n",
       " '\\nAplikację mZUS dla rodziców pierwszy raz udostępniono 14 listopada 2022 r. Można jej używać na urządzeniach mobilnych z systemami operacyjnymi Android i iOS.Jest do pobrania bezpłatnie ze sklepów Google Play i App Store. Klienci ZUS pobrali ją na 100 tys. urządzeń mobilnych.  – Rodzice i opiekunowie przekonali się już, że złożenie wniosku o świadczenie rodzina 500 Plus lub Dobry Start 300 Plus przy pomocy aplikacji mZUS trwa zaledwie kilka minut. Teraz przy pomocy smartfonu czy tabletu mogą ubiegać się także o pozostałe nowoczesne świadczenia dla rodzin z ZUS. Wystarczy, że zaktualizują aplikację – powiedziała prezes ZUS prof. Gertruda Uścińska.  Dodała, że nowa wersja oprogramowania została rozszerzona o wnioski dotyczące dofinansowania opłaty za pobyt dziecka w żłobku, w klubie dziecięcym lub u dziennego opiekuna (tzw. żłobkowe) i Rodzinnego Kapitału Opiekuńczego.  \\n\\n\\n\\n  \\nPrezes ZUS wskazała, że wnioski o wszystkie te świadczenia składane są jedynie drogą elektroniczną, co jest dużym ułatwieniem dla rodziców i opiekunów. Wniosek o wsparcie mogą złożyć przez całą dobę niezależnie od godzin otwarcia urzędu. Udogodnieniem dla rodziców jest możliwość utworzenia nowego wniosku na podstawie poprzedniego, jeśli taki był składany przez aplikację mZUS lub bezpośrednio na Platformie Usług Elektronicznych (PUE) ZUS. Dzięki temu większość informacji uzupełni się automatycznie. Jeśli dane się zmieniły, przed wysłaniem można je edytować.  Aplikacja mZUS to nie tylko świadczenia dla rodzin. Dzięki niej można również nawiązać telefoniczny kontakt z infolinią ZUS (COT), przejść do strony, która umożliwia rezerwację e–wizyty w ZUS, odczytać wiadomości, które pojawiły się na indywidualnym profilu na PUE czy otrzymać powiadomienia, które przypomną na przykład o możliwości składania wniosków na nowy okres świadczeniowy.  Aby aktywować aplikację, należy powiązać ją ze swoim profilem na Platformie Usług Elektronicznych ZUS. Proces aktywacji i powiązania aplikacji z profilem PUE został opisany krok po kroku na początkowych ekranach startowych aplikacji. Bez posiadania profilu na PUE nie można korzystać z aplikacji.  Liczba zarejestrowanych profili na PUE ZUS przekroczyła 11,3 mln.   \\n\\n\\n\\n ',\n",
       " '\\nW środę 1weszły w życie znowelizowane przepisy dotyczące ochrony odbiorców ciepła systemowego. Gwarantują one, że w trwającym sezonie grzewczym maksymalny wzrost cen za dostawę ciepła systemowego nie może przekroczyć 40 proc. ceny obowiązującej 30 września 2022 r.„Gwarancja obejmuje pełną cenę płaconą przez odbiorcę, czyli wartość całego rachunku za ciepło, wraz ze wszystkimi jego elementami składowymi” – poinformowała PAP PGE Energia Ciepła (PGE EC). Wskazała, że system wsparcia obejmuje wszystkich odbiorców wrażliwych objętych nadzwyczajnymi rozwiązaniami rządu. „Spółka dla każdej grupy taryfowej i dla każdego m-ca będzie badać ten warunek i jeżeli jest spełniony to będzie stosować cenę maksymalną” – dodała PGE Energia Ciepła. Korekty faktur Wyjaśniono, że aby ze wsparcia skorzystać, odbiorcy wrażliwi, tj. ich pełnomocnicy (np. zarządca wspólnoty mieszkaniowej) muszą złożyć bezpośrednio do swojego sprzedawcy ciepła (dystrybutor ciepła) do 8 marca oświadczenia o spełnieniu warunków pozwalających na uznanie odbiorcy za podmiot uprawniony (z wyłączeniem odbiorców fizycznych). PGE EC dodała, że oświadczenia złożone w ramach poprzedniej ustawy (z 15/09/2022) zachowują ważność i nie ma potrzeby składania ich ponownie. „Mieszkańcy nie muszą nic w tym zakresie robić” – podkreśliła PGE EC. \\n\\n\\n\\n  \\n„Ustawa obowiązuje od 1 marca 2023 r., ale obniżone ceny obowiązują z mocą wsteczną od 1 października 2022 r. Nadpłaty powstałeod października do końca lutego zostaną rozliczone przez korekty faktur” – podała spółka. „Ustawodawca przewidział czas do połowy kwietnia na złożenie wniosku przez przedsiębiorstwo o wyrównanie za okres od października 2022 r do lutego 2023 r. do zarządcy rozliczeń, który ma 14 dni na wypłatę świadczenia dla przedsiębiorstwa, a następnie przedsiębiorstwo w ciągu siedmiu dni od otrzymania wyrównania od zarządcy rozliczeń ma skorygować faktury dla odbiorców (spółdzielnie, wspólnoty)” – wyjaśniła PGE Energia Ciepła. Kogo dotyczą przepisy PGE EC zwróciła też uwagę, że stawki płacone za ciepło z sieci ciepłowniczych znacząco różnią się w poszczególnych miastach i gminach w zależności od szeregu czynników, takich jak sposób wytwarzania ciepła, rodzaj paliwa, wydajność i wielkość jednostki wytwórczej, a także wielkość i stan techniczny systemu dystrybucji ciepła. „Oszczędności dla odbiorców będą wynikać z obowiązujących cen ciepła w danym mieście, ograniczonych do ceny maksymalnej określonej zgodnie z ustawą” – zaznaczyła spółka.Przepisy dotyczą odbiorców ciepła systemowego takich jak takich jak gospodarstwa domowe; szpitale; żłobki; przedszkola; szkoły; domy pomocy społecznej i inne instytucje użyteczności publicznej; wspólnoty mieszkaniowe; spółdzielnie mieszkaniowe, które zapewniają dostawy ciepła do lokali mieszkalnych i lokali instytucji użyteczności publicznej.  \\n\\n\\n\\n ',\n",
       " '\\n \\n\\n\\n\\n ',\n",
       " '\\nAutozapis do PPKZgodnie z ustawą o pracowniczych planach kapitałowych w tym roku odbędzie się tzw. autozapis do PPK. Odbywa się on co cztery lata. Kolejny tzw. autozapis odbędzie się w 2027 roku.  Do 28 lutego 2023 roku pracodawca miał obowiązek poinformować o tzw. ponownym autozapisie do PPK osoby, które złożyły deklarację o rezygnacji z dokonywania wpłat. Od 1 kwietnia pracodawca wznowi za taką osobę dokonywanie wpłat do PPK.  28 lutego wygasły deklaracje o rezygnacji z dokonywania wpłat do PPK. Kolejną deklarację o rezygnacji z dokonywania wpłat do PPK, pracownik może złożyć od 1 marca. Będzie ona obowiązywała do momentu złożenia wniosku o dokonywanie wpłat do PPK, bądź do kolejnego tzw. autozapisu, który odbędzie się w 2027 roku. #wieszwiecejPolub nasOd 1 kwietnia pracodawcy będą dokonywać wpłat za uczestników PPK z wyłączeniem osób, które złożą ponownie rezygnację z dokonywania wpłat do PPK. Przekazanie składek do instytucji finansowych za osoby, które dołączą do PPK w ramach autozapisu, jest możliwe między 1 a 17 kwietnia.– Osoby, które oszczędzają i chcą nadal oszczędzać w PPK – a jest ich prawie 2,6 mln – w związku z rozpoczętym w środę autozapisem nie muszą robić kompletnie nic. Dalej będą oszczędzać, ich autozapis nie dotyczy. Kolejna grupa to osoby, które kiedyś wypisały się z PPK, ale zdecydowały się teraz, że chcą jednak oszczędzać w PPK – one także nie muszą nic robić, bo autozapis – jak sama nazwa wskazuje – zrobi to za nich. Staną się automatycznie uczestnikami PPK. Trzecia grupa to osoby, które kiedyś się wypisały i nadal chcą podtrzymać swoją decyzję – one powinny między 1 a 31 marca – najlepiej przed datą swojej wypłaty, żeby później nie trzeba było robić korekt – złożyć w kadrach pracodawcy deklarację rezygnacji. To prosta deklaracja, można wykorzystać tutaj załącznik do odpowiedniego rozporządzenia, albo po prostu samemu napisać oświadczenie o rezygnacji. Wówczas nie staną się uczestnikami PPK – informował Bartosz Marczuk, wiceprezes Polskiego Funduszu Rozwoju.  \\n\\n\\n\\n  \\nPoniżej przedstawiamy najważniejsze pytania i odpowiedzi dotyczące zasad działania PPK, które przedstawiono na stronach mojeppk.pl. oraz biznes.gov.pl.Na czym polega oszczędzanie w PPK? PPK to program długoterminowego oszczędzania w miejscu pracy, w którym na prywatny rachunek pracownika wpływają wpłaty od pracodawcy, wpłaty samego pracownika oraz wpłata powitalna i dopłaty roczne od państwa. Instytucja, która prowadzi PPK, wybierana jest przez pracodawcę w porozumieniu z przedstawicielstwem pracowników. Środki gromadzone w programie PPK inwestowane są w fundusze zdefiniowanej daty, dopasowane strukturą inwestycji do wieku uczestników. Fundusz, w którym oszczędzamy (fundusz inwestycyjny, fundusz emerytalny lub ubezpieczeniowy fundusz kapitałowy), lokuje gromadzone przez nas oszczędności w papiery wartościowe i inne prawa majątkowe.  Celem programu PPK jest zgromadzenie dodatkowych oszczędności na okres po zakończeniu aktywności zawodowej i choć środki z PPK uczestnik może wycofać wcześniej (zwrot), to jednak najbardziej opłacalne jest odkładanie środków i inwestowanie ich w długim okresie. PPK to program, którego siła tkwi w systematyczności - podstawowej zasadzie długoterminowego oszczędzania - regularne inwestowanie stałych kwot powoduje, że krótkotrwałe wahania koniunktury mają zdecydowanie mniejszy wpływ na cały portfel inwestycji.  Specyfika gromadzenia oszczędności w funduszach ze swojej istoty związana jest z ryzykiem. Niemniej w przypadku funduszy zdefiniowanej daty ryzyko to jest minimalizowane dzięki szczególnym rozwiązaniom wdrożonym w programie PPK - począwszy od rygorystycznych warunków, które zobowiązane są spełniać instytucje oferujące zarządzanie PPK, poprzez ustanowienie nad nimi nadzoru Komisji Nadzoru Finansowego i ustawowe uregulowanie zasad polityki inwestycyjnej (zmieniającej się wraz z wiekiem uczestnika) oraz określenie limitów kosztów zarządzania. Dla kogo jest PPK?PPK obejmowani są pełnoletni zatrudnieni pracujący na umowy, od których odprowadzane są obowiązkowe składki emerytalno-rentowe. Są to:• pracownicy (osoby zatrudniona na podstawie umowy o pracę, powołania, wyboru, mianowania lub spółdzielczej umowy o pracę);• osoby fizyczne wykonujące pracę nakładczą;• członkowie rolniczych spółdzielni produkcyjnych lub spółdzielni kółek rolniczych;• osoby fizyczne - wykonujące pracę na podstawie umowy agencyjnej lub umowy zlecenia albo innej umowy o świadczenie usług;• członkowie rad nadzorczych wynagradzanych z tytułu pełnienia tych funkcji;• osoby przebywające na urlopach wychowawczych lub pobierające zasiłek macierzyński lub zasiłek w wysokości zasiłku macierzyńskiego. \\n\\n\\n\\n  \\nSkąd bierze się wartość środków zgromadzonych w PPK? Pieniądze wpłacane na rachunek PPK są przeliczane na jednostki uczestnictwa/jednostki rozrachunkowe funduszu, w którym oszczędzasz, a na Twoim rachunku PPK zapisywana jest liczba tych jednostek. Wartość jednostki zależy od wyceny aktywów i zobowiązań funduszu i może podlegać codziennym zmianom, co powoduje, że wartość środków na rachunku PPK najczęściej nie odpowiada wartości wpłat do PPK. Wartość środków na rachunku PPK może być wyższa lub niższa niż dokonane na niego wpłaty – dla uczestnika PPK będzie to oznaczać odpowiednio zysk albo stratę.   Wartość środków zgromadzonych na rachunku PPK uwzględnia dokonane na ten rachunek wpłaty, wynik inwestycyjny i dokonane przez Ciebie transakcje na danym rachunku (np. wypłaty czy zwroty).  Jak sprawdzić, czy oszczędzam w PPK? W celu sprawdzenia, czy jesteś uczestnikiem PPK, powinieneś zgłosić się do swojego pracodawcy. Zapytaj bezpośrednio w dziale kadr i płac, czy pracodawca zawarł w Twoim imieniu i na Twoją rzecz umowę o prowadzenie PPK (zapisał Cię do PPK).  Pamiętaj, że w dokumencie RMUA, który otrzymujesz od swojego pracodawcy, możesz sprawdzić, czy pracodawca nalicza dla Ciebie wpłaty do PPK. RMUA to informacja miesięczna dla osoby ubezpieczonej, która dotyczy składek ZUS naliczonych od wynagrodzenia. W dokumencie tym płatnik składek (czyli pracodawca) wskazuje również kwotę finansowanej dla pracownika wpłaty do PPK.  \\n\\n\\n\\n  \\nCzy mogę zmienić instytucję finansową, w której oszczędzam? Nie. Pracownik nie może tego zrobić. Instytucję finansową może natomiast zmienić pracodawca. W takiej sytuacji ma on obowiązek niezwłocznie (nie później niż w terminie 7 dni od dnia zawarcia umowy o zarządzanie PPK z nową instytucją finansową) zawrzeć umowy o prowadzenie PPK w imieniu i na rzecz pracowników, którzy w dniu poprzedzającym dzień zawarcia przez pracodawcę umowy o zarządzanie PPK z inną instytucją mieli zawartą umowę o prowadzenie PPK.  Czym jest rachunek PPK? W programie PPK uczestnik posiada swój prywatny, indywidualny rachunek PPK – tam trafiają wszystkie wpłaty, finansowane przez pracownika i pracodawcę oraz wpłata powitalna i dopłaty roczne od państwa. Pracownik może posiadać wiele rachunków PPK w różnych instytucjach finansowych.  Pieniądze wpłacane na rachunek PPK są przeliczane na jednostki uczestnictwa albo jednostki rozrachunkowe funduszu, w którym oszczędzamy, a na naszym rachunku PPK zapisywana jest liczba tych jednostek. Wartość jednostki zależy od wyceny aktywów i zobowiązań funduszu oraz może podlegać codziennym zmianom, co powoduje, że wartość środków na rachunku PPK najczęściej nie odpowiada wartości wpłat do PPK. Wartość środków na rachunku PPK może być wyższa lub niższa niż dokonane na niego wpłaty – dla uczestnika PPK będzie to oznaczać odpowiednio zysk albo stratę.  Oszczędzający w PPK mają nieograniczony dostęp do informacji o bieżącej wysokości środków na rachunku PPK bezpośrednio w instytucji finansowej oraz mogą podejmować swobodne decyzje dotyczące m.in. wycofania środków z PPK czy przenoszenia oszczędności pomiędzy funduszami zdefiniowanej daty.  \\n\\n\\n\\n  \\nJak uzyskać dostęp do rachunku PPK w instytucji finansowej? Niezwłocznie po zapisaniu pracownika do PPK (zawarciu w jego imieniu umowy o prowadzenie PPK), instytucja finansowa zobowiązana jest udostępnić mu informację o zawarciu tej umowy. W takim „pakiecie powitalnym” od instytucji finansowej powinny znaleźć się informacje jak zalogować się na swój rachunek PPK.   Jeśli nie otrzymałeś informacji o przystąpieniu do PPK - ani pocztą tradycyjną, ani elektronicznie, powinieneś zgłosić się do instytucji finansowej, która prowadzi Twój rachunek i poprosić o instrukcję zalogowania się do serwisu klienta.  Czym są fundusze zdefiniowanej daty? Bez względu na to, jaka instytucja finansowa zostanie wybrana do prowadzenia PPK, środki będą gromadzone w ramach funduszy zdefiniowanej daty (FZD). Każda z instytucji, która oferuje zarządzanie PPK, powinna oferować możliwość lokowania środków gromadzonych w ramach PPK w co najmniej 9 takich funduszach dla pięcioletnich przedziałów rocznikowych osób, które mogą przystąpić do PPK.  Zdefiniowana data FZD to rok, w którym wiek 60 lat osiągną osoby urodzone w roku stanowiącym środek przedziału roczników, dla których fundusz jest dedykowany. Każdy pracownik, rozpoczynający oszczędzanie w PPK, zostanie automatycznie przypisany do określonego funduszu zdefiniowanej daty, w zależności od swojej daty urodzenia. Nazwa FZD określa zdefiniowaną datę funduszu.  \\n\\n\\n\\n  \\nKiedy mogę wypłacić pieniądze z PPK? Przed ukończeniem 60 r.ż. uczestnik PPK może, bez podania przyczyny, wycofać całość środków z rachunku PPK, czyli dokonać zwrotu środków (uwaga: zwrot środków wiąże się z pomniejszeniami). Docelowo, standardowej wypłaty środków z PPK (bez pomniejszeń) można dokonać dopiero po ukończeniu 60 r.ż. Uczestnik PPK może również skorzystać z oszczędności zgromadzonych w PPK, dokonując wypłaty środków w tzw. szczególnych sytuacjach życiowych (poważna choroba lub wypłata na wkład własny przy kredycie hipotecznym).   Pamiętaj! Wszystkie dyspozycje dotyczące środków zgromadzonych na rachunku PPK składasz bezpośrednio do instytucji finansowej, która prowadzi ten rachunek.  Na jakich zasadach mogę dokonać zwrotu środków z PPK? Dopóki nie skończysz 60 lat, możesz w dowolnym momencie i bez podania przyczyny wycofać swoje oszczędności z rachunku PPK, dokonując zwrotu środków.  Po złożeniu wniosku o zwrot środków do instytucji finansowej (wycofanie wszystkich oszczędności z rachunku PPK), otrzymasz zgromadzone przez siebie środki, pomniejszone o: • podatek od zysków kapitałowych, • 30% środków pochodzących z wpłat pracodawcy - pobrane 30% zostanie przekazane do ZUS i zaewidencjonowane na Twoim indywidualnym koncie jako Twoja składka na ubezpieczenie emerytalne, • środki pochodzące z wpłaty powitalnej i dopłat rocznych od państwa.  \\n\\n\\n\\n  \\nCzym jest wypłata z PPK w tzw. szczególnych sytuacjach życiowych? Wypłata środków w szczególnych sytuacjach życiowych dotyczy wypłaty środków w przypadku: • poważnej choroby uczestnika PPK, jego małżonka lub dziecka (wypłata do 25% środków z rachunku PPK, bez obowiązku zwrotu), • pokrycia wkładu własnego w związku z zaciągnięciem kredytu hipotecznego np. na budowę domu lub zakup mieszkania, ale tylko dla uczestników PPK przed 45. rokiem życia (do 100% środków z rachunku PPK, z obowiązkiem zwrotu w ciągu maksymalnie 15 lat).  Przy wypłacie środków w przypadku choroby lub na cele mieszkaniowe uczestnik PPK nie zapłaci podatku od zysków kapitałowych.  Jak wygląda wypłata z PPK po ukończeniu 60 r.ż.? Po ukończeniu 60. roku życia uczestnik PPK może rozpocząć proces wypłat zgromadzonych oszczędności, bez względu na to, czy wciąż pracuje, czy nie.  Najkorzystniejszą opcją jest wypłata środków w formie, która nie wiąże się z koniecznością zapłaty podatku od zysków kapitałowych, czyli wypłata:   • 75% środków w co najmniej 120 miesięcznych ratach (czyli przez 10 lat lub więcej), a pozostała część – jednorazowo, • całości środków w co najmniej 120 miesięcznych ratach, • na polisę w zakładzie ubezpieczeń z prawem do świadczenia okresowego lub dożywotniego, • na rachunek terminowej lokaty oszczędnościowej na warunkach określonych w ustawie, • w formie świadczenia małżeńskiego (w co najmniej 120 miesięcznych ratach).  \\n\\n\\n\\n ',\n",
       " '\\nWedług analityków portalu w środę przeciętnie za litr diesla kierowcy płacą 7,14 zł, tj. o 14 groszy mniej niż przed tygodniem.„O 3 grosze w porównaniu do wyników ostatniego notowania jest także tańsza benzyna Pb95, której średnia ogólnopolska cena wynosi 6,69 zł/l” – czytamy. Jak podano, potaniał też autogaz – przeciętnie jego litr kosztuje 3,19 zł, czyli o 6 groszy mniej niż tydzień temu.Z informacji portalu wynika, że na paliwowej mapie Polski wyróżnia się dziś województwo łódzkie, w którym najmniej płaci się za tankowanie benzyny Pb95 – 6,61 zł/l, najniższe ceny diesla odnotowano w województwie świętokrzyskim, za który przeciętnie płacono 7,06 zł/l. Autogaz z ceną 3,15 zł/l jest najtańszy w Wielkopolsce.Natomiast najwięcej za benzynę 95-oktanową i autogaz płacono na Dolnym Śląsku – odpowiednio: 6,78 i 3,27 zł/l. Olej napędowy najdroższy jest na Mazowszu - 7,23 zł/l. \\n\\n\\n\\n ',\n",
       " '\\nKobiety z Polski, Ukrainy, Węgier, Czech i Holandii mają średnio o 13 proc. niższą pensję niż mężczyźni. Najlepsza sytuacja jest w Polsce, gdzie specjalistki IT zarabiają o 4,2 proc. mniej niż mężczyźni.No Fluff Jobs, polski serwis poświęcony pracy z widełkami wynagrodzenia w każdym ogłoszeniu, a także Roche Informatics Poland, rodzimy oddział największej firmy biotechnologicznej na świecie, postanowiły sprawdzić, jak pracuje się Polkom i kobietom z Ukrainy, Węgier, Czech i Holandii w IT i jakie wyzwania je czekają.Awanse i zmiana pracy. Co motywuje kobiety z IT40 proc. polskich specjalistek pracujących w IT awansowało w 2022 r. Te, które nie są zadowolone, szukają nowego zajęcia.W minionym roku 42 proc. kobiet w sektorze technologicznym zmieniło pracę, w tym zrobiło to 61 proc. juniorek. Dla porównania na Ukrainie w tym samym czasie awansowało ponad 54 proc., specjalistek, w Czechach – ponad 31 proc., w Holandii – ponad 26 proc., a na Węgrzech – 25 proc.General Motors redukuje zatrudnienie. Chce obniżyć koszty produkcjiPrzygoda z IT dla większości Polek, które pracują lub dopiero poszukują pracy, zaczęła się od przebranżowienia, na co wskazało 42,8 proc. ankietowanych. Co ciekawe, wśród matek ten wskaźnik jest jeszcze wyższy i sięga 52 proc. \\n\\n\\n\\n  \\n22,6 proc. kobiet w IT przybyło do branży w związku ze studiami kierunkowymi. Zdecydowana większość z nich, bo aż 76 proc., przebranżowiła się do IT w wyniku samodzielnej nauki.Dla porównania na Węgrzech i w Czechach największy odsetek kobiet pierwszą styczność z programowaniem miał już w szkole podstawowej (Węgry: blisko 8 proc., a Czechy: ponad 6 proc.) a w trakcie szkoły średniej na Węgrzech (ponad 11 proc.) i w Holandii (blisko 14 proc.).Ile zarabiają kobiety w IT?Już 71 proc. Polek z branży dostało podwyżkę w ciągu ostatniego roku, choć z obecnych zarobków zadowolona jest nieco ponad połowa z nich (56 proc.). Według wyników badania 27,5 proc. specjalistek IT nad Wisłą zarabia między 4,5 a 7 tys. zł netto.Z kolei co piąta kobieta z branży otrzymuje wynagrodzenie w przedziale 7-9,5 tys. zł netto, a kolejne 15 proc. mieści się w przedziale 9,5 tys. do 12 tys. złotych netto.Rusza światowy kongres kobiet w technologiachNajwyższe zarobki odnotowano w Holandii, gdzie specjalistki IT deklarowały, że 27 proc. z nich zarabia w przedziale 9,5 a 12 tys. zł, 23 proc. – od 12 do 14 tys. zł, 17 proc. – od 14 do 16,5 tys. zł, 12 proc. – od 16,5 do 19 tys. zł, 4 proc. – od 19 do 21 tys. zł oraz 6 proc. powyżej 23,5 tys. zł. \\n\\n\\n\\n  \\nNajwięcej najniższych pensji było na Ukrainie, gdzie 15 proc. kobiet w IT zarabia od 1-2,5 tys. zł, a 26 proc. – od 2,5 do 4,5 tys. zł.Polki, Ukrainki, Węgierki, Czeszki i Holenderki mają średnio o 13 proc. niższą pensję niż mężczyźni. Najlepsza sytuacja jest w Polsce, gdzie specjalistki IT zarabiają o 4,2 proc. mniej niż mężczyźni. Ukraińcy będą zachęcani, by nie wyjeżdżali z Polski do NiemiecDla porównania: w Holandii mniej o 14,2 proc., Czechach – o 16,4 proc., na Ukrainie – o 18,25 proc., a na Węgrzech aż o 17,2 proc.Jednocześnie, jak wynika z badania, 66 proc. kobiet w branży technologicznej nie wie, ile zarabiają mężczyźni na tym samym stanowisku i o tym samym poziomie doświadczenia.Największe wyzwania zawodowe dla kobiet w IT w 2022 r.Polki odpowiadając na pytanie dotyczące największych wyzwań zawodowych z zeszłego roku najczęściej wymieniały: dbanie o samopoczucie i radzenie sobie ze stresem (43 proc.), spadek motywacji (42 proc.) oraz zmieniająca się sytuacja gospodarcza na świecie (26 proc.).Największym wyzwaniem dla kobiet z Ukrainy (66 proc.), Czech (46 proc.) i Węgier (46 proc.) było dbanie o samopoczucie i radzenie sobie ze stresem. Specjalistki IT z Holandii najczęściej wskazywały spadek motywacji (34 proc.).TikTok na cenzurowanym. Jest dochodzenie w Kanadzie. USA, KE reagująBadanie zostało przeprowadzone metodą CAWI w okresie 16.01.2023-21.02.2023 na grupie 4651 respondentek z 5 krajów: Polski, Węgier, Ukrainy, Czech i Holandii. Ankieta była skierowana do specjalistek IT, czyli kobiet, które już pracują w branży, i kandydatek, które dopiero szukają pierwszego zatrudnienia lub są w trakcie nauki. Wśród badanych Polki stanowiły 2631 respondentek, a błąd maksymalny dla tej grupy wyniósł 2 proc. \\n\\n\\n\\n ',\n",
       " '\\nDyrektor wykonawczy MAE Fatih Birol ocenił, że zachodnie sankcje uderzające w eksport surowców energetycznych osiągnęły swój cel, którym były stabilizacja rynków naftowych i obniżenie dochodów Rosji z eksportu ropy i gazu.– Oczekujemy, że spadek dochodów z (eksportu) ropy i gazu pogłębi się w następnych miesiącach, a w średniej perspektywie będzie jeszcze większy w wyniku braku dostępu do technologii i inwestycji – powiedział Agencji Reutera Birol.Sankcje na ropę za inwazję na UkrainęPaństwa zachodniej koalicji, w skład której wchodzą Stany Zjednoczone, Australia, Kanada, Japonia i 27 krajów UE, wprowadziły od 5 grudnia ubiegłego roku limit cenowy 60 dol. za baryłkę rosyjskiej ropy, a UE nałożyła embargo na import rosyjskiej ropy drogą morską w ramach sankcji za inwazję Rosji na Ukrainę.Rafako i Gaz-System podpisały ugodę ws. budowy gazociągu na odcinku Goleniów–Płoty i projektu Tłocznia Kędzierzyn-KoźleRada UE formalnie przyjęła też 4 lutego dwa pułapy cenowe dla rosyjskich produktów ropopochodnych i dla takich produktów wywożonych z Rosji. Pułapy to 100 dol. za baryłkę produktów naftowych premium, takich jak olej napędowy, i 45 dol. za baryłkę tzw. produktów przecenionych, takich jak olej opałowy. \\n\\n\\n\\n  \\nZaczęły one obowiązywać od 5 lutego.Przewidziano 55-dniowy okres przejściowy dla statków przewożących rosyjskie produkty ropopochodne, które zostały kupione i załadowane do 5 lutego i zostaną rozładowane przed 1 kwietnia 2023 r.Ceny gazu dla biznesu zostaną obniżone od 15 marca o ponad 50 proc.Podobnie jak w przypadku pułapu cenowego na rosyjską ropę, nowe ograniczenia nałożone na produkty ropopochodne mają zastosowanie do zachodnich firm, które finansują, ubezpieczają lub wysyłają drogą morską rosyjskie produkty ropopochodne. \\n\\n\\n\\n ',\n",
       " '\\n#wieszwiecejPolub nas  \\n\\n\\n\\n ',\n",
       " '\\nJak poinformował w komunikacie giełdowym zarząd Rafako, w ramach mediacji przed sądem polubownym przy Prokuratorii Generalnej Rzeczypospolitej Polskiej doszło we wtorek do zawarcia ugody pomiędzy: Rafako SA z siedzibą w Raciborzu, PBG SA w restrukturyzacji w likwidacji z siedzibą w Wysogotowie oraz Operatorem Gazociągów Przesyłowych Gaz-System SA z siedzibą w Warszawie.Ugoda dotyczy „zawartej pomiędzy Rafako jako wykonawcą i Gaz-Systemem jako zamawiającym umowy w przedmiocie projektu Goleniów–Płoty” i „zawartej pomiędzy konsorcjum w składzie Rafako i PBG Oil and Gas (...) jako wykonawcą oraz Gaz-System jako zamawiającym umowy w przedmiocie projektu Tłocznia Kędzierzyn-Koźle”.Postanowienia ugody dotyczą m.in. „zrzeczenia się przez strony ugody wobec siebie, wszelkich roszczeń związanych z Umową Goleniów–Płoty i Umową Kędzierzyn oraz inwestycjami realizowanymi na podstawie tych umów, z wyjątkiem roszczeń wskazanych w ugodzie, które nie wpływają istotnie na prawa i obowiązki stron ugody”.#wieszwiecejPolub nasPonadto uzgodniono, że realizacja umowy Goleniów–Płoty oraz umowy Kędzierzyn zakończyły się z dniem 15 grudnia 2020 r.; potwierdzono, że wykonawca z umowy Goleniów-Płoty i wykonawca z umowy Kędzierzyn byli uprawnieni do otrzymania dotychczas zapłaconego przez Gaz-System wynagrodzenia z tych umów; Gaz-System był uprawniony do otrzymania i zaliczenia na poczet swoich wierzytelności odpowiednich kwot. Uzgodniono także sporne części wynagrodzeń.Do wtorku nie doszło natomiast do uzgodnienia ostatecznych warunków ugody pomiędzy Rafako i jego spółką zależną a firmą Tauron Wytwarzanie w sporze dotyczącym bloku energetycznego w Jaworznie. Negocjacje i mediacje są kontynuowane. \\n\\n\\n\\n  \\nNowy blok energetycznyRafako było wykonawcą wartego ponad 6 mld zł nowego bloku energetycznego Taurona o mocy 910 MW w Jaworznie. Spółki od wielu miesięcy spierają się w związku z problemami w działaniu tego bloku. Obecnie trwają mediacje przy udziale Prokuratorii Generalnej. 7 lutego strony poinformowały o zawarciu wstępnego porozumienia, zapowiadając zawarcie ugody w terminie do 8 marca. Zakładano przy tym, iż uzgodnienie ostatecznych warunków ugody może nastąpić do dnia 28 lutego, czyli do wtorku.We wtorkowy wieczór Rafako poinformowało o nieuzgodnieniu w tym terminie ostatecznych warunków ugody w ramach mediacji ze spółką Tauron Wytwarzanie oraz „kontynuowaniu negocjacji i mediacji odnośnie do uzgodnienia ostatecznych warunków ugody”.11 stycznia Tauron wezwał Rafako do zapłaty ponad 1,3 mld zł tytułem kar umownych i odszkodowań. Rafako w całości zakwestionowało żądania Taurona, zapowiadając, że zamierza złożyć wniosek o upadłość. Z kolei 13 stycznia Rafako wystąpiło do Taurona z roszczeniami na łączną kwotę 857,6 mln zł. Tauron uznał te roszczenia za nieuzasadnione. W wyniku mediacji przy udziale Prokuratorii Generalnej 7 lutego strony ogłosiły, że powstrzymają się z dochodzeniem wzajemnych roszczeń do 8 marca br. – do tego czasu planują podpisanie ugody, w której ustalą harmonogram i sposób zakończenia prac przy bloku.7 lutego strony uzgodniły, że zakończenie kontraktu na blok 910 MW nastąpi nie później niż do końca tego roku, przy czym łączna odpowiedzialność stron z tytułu realizacji kontraktu zostanie ograniczona do kwoty ustalonej w negocjowanej ugodzie. W przypadku nieuzgodnienia ostatecznych warunków i niezawarcia ugody w ustalonych terminach strony mają być uprawnione do wystąpienia względem siebie z roszczeniami związanymi z kontraktem. Również 7 lutego strony zobowiązały się, by do 28 lutego „nie występować wobec siebie oraz instytucji finansujących z żadnymi roszczeniami pieniężnymi lub niepieniężnymi, w tym żądaniami/wezwaniami do zapłaty”. W uzgodnieniach była też mowa o tym, że wezwanie Taurona do zapłaty przez wykonawcę kontraktu kwoty ponad 1,3 mld zł w części dotyczącej ponad 549,8 mln zł może być wymagalne 28 lutego, a pozostałej kwoty 762,6 mln zł – do dnia 8 marca, „przy czym wydłużenie terminu wymagalności dokonywane jest bez zrzeczenia się roszczeń”.Blok w Jaworznie uruchomiono z opóźnieniem w listopadzie 2020 r. W czerwcu 2021 r. został wyłączony z powodu usterek. Ponownie jednostkę uruchomiono – również z opóźnieniem wobec pierwotnych planów – w końcu kwietnia 2022 r. Potem blok był czasowo wyłączany jeszcze dwukrotnie. Według Rafako powodem awarii była nieodpowiednia jakość węgla dostarczanego przez Tauron. Według Taurona – przyczynami są liczne wady i usterki bloku. \\n\\n\\n\\n ',\n",
       " '\\nArden Hoffman, dyrektor ds. kadr GM, napisał w liście do pracowników, że producent samochodów z Detroit „zobowiązał się do 2 mld dol. oszczędności w ciągu najbliższych dwóch lat, które znajdziemy poprzez zmniejszenie wydatków korporacyjnych, kosztów ogólnych i złożoności wszystkich naszych produktów”.O planowanych cięciach w General Motors poinformował wcześniej „Detroit News”.#wieszwiecejPolub nas  \\n\\n\\n\\n ']"
      ]
     },
     "execution_count": 30,
     "metadata": {},
     "output_type": "execute_result"
    }
   ],
   "source": [
    "res"
   ]
  },
  {
   "cell_type": "code",
   "execution_count": 20,
   "metadata": {},
   "outputs": [],
   "source": [
    "link = links[0]\n",
    "soup = get_website(link)\n",
    "text_parts = soup.find_all('p', {'class' : \"am-article__text article__width\"})\n",
    "full_text = ' '.join([bit.get_text() for bit in text_parts])\n",
    "# for bit in text_parts:\n",
    "#   bit = bit.get_text()\n",
    "#   bit = re.sub('\\n\\n\\n((.|\\n)*)',' ', bit).replace('\\n', ' ')          \n",
    "#   bits.append(bit)\n",
    "# content = ' '.join(bits)\n",
    "# full_text =  ' '.join([heading, content])\n",
    "# full_text = re.sub('#wieszwiecejPolub nas', ' ', full_text)\n",
    "# full_text = re.sub('Zobacz także.*', ' ', full_text)\n",
    "# full_text = re.sub('Zobacz także ->', ' ',full_text)\n"
   ]
  },
  {
   "cell_type": "code",
   "execution_count": 21,
   "metadata": {},
   "outputs": [
    {
     "data": {
      "text/plain": [
       "'\\n„Krowa sika nowym płynnym złotem?” – tak zatytułował niedawno swój artykuł popularny dziennik Niderlandów. Wykorzystywanie krowiego moczu jako zamiennika sztucznego nawozu nie jest w Holandii niczym nowym. Jednak, jak zauważa „AD”, nie było to dotychczas zjawisko masowe wśród hodowców bydła. To się może zmienić dzięki toaletom dla krów.Toalety są produkowane przez jedną z holenderskich firm. „Toaleta wywołuje u krów naturalny odruch oddawania moczu poprzez lekkie dotknięcie pojemnikiem powyżej wymion; mocz jest natychmiast odsysany przez system” – zachwala producent. Podkreśla, że nie dochodzi do powstawania żadnych emisji. Cenne nawozy„Mocz zawiera azot i potas, a gęsty obornik m.in. fosforany. Dzięki czystemu sposobowi separacji hodowcy i rolnicy mogą nawozić w znacznie bardziej ukierunkowany sposób, co jest niewątpliwie korzystne dla środowiska” – ocenia na łamach dziennika „De Volkanrant” Paul Galama z Wageningen University & Research w Leeuwarden na północy kraju. #wieszwiecejPolub nasRząd premiera Marka Ruttego zdecydował w ubiegłym roku, że Niderlandy do 2030 roku zredukują liczbę emisji tlenku azotu o 70 procent. Media ujawniły ekspertyzy, z których wynika, że konieczna będzie redukcja o jedną trzecią zwierząt hodowlanych w holenderskich fermach. Na tym tle doszło do rolniczych protestów na terenie całego kraju. Blokowane były autostrady, a także centra dystrybucyjne supermarketów.W ubiegły piątek protestowali także rolnicy u południowego sąsiada. Przeszło 2,7 tys. traktorów przyjechało do Brukseli, aby wziąć udział w proteście hodowców bydła chcących wyrazić swoje niezadowolenie z planów rządu we Flandrii, który także dyskutuje nad planami ograniczenia emisji tlenku azotu.  \\n\\n\\n\\n '"
      ]
     },
     "execution_count": 21,
     "metadata": {},
     "output_type": "execute_result"
    }
   ],
   "source": [
    "bits"
   ]
  },
  {
   "cell_type": "code",
   "execution_count": 15,
   "metadata": {},
   "outputs": [
    {
     "data": {
      "text/plain": [
       "'https://www.tvp.info/68305505/w-holandii-krowy-sikaja-zlotem-tylko-w-specjalnych-toaletach'"
      ]
     },
     "execution_count": 15,
     "metadata": {},
     "output_type": "execute_result"
    }
   ],
   "source": [
    "links[0]"
   ]
  },
  {
   "cell_type": "code",
   "execution_count": 2,
   "metadata": {},
   "outputs": [],
   "source": [
    "with open('articles_metadata/articles_links.pkl', 'rb') as f:\n",
    "    links = pickle.load(f)\n",
    "    "
   ]
  },
  {
   "cell_type": "code",
   "execution_count": 3,
   "metadata": {},
   "outputs": [
    {
     "data": {
      "text/plain": [
       "'https://www.tvp.info/68305505/w-holandii-krowy-sikaja-zlotem-tylko-w-specjalnych-toaletach'"
      ]
     },
     "execution_count": 3,
     "metadata": {},
     "output_type": "execute_result"
    }
   ],
   "source": [
    "links[0]"
   ]
  },
  {
   "cell_type": "code",
   "execution_count": 6,
   "metadata": {},
   "outputs": [],
   "source": [
    "import re"
   ]
  },
  {
   "cell_type": "code",
   "execution_count": 16,
   "metadata": {},
   "outputs": [
    {
     "data": {
      "text/plain": [
       "'https://www.tvp.info/68305505/w-holandii-krowy-sikaja-zlotem-tylko-w-specjalnych-toaletach'"
      ]
     },
     "execution_count": 16,
     "metadata": {},
     "output_type": "execute_result"
    }
   ],
   "source": [
    "links[0]"
   ]
  },
  {
   "cell_type": "code",
   "execution_count": 23,
   "metadata": {},
   "outputs": [
    {
     "data": {
      "text/plain": [
       "'68289222'"
      ]
     },
     "execution_count": 23,
     "metadata": {},
     "output_type": "execute_result"
    }
   ],
   "source": [
    "x = re.search('\\/(\\d+)\\/', links[3]).group(1)\n",
    "x"
   ]
  },
  {
   "cell_type": "code",
   "execution_count": 39,
   "metadata": {},
   "outputs": [
    {
     "data": {
      "text/plain": [
       "'https://www.tvp.infohttp://www.tvpparlament.pl/aktualnosci/morawiecki-nowoczesnosc-to-moze-byc-nasze-nowe-polskie-imie/48669702'"
      ]
     },
     "execution_count": 39,
     "metadata": {},
     "output_type": "execute_result"
    }
   ],
   "source": [
    "links[4217]"
   ]
  },
  {
   "cell_type": "code",
   "execution_count": 42,
   "metadata": {},
   "outputs": [
    {
     "data": {
      "text/plain": [
       "False"
      ]
     },
     "execution_count": 42,
     "metadata": {},
     "output_type": "execute_result"
    }
   ],
   "source": [
    "bool(re.match('https://www.tvp.infohttp://', links[4212]))"
   ]
  },
  {
   "cell_type": "code",
   "execution_count": 72,
   "metadata": {},
   "outputs": [],
   "source": [
    "with open('articles_metadata/articles_links.pkl', 'rb') as f:\n",
    "    links = pickle.load(f)\n",
    "with open('articles_metadata/articles_titles.pkl', 'rb') as f:\n",
    "    titles = pickle.load(f)\n",
    "with open('articles_metadata/articles_headlines.pkl', 'rb') as f:\n",
    "    headlines = pickle.load(f)"
   ]
  },
  {
   "cell_type": "code",
   "execution_count": 73,
   "metadata": {},
   "outputs": [],
   "source": [
    "titles_clean = []\n",
    "headlines_clean = []\n",
    "links_clean = []\n",
    "for link, title, headline in zip(links, titles, headlines):\n",
    "    if bool(re.match('https://www.tvp.info\\/(\\d+)\\/', link)):\n",
    "        titles_clean.append(title)\n",
    "        headlines_clean.append(headline)\n",
    "        links_clean.append(link)\n",
    "\n"
   ]
  },
  {
   "cell_type": "code",
   "execution_count": 77,
   "metadata": {},
   "outputs": [
    {
     "data": {
      "text/plain": [
       "(0, 248123, 248123, 248123)"
      ]
     },
     "execution_count": 77,
     "metadata": {},
     "output_type": "execute_result"
    }
   ],
   "source": [
    "len(article_ids), len(titles_clean), len(headlines_clean), len(links_clean)"
   ]
  },
  {
   "cell_type": "code",
   "execution_count": 140,
   "metadata": {},
   "outputs": [],
   "source": [
    "article_ids = range(0, len(titles_clean))"
   ]
  },
  {
   "cell_type": "code",
   "execution_count": 100,
   "metadata": {},
   "outputs": [],
   "source": [
    "from utils import get_website\n",
    "import requests\n",
    "try:\n",
    "    response = requests.get('https://tvp.plds')\n",
    "except:\n",
    "    pass"
   ]
  },
  {
   "cell_type": "code",
   "execution_count": 95,
   "metadata": {},
   "outputs": [
    {
     "name": "stdout",
     "output_type": "stream",
     "text": [
      "1\n",
      "x\n",
      "2\n",
      "x\n"
     ]
    }
   ],
   "source": [
    "for i in range(1, 3):\n",
    "    print(i)\n",
    "    if i <3:\n",
    "        print('x')"
   ]
  },
  {
   "cell_type": "code",
   "execution_count": 157,
   "metadata": {},
   "outputs": [
    {
     "data": {
      "text/plain": [
       "int"
      ]
     },
     "execution_count": 157,
     "metadata": {},
     "output_type": "execute_result"
    }
   ],
   "source": [
    "from random import choices\n",
    "type(choices(population = [0, 300, 600], weights = [0.96, 0.035, 0.005])[0])"
   ]
  },
  {
   "cell_type": "code",
   "execution_count": 141,
   "metadata": {},
   "outputs": [
    {
     "data": {
      "text/plain": [
       "range(0, 248123)"
      ]
     },
     "execution_count": 141,
     "metadata": {},
     "output_type": "execute_result"
    }
   ],
   "source": [
    "article_ids"
   ]
  },
  {
   "cell_type": "code",
   "execution_count": 85,
   "metadata": {},
   "outputs": [],
   "source": [
    "with open('articles_metadata/articles_links_clean.pkl', 'wb') as f:\n",
    "    pickle.dump(links_clean, f)\n",
    "with open('articles_metadata/articles_titles_clean.pkl', 'wb') as f:\n",
    "    pickle.dump(titles_clean, f)\n",
    "with open('articles_metadata/articles_headlines_clean.pkl', 'wb') as f:\n",
    "    pickle.dump(headlines_clean, f)\n",
    "with open('articles_metadata/articles_ids_clean.pkl', 'wb') as f:\n",
    "    pickle.dump(article_ids, f)"
   ]
  },
  {
   "cell_type": "code",
   "execution_count": 147,
   "metadata": {},
   "outputs": [],
   "source": [
    "with open('articles_metadata/articles_ids_clean.pkl', 'wb') as f:\n",
    "    pickle.dump(article_ids, f)"
   ]
  },
  {
   "cell_type": "code",
   "execution_count": 148,
   "metadata": {},
   "outputs": [],
   "source": [
    "with open('articles_metadata/articles_ids_clean.pkl', 'rb') as f:\n",
    "    z = pickle.load(f)"
   ]
  },
  {
   "cell_type": "code",
   "execution_count": 149,
   "metadata": {},
   "outputs": [
    {
     "data": {
      "text/plain": [
       "range(0, 248123)"
      ]
     },
     "execution_count": 149,
     "metadata": {},
     "output_type": "execute_result"
    }
   ],
   "source": [
    "z"
   ]
  },
  {
   "cell_type": "code",
   "execution_count": 64,
   "metadata": {},
   "outputs": [],
   "source": [
    "import pickle\n",
    "log = {'checkpoint' : 0}\n",
    "with open('obtain_content/log.pkl', 'wb') as f:\n",
    "    pickle.dump(log, f)"
   ]
  },
  {
   "cell_type": "code",
   "execution_count": 65,
   "metadata": {},
   "outputs": [
    {
     "data": {
      "text/plain": [
       "{'checkpoint': 0}"
      ]
     },
     "execution_count": 65,
     "metadata": {},
     "output_type": "execute_result"
    }
   ],
   "source": [
    "with open('obtain_content/log.pkl', 'rb') as f:\n",
    "    log = pickle.load(f)\n",
    "log"
   ]
  },
  {
   "cell_type": "code",
   "execution_count": 61,
   "metadata": {},
   "outputs": [],
   "source": [
    "l = [1,2,3,4,5,6,7,8,9,10]\n"
   ]
  },
  {
   "cell_type": "code",
   "execution_count": 63,
   "metadata": {},
   "outputs": [
    {
     "name": "stdout",
     "output_type": "stream",
     "text": [
      "batch:  1\n",
      "[1, 2, 3]\n",
      "3\n",
      "batch:  2\n",
      "[4, 5, 6]\n",
      "6\n",
      "batch:  3\n",
      "[7, 8, 9]\n",
      "9\n"
     ]
    }
   ],
   "source": [
    "check = 0\n",
    "size = 3\n",
    "for i in range(1, 4):\n",
    "    print('batch: ',i)\n",
    "    x = l[check : check + size]\n",
    "    check = check + size\n",
    "    print(x)\n",
    "    print(check)\n"
   ]
  },
  {
   "cell_type": "code",
   "execution_count": null,
   "metadata": {},
   "outputs": [],
   "source": []
  },
  {
   "cell_type": "code",
   "execution_count": null,
   "metadata": {},
   "outputs": [],
   "source": [
    "l[3:]"
   ]
  },
  {
   "cell_type": "code",
   "execution_count": 66,
   "metadata": {},
   "outputs": [],
   "source": [
    "content_list = []"
   ]
  },
  {
   "cell_type": "code",
   "execution_count": 67,
   "metadata": {},
   "outputs": [],
   "source": [
    "with open('obtain_content/full_content.pkl', 'wb') as f:\n",
    "    pickle.dump(content_list, f)"
   ]
  },
  {
   "cell_type": "code",
   "execution_count": 163,
   "metadata": {},
   "outputs": [],
   "source": [
    "with open('obtain_content/full_content.pkl', 'rb') as f:\n",
    "    x= pickle.load(f) "
   ]
  },
  {
   "cell_type": "code",
   "execution_count": 164,
   "metadata": {},
   "outputs": [
    {
     "data": {
      "text/plain": [
       "[]"
      ]
     },
     "execution_count": 164,
     "metadata": {},
     "output_type": "execute_result"
    }
   ],
   "source": [
    "x"
   ]
  },
  {
   "cell_type": "code",
   "execution_count": 72,
   "metadata": {},
   "outputs": [],
   "source": [
    "with open('articles_metadata/articles_links_clean.pkl', 'rb') as f:\n",
    "    l= pickle.load(f) "
   ]
  },
  {
   "cell_type": "code",
   "execution_count": 73,
   "metadata": {},
   "outputs": [
    {
     "data": {
      "text/plain": [
       "['https://www.tvp.info/68305505/w-holandii-krowy-sikaja-zlotem-tylko-w-specjalnych-toaletach',\n",
       " 'https://www.tvp.info/68303268/plan-chin-piecioprocentowy-wzrost-gospodarczy',\n",
       " 'https://www.tvp.info/68292477/ogromny-wzrost-wplywow-z-vat-ministerstwo-finansow-pokazalo-dane',\n",
       " 'https://www.tvp.info/68289222/europejski-dzien-rownych-plac-niemcy-tylko-w-jednej-branzy-kobiety-zarabiaja-wiecej-od-mezczyzn',\n",
       " 'https://www.tvp.info/68289414/moskwa-nie-planuje-naprawy-nord-stream-1-i-2-projekt-uwaza-za-pogrzebany',\n",
       " 'https://www.tvp.info/68280509/wzrosty-kursow-akcji-na-amerykanskiej-gieldzie-wall-street',\n",
       " 'https://www.tvp.info/68272392/tym-razem-tusk-uderza-w-program-mieszkanie-plus',\n",
       " 'https://www.tvp.info/68270122/zakaz-sprzedazy-cywilnych-dronow-w-sieci-chinski-gigant-uderza-w-rosjan',\n",
       " 'https://www.tvp.info/68271034/bezrobocie-w-krajach-unii-europejskiej-polska-z-jednym-z-najnizszych-wynikow',\n",
       " 'https://www.tvp.info/68268733/prezydent-andrzej-duda-czeka-na-propozycje-instytucji-panstwowych-ws-kredytow-frankowych',\n",
       " 'https://www.tvp.info/67694052/zus-aplikacja-mzus-rozszerzona-o-kolejne-swiadczenia-dla-rodzin',\n",
       " 'https://www.tvp.info/67693312/do-8-marca-odbiorcy-wrazliwi-musza-zlozyc-oswiadczenia-w-sprawie-zwrotu-nadplaty-za-cieplo',\n",
       " 'https://www.tvp.info/67482626/chile-pozary-zniszczyly-dziesiatki-tysiecy-uli-cios-dla-rolnictwa-eksport-owocow-zmaleje',\n",
       " 'https://www.tvp.info/67482464/ppk-pracownicze-plany-kapitalowe-rezygnacja-wyplata-autozapis-zasady-najwazniejsze-informacje',\n",
       " 'https://www.tvp.info/66932813/obnizki-cen-na-stacjach-paliw',\n",
       " 'https://www.tvp.info/66928975/prawie-polowa-polek-w-it-awansowala-w-minionym-roku',\n",
       " 'https://www.tvp.info/66927764/dochody-rosji-z-eksportu-gazu-i-ropy-spadly-o-prawie-40-proc',\n",
       " 'https://www.tvp.info/66911527/rolnictwo-kontrola-miodow-liczne-przypadki-falszerstwa',\n",
       " 'https://www.tvp.info/66912347/rafako-i-gaz-system-ugoda-dotyczaca-budowy-gazociagu-na-odcinku-goleniowploty-i-projektu-tlocznia-kedzierzyn-kozle',\n",
       " 'https://www.tvp.info/66912819/usa-general-motors-redukuje-zatrudnienie-chce-obnizyc-koszty-produkcji',\n",
       " 'https://www.tvp.info/66912524/walka-z-inflacja-orlen-obniza-ceny-piekarnie-i-cukiernie-zaplaca-mniej-za-gaz',\n",
       " 'https://www.tvp.info/66920544/tanieja-bilety-pkp-intercity-premier-mateusz-morawiecki-zapowiedzial-audyt-w-firmie',\n",
       " 'https://www.tvp.info/66901833/prezes-pkn-orlen-zapowiedzial-ze-ceny-gazu-dla-biznesu-zostana-obnizone-od-15-marca-o-ponad-50-procent',\n",
       " 'https://www.tvp.info/66901080/strategia-orlenu-setki-miliardow-na-inwestycje',\n",
       " 'https://www.tvp.info/66891848/usa-elon-musk-i-tesla-pozwani-przez-akcjonariuszy',\n",
       " 'https://www.tvp.info/66873951/wiceminister-finansow-jan-patkowski-pod-koniec-roku-inflacja-bedzie-w-okolicach-10-proc-lub-ponizej',\n",
       " 'https://www.tvp.info/66874153/28-lutego-wygasaja-deklaracje-o-rezygnacji-z-ppk-co-to-oznacza-i-co-trzeba-zrobic-',\n",
       " 'https://www.tvp.info/66870579/zaplacimy-za-tresci-z-internetu',\n",
       " 'https://www.tvp.info/66870455/polska-firma-wyprodukuje-elementy-systemu-wisla-na-zamowienie-lockheed-martin-amerykanskiego-koncernu-zbrojeniowego',\n",
       " 'https://www.tvp.info/66870340/niemcy-rzad-prosi-spolke-nord-stream-2-o-rury-pozostale-po-budowie-gazociagu',\n",
       " 'https://www.tvp.info/66605518/rolnictwo-jaki-pogoda-ma-wplyw-na-rosliny-imgw-prognozuje',\n",
       " 'https://www.tvp.info/66599881/miliarderzy-bogaca-sie-w-ekspresowym-tempie-i-bija-rekordy-w-emisji-co2',\n",
       " 'https://www.tvp.info/66555326/rekordowy-kontrakt-dla-fabryki-broni-lucznik-mon-zamawia-karabinki-grot-i-karabiny-wyborowe',\n",
       " 'https://www.tvp.info/66557479/rolnictwo-problemy-na-rynku-wieprzowiny-min-dyktat-supermarketow-apel-o-interwencje-i-analize-uokik',\n",
       " 'https://www.tvp.info/66555922/grupa-pkn-orlen-wypracowala-w-iv-kw-2022-r-przychody-na-poziomie-ponad-100-mld-zl',\n",
       " 'https://www.tvp.info/66555288/tiktok-chiny-na-cenzurowanym-jest-dochodzenie-w-kanadzie-usa-komisja-europejska-reaguja',\n",
       " 'https://www.tvp.info/66536320/nowy-dworzec-w-koszalinie',\n",
       " 'https://www.tvp.info/66524950/energetyka-powstala-wyjatkowa-krzyzowka-wierzby',\n",
       " 'https://www.tvp.info/66525326/wielka-brytania-polki-w-sklepach-swieca-pustkami-rolnictwo-i-importerzy-maja-klopot',\n",
       " 'https://www.tvp.info/66513336/rosja-produkcja-samochodow-w-styczniu-spadla-o-ponad-77-proc-w-porownaniu-z-rokiem-2022',\n",
       " 'https://www.tvp.info/66498764/polska-i-usa-wzmocnily-wspolprace-w-zakresie-bezpieczenstwa-energetycznego-podpisanie-umowy-pomiedzy-spolka-polskie-elektrownie-jadrowe-pej-oraz-firmami-westinghouse',\n",
       " 'https://www.tvp.info/66485390/cena-uprawnien-do-emisji-co2-w-europie-wzrosla-do-100-euro-za-tone',\n",
       " 'https://www.tvp.info/66463024/polska-odporna-na-rosyjski-szantaz-do-polski-plynie-gazowiec-lech-kaczynski-z-lng-wideo',\n",
       " 'https://www.tvp.info/66432306/pierwszy-gazowiec-z-dostawami-lng-dla-grupy-orlen-wyruszyl-z-usa',\n",
       " 'https://www.tvp.info/66408169/agencja-sp-global-ratings-stabilny-wysoki-rating-polski']"
      ]
     },
     "execution_count": 73,
     "metadata": {},
     "output_type": "execute_result"
    }
   ],
   "source": [
    "l[:45]"
   ]
  },
  {
   "cell_type": "code",
   "execution_count": 91,
   "metadata": {},
   "outputs": [],
   "source": [
    "with open('obtain_content/full_content.pkl', 'rb') as f:\n",
    "    cont= pickle.load(f) "
   ]
  },
  {
   "cell_type": "code",
   "execution_count": 92,
   "metadata": {},
   "outputs": [
    {
     "data": {
      "text/plain": [
       "10922"
      ]
     },
     "execution_count": 92,
     "metadata": {},
     "output_type": "execute_result"
    }
   ],
   "source": [
    "len(cont)"
   ]
  },
  {
   "cell_type": "code",
   "execution_count": 86,
   "metadata": {},
   "outputs": [],
   "source": [
    ".to_csv('df.csv', encoding = 'utf-8', sep = ';')"
   ]
  },
  {
   "cell_type": "code",
   "execution_count": 90,
   "metadata": {},
   "outputs": [
    {
     "data": {
      "text/plain": [
       "'\\n                                Jak wynika z danych Megapanelu PBI/Gemius opracowanych przez Wirtualnemedia.pl, serwis tvp.info przez cały ubiegły rok notował systematyczne wzrosty odwiedzalności. W styczniu i lutym miał po ok. 360-380 tys. użytkowników, w marcu - już prawie 500 tys., od maja do września - po 520-590 tys., od października do grudnia - od 614 do 694 tys. Liczba odsłon w pierwszych siedmiu miesiącach wynosiła po 2,4-3,7 mln, a w kolejnych pięciu - po 4,1-4,8 mln. W styczniu br. serwis osiągnął rekordowe wyniki: 776,9 tys. użytkowników i 6,27 mln odsłon. \\n\\nŁącznie strony Telewizji Polskiej w styczniu tego roku zanotowały najwyższą w swojej historii liczbę użytkowników i odsłon. Odwiedziło je 3,94 mln internautów, którzy wykonali 53,01 mln odsłon (w tym 8,96 mln krajowych odsłon mobilnych).   \\nWzrosty łącznej odwiedzalności stron Telewizji Polskiej w dużym stopniu zależą od statystyk sekcji sportowej portalu tvp.pl, która skokowo zyskiwała ruch w miesiącach, w których rozgrywano duże imprezy sportowe transmitowane przez publicznego nadawcę.                                                        \\n\\n\\n\\n '"
      ]
     },
     "execution_count": 90,
     "metadata": {},
     "output_type": "execute_result"
    }
   ],
   "source": [
    "pd.DataFrame(cont).content[10808]"
   ]
  },
  {
   "cell_type": "code",
   "execution_count": 13,
   "metadata": {},
   "outputs": [],
   "source": [
    "with open('articles_metadata/articles_headlines_clean.pkl', 'rb') as f:\n",
    "    head = pickle.load(f)"
   ]
  },
  {
   "cell_type": "code",
   "execution_count": null,
   "metadata": {},
   "outputs": [],
   "source": []
  },
  {
   "cell_type": "code",
   "execution_count": 17,
   "metadata": {},
   "outputs": [
    {
     "name": "stdout",
     "output_type": "stream",
     "text": [
      "5886\n"
     ]
    }
   ],
   "source": [
    "val = 0\n",
    "for z in range(0, 109):\n",
    "    val += z\n",
    "print(val)"
   ]
  },
  {
   "cell_type": "code",
   "execution_count": 18,
   "metadata": {},
   "outputs": [],
   "source": [
    "import pandas as pd\n",
    "df = pd.DataFrame(cont).sort_values(by = 'id')"
   ]
  },
  {
   "cell_type": "code",
   "execution_count": 20,
   "metadata": {},
   "outputs": [
    {
     "data": {
      "text/plain": [
       "5400"
      ]
     },
     "execution_count": 20,
     "metadata": {},
     "output_type": "execute_result"
    }
   ],
   "source": [
    "df.id.sum()"
   ]
  },
  {
   "cell_type": "code",
   "execution_count": 22,
   "metadata": {},
   "outputs": [],
   "source": [
    "with open('articles_metadata/articles_ids_clean.pkl', 'rb') as f:\n",
    "    idx= pickle.load(f)"
   ]
  },
  {
   "cell_type": "code",
   "execution_count": 25,
   "metadata": {},
   "outputs": [],
   "source": [
    "df['id-list'] = idx[:100]"
   ]
  },
  {
   "cell_type": "code",
   "execution_count": 26,
   "metadata": {},
   "outputs": [
    {
     "data": {
      "text/html": [
       "<div>\n",
       "<style scoped>\n",
       "    .dataframe tbody tr th:only-of-type {\n",
       "        vertical-align: middle;\n",
       "    }\n",
       "\n",
       "    .dataframe tbody tr th {\n",
       "        vertical-align: top;\n",
       "    }\n",
       "\n",
       "    .dataframe thead th {\n",
       "        text-align: right;\n",
       "    }\n",
       "</style>\n",
       "<table border=\"1\" class=\"dataframe\">\n",
       "  <thead>\n",
       "    <tr style=\"text-align: right;\">\n",
       "      <th></th>\n",
       "      <th>id</th>\n",
       "      <th>content</th>\n",
       "      <th>id-list</th>\n",
       "    </tr>\n",
       "  </thead>\n",
       "  <tbody>\n",
       "    <tr>\n",
       "      <th>0</th>\n",
       "      <td>0</td>\n",
       "      <td>\\n„Krowa sika nowym płynnym złotem?” – tak zat...</td>\n",
       "      <td>0</td>\n",
       "    </tr>\n",
       "    <tr>\n",
       "      <th>1</th>\n",
       "      <td>1</td>\n",
       "      <td>\\nUstępujący premier Li Keqiang stwierdził, ...</td>\n",
       "      <td>1</td>\n",
       "    </tr>\n",
       "    <tr>\n",
       "      <th>2</th>\n",
       "      <td>2</td>\n",
       "      <td>\\nW okresie rządów PO–PSL w latach 2007–2015...</td>\n",
       "      <td>2</td>\n",
       "    </tr>\n",
       "    <tr>\n",
       "      <th>3</th>\n",
       "      <td>3</td>\n",
       "      <td>\\nInstytut Nauk Ekonomicznych i Społecznych (W...</td>\n",
       "      <td>3</td>\n",
       "    </tr>\n",
       "    <tr>\n",
       "      <th>4</th>\n",
       "      <td>4</td>\n",
       "      <td>\\nNord Stream 1 i Nord Stream 2, każdy składa...</td>\n",
       "      <td>4</td>\n",
       "    </tr>\n",
       "    <tr>\n",
       "      <th>...</th>\n",
       "      <td>...</td>\n",
       "      <td>...</td>\n",
       "      <td>...</td>\n",
       "    </tr>\n",
       "    <tr>\n",
       "      <th>95</th>\n",
       "      <td>104</td>\n",
       "      <td>\\n„Fundusz zarządzany przez Polski Fundusz Ro...</td>\n",
       "      <td>95</td>\n",
       "    </tr>\n",
       "    <tr>\n",
       "      <th>96</th>\n",
       "      <td>105</td>\n",
       "      <td>\\nOpozycja tygodniami straszyła, że Polakom z...</td>\n",
       "      <td>96</td>\n",
       "    </tr>\n",
       "    <tr>\n",
       "      <th>97</th>\n",
       "      <td>106</td>\n",
       "      <td>\\nUstawa wprowadzająca stopniowo zakaz handlu...</td>\n",
       "      <td>97</td>\n",
       "    </tr>\n",
       "    <tr>\n",
       "      <th>98</th>\n",
       "      <td>107</td>\n",
       "      <td>\\nFord oświadczył, że ma doniesienia o 17 dr...</td>\n",
       "      <td>98</td>\n",
       "    </tr>\n",
       "    <tr>\n",
       "      <th>99</th>\n",
       "      <td>108</td>\n",
       "      <td>\\nDow Jones Industrial na zamknięciu zwyżkow...</td>\n",
       "      <td>99</td>\n",
       "    </tr>\n",
       "  </tbody>\n",
       "</table>\n",
       "<p>100 rows × 3 columns</p>\n",
       "</div>"
      ],
      "text/plain": [
       "     id                                            content  id-list\n",
       "0     0  \\n„Krowa sika nowym płynnym złotem?” – tak zat...        0\n",
       "1     1  \\nUstępujący premier Li Keqiang stwierdził, ...        1\n",
       "2     2  \\nW okresie rządów PO–PSL w latach 2007–2015...        2\n",
       "3     3  \\nInstytut Nauk Ekonomicznych i Społecznych (W...        3\n",
       "4     4  \\nNord Stream 1 i Nord Stream 2, każdy składa...        4\n",
       "..  ...                                                ...      ...\n",
       "95  104  \\n„Fundusz zarządzany przez Polski Fundusz Ro...       95\n",
       "96  105  \\nOpozycja tygodniami straszyła, że Polakom z...       96\n",
       "97  106  \\nUstawa wprowadzająca stopniowo zakaz handlu...       97\n",
       "98  107  \\nFord oświadczył, że ma doniesienia o 17 dr...       98\n",
       "99  108  \\nDow Jones Industrial na zamknięciu zwyżkow...       99\n",
       "\n",
       "[100 rows x 3 columns]"
      ]
     },
     "execution_count": 26,
     "metadata": {},
     "output_type": "execute_result"
    }
   ],
   "source": [
    "df"
   ]
  },
  {
   "cell_type": "code",
   "execution_count": 32,
   "metadata": {},
   "outputs": [],
   "source": [
    "df2 = pd.DataFrame({'head':  head,\n",
    "                    'link' : l,\n",
    "                    'id-list' : idx}, index= idx)"
   ]
  },
  {
   "cell_type": "code",
   "execution_count": 42,
   "metadata": {},
   "outputs": [
    {
     "data": {
      "text/plain": [
       "248123"
      ]
     },
     "execution_count": 42,
     "metadata": {},
     "output_type": "execute_result"
    }
   ],
   "source": [
    "len(idx)"
   ]
  },
  {
   "cell_type": "code",
   "execution_count": 38,
   "metadata": {},
   "outputs": [],
   "source": [
    "idxes, cotents = [], []\n",
    "for ele in cont:\n",
    "    idxes.append(ele['id'])\n",
    "    cotents.append(ele['content'])"
   ]
  }
 ],
 "metadata": {
  "kernelspec": {
   "display_name": "masters-project",
   "language": "python",
   "name": "python3"
  },
  "language_info": {
   "codemirror_mode": {
    "name": "ipython",
    "version": 3
   },
   "file_extension": ".py",
   "mimetype": "text/x-python",
   "name": "python",
   "nbconvert_exporter": "python",
   "pygments_lexer": "ipython3",
   "version": "3.10.9"
  },
  "orig_nbformat": 4
 },
 "nbformat": 4,
 "nbformat_minor": 2
}
