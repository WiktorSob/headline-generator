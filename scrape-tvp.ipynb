{
 "cells": [
  {
   "cell_type": "code",
   "execution_count": 1,
   "metadata": {},
   "outputs": [],
   "source": [
    "import pickle\n",
    "import os\n",
    "\n"
   ]
  },
  {
   "cell_type": "code",
   "execution_count": 24,
   "metadata": {},
   "outputs": [
    {
     "data": {
      "text/plain": [
       "235640"
      ]
     },
     "execution_count": 24,
     "metadata": {},
     "output_type": "execute_result"
    }
   ],
   "source": [
    "946 * 20 + 5109 * 20 + 3830 * 20 + 430 * 20 + 367 * 20 + 1100 * 20"
   ]
  },
  {
   "cell_type": "code",
   "execution_count": 46,
   "metadata": {},
   "outputs": [],
   "source": [
    "pkl_file_list = os.listdir(os.getcwd() + '/results')\n",
    "pkl_file_list.sort()\n",
    "\n",
    "links, headlines, titles = [], [], []\n",
    "for pkl_file in pkl_file_list:\n",
    "    with open(f'results/{pkl_file}', 'rb') as f:\n",
    "        pkl_in = pickle.load(f)\n",
    "    links.extend(pkl_in[0])\n",
    "    headlines.extend(pkl_in[1])\n",
    "    titles.extend(pkl_in[2])\n",
    "    "
   ]
  },
  {
   "cell_type": "code",
   "execution_count": 47,
   "metadata": {},
   "outputs": [
    {
     "name": "stdout",
     "output_type": "stream",
     "text": [
      "253021 253021 253021\n"
     ]
    }
   ],
   "source": [
    "print(len(links), len(headlines), len(titles))"
   ]
  },
  {
   "cell_type": "code",
   "execution_count": 52,
   "metadata": {},
   "outputs": [],
   "source": [
    "with open(f'articles_metadata/articles_links.pkl', 'wb') as f:\n",
    "    pickle.dump(links, f)\n",
    "with open(f'articles_metadata/articles_headlines.pkl', 'wb') as f:\n",
    "    pickle.dump(headlines, f)\n",
    "with open(f'articles_metadata/articles_titles.pkl', 'wb') as f:\n",
    "    pickle.dump(titles, f)"
   ]
  },
  {
   "cell_type": "code",
   "execution_count": 5,
   "metadata": {},
   "outputs": [],
   "source": [
    "with open('articles_metadata/articles_links.pkl', 'rb') as f:\n",
    "    links = pickle.load(f)"
   ]
  },
  {
   "cell_type": "code",
   "execution_count": 6,
   "metadata": {},
   "outputs": [
    {
     "data": {
      "text/plain": [
       "253021"
      ]
     },
     "execution_count": 6,
     "metadata": {},
     "output_type": "execute_result"
    }
   ],
   "source": [
    "len(links)"
   ]
  },
  {
   "cell_type": "code",
   "execution_count": 53,
   "metadata": {},
   "outputs": [
    {
     "data": {
      "text/plain": [
       "False"
      ]
     },
     "execution_count": 53,
     "metadata": {},
     "output_type": "execute_result"
    }
   ],
   "source": [
    "\"False\" in links"
   ]
  },
  {
   "cell_type": "code",
   "execution_count": 46,
   "metadata": {},
   "outputs": [
    {
     "name": "stdout",
     "output_type": "stream",
     "text": [
      "https://www.tvp.info/68305505/w-holandii-krowy-sikaja-zlotem-tylko-w-specjalnych-toaletach\n"
     ]
    },
    {
     "data": {
      "text/plain": [
       "'68305505'"
      ]
     },
     "execution_count": 46,
     "metadata": {},
     "output_type": "execute_result"
    }
   ],
   "source": [
    "print(links[0])\n",
    "links[0].split('/')[3]\n"
   ]
  },
  {
   "cell_type": "code",
   "execution_count": 8,
   "metadata": {},
   "outputs": [],
   "source": [
    "from utils import get_website\n",
    "import re"
   ]
  },
  {
   "cell_type": "code",
   "execution_count": 28,
   "metadata": {},
   "outputs": [],
   "source": [
    "def get_content(link):\n",
    "    print(link)\n",
    "    soup = get_website(link)\n",
    "    text_parts = soup.find_all('p', {'class' : \"am-article__text article__width\"})\n",
    "    full_content = ' '.join([bit.get_text() for bit in text_parts])\n",
    "    return full_content"
   ]
  },
  {
   "cell_type": "code",
   "execution_count": 22,
   "metadata": {},
   "outputs": [],
   "source": [
    "from concurrent.futures import ThreadPoolExecutor, ProcessPoolExecutor"
   ]
  },
  {
   "cell_type": "code",
   "execution_count": 24,
   "metadata": {},
   "outputs": [
    {
     "data": {
      "text/plain": [
       "8"
      ]
     },
     "execution_count": 24,
     "metadata": {},
     "output_type": "execute_result"
    }
   ],
   "source": [
    "os.cpu_count()"
   ]
  },
  {
   "cell_type": "code",
   "execution_count": null,
   "metadata": {},
   "outputs": [],
   "source": []
  },
  {
   "cell_type": "code",
   "execution_count": 32,
   "metadata": {},
   "outputs": [
    {
     "name": "stdout",
     "output_type": "stream",
     "text": [
      "https://www.tvp.info/68305505/w-holandii-krowy-sikaja-zlotem-tylko-w-specjalnych-toaletach\n",
      "https://www.tvp.info/68303268/plan-chin-piecioprocentowy-wzrost-gospodarczy\n",
      "https://www.tvp.info/68292477/ogromny-wzrost-wplywow-z-vat-ministerstwo-finansow-pokazalo-dane\n",
      "https://www.tvp.info/68289222/europejski-dzien-rownych-plac-niemcy-tylko-w-jednej-branzy-kobiety-zarabiaja-wiecej-od-mezczyzn\n",
      "https://www.tvp.info/68289414/moskwa-nie-planuje-naprawy-nord-stream-1-i-2-projekt-uwaza-za-pogrzebany\n",
      "https://www.tvp.info/68280509/wzrosty-kursow-akcji-na-amerykanskiej-gieldzie-wall-street\n",
      "https://www.tvp.info/68272392/tym-razem-tusk-uderza-w-program-mieszkanie-plus\n",
      "https://www.tvp.info/68270122/zakaz-sprzedazy-cywilnych-dronow-w-sieci-chinski-gigant-uderza-w-rosjan\n",
      "https://www.tvp.info/68271034/bezrobocie-w-krajach-unii-europejskiej-polska-z-jednym-z-najnizszych-wynikow\n",
      "https://www.tvp.info/68268733/prezydent-andrzej-duda-czeka-na-propozycje-instytucji-panstwowych-ws-kredytow-frankowych\n",
      "https://www.tvp.info/67694052/zus-aplikacja-mzus-rozszerzona-o-kolejne-swiadczenia-dla-rodzin\n",
      "https://www.tvp.info/67693312/do-8-marca-odbiorcy-wrazliwi-musza-zlozyc-oswiadczenia-w-sprawie-zwrotu-nadplaty-za-cieplo\n",
      "https://www.tvp.info/67482626/chile-pozary-zniszczyly-dziesiatki-tysiecy-uli-cios-dla-rolnictwa-eksport-owocow-zmaleje\n",
      "https://www.tvp.info/67482464/ppk-pracownicze-plany-kapitalowe-rezygnacja-wyplata-autozapis-zasady-najwazniejsze-informacje\n",
      "https://www.tvp.info/66932813/obnizki-cen-na-stacjach-paliw\n",
      "https://www.tvp.info/66928975/prawie-polowa-polek-w-it-awansowala-w-minionym-roku\n",
      "https://www.tvp.info/66927764/dochody-rosji-z-eksportu-gazu-i-ropy-spadly-o-prawie-40-proc\n",
      "https://www.tvp.info/66911527/rolnictwo-kontrola-miodow-liczne-przypadki-falszerstwa\n",
      "https://www.tvp.info/66912347/rafako-i-gaz-system-ugoda-dotyczaca-budowy-gazociagu-na-odcinku-goleniowploty-i-projektu-tlocznia-kedzierzyn-kozle\n",
      "https://www.tvp.info/66912819/usa-general-motors-redukuje-zatrudnienie-chce-obnizyc-koszty-produkcji\n",
      "CPU times: user 9.44 s, sys: 112 ms, total: 9.56 s\n",
      "Wall time: 16.7 s\n"
     ]
    }
   ],
   "source": [
    "%%time\n",
    "res_1 = list()\n",
    "for link in links[:20]:\n",
    "    res_1.append(get_content(link))"
   ]
  },
  {
   "cell_type": "code",
   "execution_count": 35,
   "metadata": {},
   "outputs": [
    {
     "name": "stdout",
     "output_type": "stream",
     "text": [
      "https://www.tvp.info/68305505/w-holandii-krowy-sikaja-zlotem-tylko-w-specjalnych-toaletach\n",
      "https://www.tvp.info/68303268/plan-chin-piecioprocentowy-wzrost-gospodarczy\n",
      "https://www.tvp.info/68292477/ogromny-wzrost-wplywow-z-vat-ministerstwo-finansow-pokazalo-dane\n",
      "https://www.tvp.info/68289222/europejski-dzien-rownych-plac-niemcy-tylko-w-jednej-branzy-kobiety-zarabiaja-wiecej-od-mezczyzn\n",
      "https://www.tvp.info/68289414/moskwa-nie-planuje-naprawy-nord-stream-1-i-2-projekt-uwaza-za-pogrzebany\n",
      "https://www.tvp.info/68280509/wzrosty-kursow-akcji-na-amerykanskiej-gieldzie-wall-street\n",
      "https://www.tvp.info/68272392/tym-razem-tusk-uderza-w-program-mieszkanie-plus\n",
      "https://www.tvp.info/68270122/zakaz-sprzedazy-cywilnych-dronow-w-sieci-chinski-gigant-uderza-w-rosjan\n",
      "https://www.tvp.info/68271034/bezrobocie-w-krajach-unii-europejskiej-polska-z-jednym-z-najnizszych-wynikow\n",
      "https://www.tvp.info/68268733/prezydent-andrzej-duda-czeka-na-propozycje-instytucji-panstwowych-ws-kredytow-frankowych\n",
      "https://www.tvp.info/67694052/zus-aplikacja-mzus-rozszerzona-o-kolejne-swiadczenia-dla-rodzin\n",
      "https://www.tvp.info/67693312/do-8-marca-odbiorcy-wrazliwi-musza-zlozyc-oswiadczenia-w-sprawie-zwrotu-nadplaty-za-cieplo\n",
      "https://www.tvp.info/67482626/chile-pozary-zniszczyly-dziesiatki-tysiecy-uli-cios-dla-rolnictwa-eksport-owocow-zmaleje\n",
      "https://www.tvp.info/67482464/ppk-pracownicze-plany-kapitalowe-rezygnacja-wyplata-autozapis-zasady-najwazniejsze-informacje\n",
      "https://www.tvp.info/66932813/obnizki-cen-na-stacjach-paliw\n",
      "https://www.tvp.info/66928975/prawie-polowa-polek-w-it-awansowala-w-minionym-roku\n",
      "https://www.tvp.info/66927764/dochody-rosji-z-eksportu-gazu-i-ropy-spadly-o-prawie-40-proc\n",
      "https://www.tvp.info/66911527/rolnictwo-kontrola-miodow-liczne-przypadki-falszerstwa\n",
      "https://www.tvp.info/66912347/rafako-i-gaz-system-ugoda-dotyczaca-budowy-gazociagu-na-odcinku-goleniowploty-i-projektu-tlocznia-kedzierzyn-kozle\n",
      "https://www.tvp.info/66912819/usa-general-motors-redukuje-zatrudnienie-chce-obnizyc-koszty-produkcji\n",
      "CPU times: user 12.3 s, sys: 1.18 s, total: 13.5 s\n",
      "Wall time: 12.6 s\n"
     ]
    }
   ],
   "source": [
    "%%time\n",
    "with ThreadPoolExecutor(1) as executor:\n",
    "    res = list(executor.map(get_content, links[:20]))"
   ]
  },
  {
   "cell_type": "code",
   "execution_count": 30,
   "metadata": {},
   "outputs": [
    {
     "data": {
      "text/plain": [
       "['\\n„Krowa sika nowym płynnym złotem?” – tak zatytułował niedawno swój artykuł popularny dziennik Niderlandów. Wykorzystywanie krowiego moczu jako zamiennika sztucznego nawozu nie jest w Holandii niczym nowym. Jednak, jak zauważa „AD”, nie było to dotychczas zjawisko masowe wśród hodowców bydła. To się może zmienić dzięki toaletom dla krów.Toalety są produkowane przez jedną z holenderskich firm. „Toaleta wywołuje u krów naturalny odruch oddawania moczu poprzez lekkie dotknięcie pojemnikiem powyżej wymion; mocz jest natychmiast odsysany przez system” – zachwala producent. Podkreśla, że nie dochodzi do powstawania żadnych emisji. Cenne nawozy„Mocz zawiera azot i potas, a gęsty obornik m.in. fosforany. Dzięki czystemu sposobowi separacji hodowcy i rolnicy mogą nawozić w znacznie bardziej ukierunkowany sposób, co jest niewątpliwie korzystne dla środowiska” – ocenia na łamach dziennika „De Volkanrant” Paul Galama z Wageningen University & Research w Leeuwarden na północy kraju. #wieszwiecejPolub nasRząd premiera Marka Ruttego zdecydował w ubiegłym roku, że Niderlandy do 2030 roku zredukują liczbę emisji tlenku azotu o 70 procent. Media ujawniły ekspertyzy, z których wynika, że konieczna będzie redukcja o jedną trzecią zwierząt hodowlanych w holenderskich fermach. Na tym tle doszło do rolniczych protestów na terenie całego kraju. Blokowane były autostrady, a także centra dystrybucyjne supermarketów.W ubiegły piątek protestowali także rolnicy u południowego sąsiada. Przeszło 2,7 tys. traktorów przyjechało do Brukseli, aby wziąć udział w proteście hodowców bydła chcących wyrazić swoje niezadowolenie z planów rządu we Flandrii, który także dyskutuje nad planami ograniczenia emisji tlenku azotu.  \\n\\n\\n\\n ',\n",
       " '\\nUstępujący premier Li Keqiang stwierdził, że konieczne jest nadanie priorytetu stabilności gospodarczej i wezwał do stworzenia w tym roku w miastach około 12 mln miejsc pracy, co oznacza wzrost wobec zeszłorocznego celu, który zakładał powstanie 11 mln nowych miejsc pracy.Czytaj także: Szlaban na sprzedaż cywilnych dronów w sieci. Chiński gigant uderza w RosjanReuters przypomniał, że w ubiegłym roku chińska gospodarka wzrosła zaledwie o trzy proc., co było jednym z najgorszych wyników w ciągu ostatnich dziesięcioleci. Przyczyny takiego stanu rzeczy to przede wszystkim surowe restrykcje dot. koranawirusa, kryzys w sektorze nieruchomości, stłumienie prywatnej przedsiębiorczości i słabnący popyt na chiński eksport. \\n\\n\\n\\n  \\nCel pięciu procent wzrostu znajdował się na dolnej skali oczekiwań, gdyż – jak zaznacza Reuters – źródła w Pekinie sugerowały, że wzrost PKB może zostać określony na poziomie sześciu procent. Chiński przywódca Xi Jinping powiedział wcześniej, że oficjalnym priorytetem w tym roku jest ożywienie gospodarcze oparte na wydatkach konsumpcyjnych, po zeszłorocznym spadku wzrostu PKB, który był drugim najsłabszym wynikiem od co najmniej lat 70. ubiegłego wieku.Czytaj także: Chiński okręt w pobliżu filipińskiej wyspy. Napięcie na Morzu PołudniowochińskimReuters pisze, że wraz z ustępującym premierem odejdzie wielu innych urzędników, którzy byli zwolennikami polityki gospodarczej zorientowanej na reformy. Ustąpią oni miejsca lojalistom skupionym wokół prezydenta Xi Jinpinga, który na ubiegłorocznym kongresie Komunistycznej Partii Chin zapewnił sobie trzecią kadencję.#wieszwiecejPolub nas \\n\\n\\n\\n ',\n",
       " '\\nW okresie rządów PO–PSL w latach 2007–2015 wpływy do budżetu państwa z tytułu podatku VAT zwiększyły się z 96,35 mld do 123,12 mld złotych.To wzrost dochodów budżetowych o 27,8 proc. O ile wzrosły wpływy z VAT?Odkąd władzę objął obóz Zjednoczonej Prawicy jednym z pierwszych zadań było załatanie luki vatowskiej. Szacuje się, że w okresie rządów koalicji PO–PSL wyniosła ona aż 260 mld złotych.To przełożyło się na bezwzględne liczby.W latach 2016–2022 wpływy wzrosły ze 123,12 mld do 230,48 mld złotych. To przyrost aż o 87,2 proc. \\n\\n\\n\\n  \\nJeszcze lepiej prezentują się dane przyjęte w prognozie budżetowej na 2023 rok. Z tytułu podatku od towarów i usług do budżetu wpłynie aż 286,3 mld złotych. W porównaniu z 2016 rokiem to wzrost o 132,5 proc. „Przychody za 2023 rok byłyby istotnie wyższe, gdyby nie decyzja o utrzymaniu niższej stawki VAT na żywność” – komentuje resort. Jeszcze większe wrażenie robi zestawienie z 2007 rokiem. Od tego okresu z tytułu VAT do budżetu wpłynęło niemal trzy razy więcej środków.Dlaczego wzrosły wpływy z VAT?PiS znacznie poprawił ściągalność podatku VAT. Według danych Komisji Europejskiej w latach 2016–2020 udało się zmniejszyć lukę vatowską o 9,1 proc. To jeden z najlepszych wyników w UE. W zestawieniu opracowanym przez KE efektywniej wypadła tylko Łotwa.  \\n\\n \\n\\n\\nTak zmieniły się wpływy z tytułu VAT do budżetu państwa, odkąd władze objął rząd Zjednoczonej Prawicy (fot. mat. pras.)\\n\\n\\n\\n\\n\\n\\n  \\n„Wysokie tempo spadku luki VAT to m.in. efekt wprowadzania nowoczesnych narzędzi uszczelniających system podatkowy. Są państwa biorące z nas przykład” – informowało MF.Jak Polska poprawiła ściąganie VAT?Resort pochwalił się swoimi osiągnięciami w egzekwowaniu należnych podatków: „Zreformowaliśmy administrację skarbową, podnieśliśmy kary za przestępstwa VAT-owskie. Ulgę uczciwym przedsiębiorcom, którzy przegrywali konkurencję z podatkowymi przestępcami, przyniosły pakiety paliwowy i przewozowy (SENT). Pojawiały się pionierskie, systemowe rozwiązania, które zaczęły przynosić trwałe skutki. To m.in. mechanizm podzielonej płatności, wykaz podatników VAT i elektroniczne raportowanie. To także kolejne e-usługi administracji, kasy online, kasy w postaci oprogramowania czy e-paragon Stworzyliśmy STIR (System Teleinformatyczny Izby Rozliczeniowej). Teraz kluczem do dalszych efektów w obniżaniu luki VAT jest wykorzystanie nowoczesnych technologii” – przekazało ministerstwo.  \\n\\n\\n\\n ',\n",
       " '\\nInstytut Nauk Ekonomicznych i Społecznych (WSI) poinformował, że w 45 z 46 zbadanych branż kobiety zarabiały w ubiegłym roku mniej niż mężczyźni. „Naukowcy ocenili najnowsze dostępne dane z Federalnego Urzędu Statystycznego i Federalnej Agencji Pracy za lata 2021 i 2022. Według badania mężczyźni we wszystkich sektorach zarabiali w 2022 roku średnio 24,36 euro brutto na godzinę, a kobiety 20,05 euro. Oznacza to różnicę około 18 proc.” – podał portal.Jak wyjaśnia „Deutsche Welle” w zależności od branży ta różnica wahała się od 4 proc. w przewozach pasażerskich i towarowych do 30 proc. w ochronie zdrowia i nawet 32 \\u200b\\u200bproc. w doradztwie prawnym i podatkowym.„Jedynym wyjątkiem były usługi pocztowe. Stawka godzinowa dla kobiet w tym sektorze wynosiła 16,26 euro, czyli o dwa procent więcej niż w przypadku mężczyzn (15,93 euro). »Szklany sufit« jest nadal również na stanowiskach menadżerskich. W 26 z 34 branż, dla których dostępne były dane, kobiety rzadziej zajmowały stanowiska kierownicze niż mężczyźni” – informuje portal.Zobacz też: Polki w branży IT zarabiają mniej niż mężczyźni, ale... symbolicznie mniej \\n\\n\\n\\n ',\n",
       " '\\nNord Stream 1 i Nord Stream 2, każdy składający się z dwóch rurociągów, zostały zbudowane przez rosyjski koncern Gazprom. Miały pompować pod Bałtykiem do Niemiec 110 mld metrów sześciennych gazu ziemnego rocznie. 26 września w rurociągach stwierdzono gwałtowny spadek ciśnienia i wyciek gazu. Szybko okazało się, że doszło do trzech eksplozji, które spowodowały rozległe uszkodzenia. W połowie listopada szwedzka prokuratura podała, że na uszkodzonych gazociągach odnaleziono ślady materiałów wybuchowych.Naprawy nie będzieGazprom poinformował, że naprawa uszkodzonych nitek jest technicznie możliwa, jednak – jak przekazał Reuters – źródła zaznajomione z rosyjskimi planami przekazały, że Moskwa nie widzi szans na wystarczającą poprawę stosunków z Zachodem i w dającej się przewidzieć przyszłości rurociągi nie będą potrzebne. #wieszwiecejPolub nasJedno z rosyjskich źródeł agencji Reutera przekazało, że Rosja postrzega projekt jako „pogrzebany”. W ocenie dwóch innych źródeł pomimo braku planów naprawy, niewykluczona jest ich ewentualna reaktywacja w przyszłości. Wymagałoby to uszczelnienia uszkodzonych końców i umieszczenia w rurach specjalnej powłoki, aby zapobiec ich dalszej korozji spowodowanej wodą morską.Kto stoi za eksplozją?Moskwa utrzymuje, nie dostarczając dowodów, że za zniszczenie gazociągów odpowiedzialne są kraje Zachodu, z kolei Zachód oskarża Rosję o sabotaż. Nadal trwają śledztwa w sprawie eksplozji, prowadzone przez Danię, Niemcy i Szwecję.  \\n\\n\\n\\n ',\n",
       " '\\n– Wydaje się, że jesteśmy w fazie przeciągania liny na rynku między tematem ponownego otwarcia gospodarki Chin, co w zasadzie oznacza podwyższenie prognoz globalnego wzrostu PKB, a ponowną wyceną wyższych stóp proc. w USA – powiedział Vasileios Gkionakis, europejski szef strategii walutowej w Citi.Czytaj także: Szlaban na sprzedaż cywilnych dronów w sieci. Chiński gigant uderza w RosjanCzłonek FOMC Christopher J. Waller wskazywał na możliwość wyższego od oczekiwań docelowego przedziału stóp proc. w USA, jeśli inflacja nie zacznie trwale spadać, powołując się na zacieśniony rynek pracy. W czwartek prezes Rezerwy Federalnej z Atlanty Raphael Bostic powiedział, że „zdecydowanie” opowiada się za utrzymaniem podwyżek o ćwierć punktu procentowego.Czytaj także: Bezrobocie w UE. Polska z jednym z najniższych wynikówRynek ropy zareagował w piątek spadkami na informację Wall Street Journal o tym, że w ZEA trwa wewnętrzna debata o wyjściu z OPEC. Źródło Reutera zaprzeczyło jednak tym doniesieniom i rynek powrócił do wzrostów.#wieszwiecejPolub nas \\n\\n\\n\\n ',\n",
       " '\\nW piątek lider PO Donald Tusk spotkał się z panią Edytą z Mińska Mazowieckiego, która wynajmuje mieszkanie w ramach rządowego programu Mieszkanie Plus. Jak powiedział szef PO na konferencji prasowej, od stycznia opłaty pani Edyty – matki samotnie wychowującej dzieci – wzrosły o 400 zł miesięcznie.– To mieszkanie jest droższe niż mieszkania komercyjnie wynajmowane w Mińsku Mazowieckim – powiedział Tusk. Dodał, że „tak się dzieje wszędzie, to dotyczy praktycznie wszystkich, blisko 20 tysięcy rodzin w kraju”. Jego zdaniem korzystający z programu Mieszkanie Plus są raczej jego ofiarami niż beneficjentami.PFR odpowiada TuskowiW odpowiedzi na słowa szefa PO Polski Fundusz Rozwoju napisał na Twitterze, że prostuje nieprawdziwe informacje przekazywane w mediach przez polityków. „Czynsz najmu mieszkania 50 m2 w prog. PFR Nieruchomości w Mińsku Maz. wynosi 1685 zł. To wraz z dopłatami do czynszu ok. 30 proc. zł taniej niż na rynku komercyjnym. To oznacza do 6 tys. zł więcej w portfelu najemców rocznie” – podano.  \\n\\n\\n\\n  \\nJak dodano, mieszkania w Mińsku Maz. są zaplanowane w formule dojścia do własności (DDW), podobnie jak inne inwestycje PFR Nieruchomości, w których dojście do własności zapowiedziano.W połowie lutego Polski Fundusz Rozwoju i PFR Nieruchomości ogłosiły zasady wsparcia finansowego dla wszystkich mieszkańców osiedli wybudowanych w ramach rynkowej części rządowego programu mieszkaniowego.Wsparcie dla mieszkańcówZapowiedziano, że obecnie oferowana stawka czynszu oraz kaucja nie będą podlegać waloryzacji o wskaźnik inflacji do końca 2025 r. Dzięki temu przeciętna kwota oszczędności dla budżetu domowego najemcy ma wynieść nieco ponad 5 tys. zł. Dodatkowym wsparciem ma być zwrot kaucji w wysokości jednomiesięcznego czynszu, który będzie dotyczył wszystkich najemców osiedli Funduszu Mieszkań dla Rozwoju. Średnio dla najemcy będzie to 1500 zł oszczędności.PFR Nieruchomości SA podkreśliły, że jako jedyna na polskim rynku spółka – oferuje umowy najmu ze stopniowym dochodzeniem do własności. Z tej oferty korzystają już najemcy w Białej Podlaskiej, a w najbliższym czasie ma zostać ona zaproponowana mieszkańcom osiedla w Gdyni przy ul. Puszczyka. „Umowy najmu instytucjonalnego z dojściem do własności zostaną także zaoferowane wszystkim najemcom inwestycji, w których ta opcja została zadeklarowana, czyli w Krakowie, w Radomiu, w Katowicach, w Dębicy, w Świdniku, w Łowiczu, w Mińsku Mazowieckim, w Nowym Targu, w Wałbrzychu, we Wrześni i w Zamościu” – podano w komunikacie spółki. \\n\\n\\n\\n ',\n",
       " '\\nPortal, powołując się m.in. na ukraińskie źródła, podaje, że chociaż karty produktów pozostają w rosyjskiej wersji chińskiej platformy, to po przejściu do sklepu pojawia się i komunikat: „Ta strona nie istnieje”. Ponadto firma DJI usunęła mobilne oprogramowanie do sterowania dronami z rosyjskiej wersji AppStore (sklep mobilny Apple).Od czwartku Rosjanie nie mogą kupić na AliExpress dronów, baterii, futerałów, gogli, niektórych części i akcesoriów powyższych marek. W przypadku niektórych zakupionych już dronów producenci wprowadzili ograniczenie wysokości lotu – ale prawdopodobnie można je obejść po instalacji odpowiedniego oprogramowania – zauważa belsat.eu.Drony te były wcześniej wykorzystywane przez Rosjan na Ukrainie do celów rozpoznawczych i dywersyjnych. Użytkownicy z Ukrainy nadal mogą je nabywać.Portal zebrał opinie ekspertów na temat tego posunięcia. Część z nich uważa, że niektórzy rosyjscy użytkownicy prawdopodobnie odmówią zakupu chińskich dronów, ponieważ ceny na AliExpress są znacznie niższe niż w sklepach detalicznych. Jednak nabywcy hurtowi raczej nie odczują skutków zakazu, ponieważ mają innych dostawców. \\n\\n\\n\\n  \\nDmitrij Korniew, rosyjski ekspert wojskowy i założyciel portalu Military Russia, cytowany przez belsat.eu twierdzi, że drony DJI Mavic są aktywnie wykorzystywane w wojnie na Ukrainie do rekonesansu. Analityk zasugerował, że zagraniczni partnerzy naciskali na chińskie władze lub samą firmę DJI, by zaprzestała ich dostaw do Rosji. „Chińczycy już dawno przestali oficjalnie sprzedawać takie drony, ale teraz uniemożliwiają także ich wykorzystanie w działaniach zbrojnych” – czytamy.DJI wstrzymała dostawy swoich dronów do Rosji i Ukrainy w kwietniu. Firma oznajmiła, że jest przeciwna ich wykorzystywaniu w walce. Przyznała jednak, że nie może całkowicie zastopować sprzedaży przez inne podmioty na rynku. \\n\\n\\n\\n ',\n",
       " '\\n– Unijny urząd statystyczny po raz kolejny potwierdza dobrą i stabilną sytuację na naszym rynku pracy. To niewątpliwy sukces, który zawdzięczamy odpowiedniej polityce rządu Zjednoczonej Prawicy. Osiągnęliśmy drugi najlepszy wynik w Unii Europejskiej, wyprzedzają nas jedynie Czechy z wynikiem 2,5 proc. Jak już wielokrotnie udowodniliśmy, potrafimy mierzyć się ze światowymi kryzysami – powiedziała cytowana w rządowym komunikacie minister rodziny i polityki społecznej Marlena Maląg. Jak zwróciła uwagę szefowa resortu, „pandemia, jaka dotknęła cały świat, w wielu krajach doprowadziła do niewyobrażalnego bezrobocia, my wyszliśmy z niej obronną ręką”. – Kolejną próbą była wojna na Ukrainie. Zdaliśmy egzamin z człowieczeństwa, zapewniając obywatelom tego kraju zatrudnienie, jednocześnie chroniąc polski rynek pracy – zaznaczyła Maląg. Stopy bezrobocia w krajach UE Po Czechach i Polsce na liście – pod względem stopy bezrobocia – znajdują się Niemcy i Malta – po 3 proc., Słowenia – 3,2 proc. Krajem z najwyższym wskaźnikiem bezrobocia – 13 proc. – jest Hiszpania. Dwucyfrowy wynik – 10,8 proc. osiągnęła ponownie Grecja, jednak stopa bezrobocia w tym kraju spadła z 12,4 proc. w grudniu 2022 r. W całej Unii Europejskiej stopa bezrobocia wyniosła 6,1 proc.    \\n\\n \\n\\n\\n(fot. mat pras.)\\n\\n\\n\\n\\n\\n\\n ',\n",
       " '\\n– Nie toczą się obecnie żadne prace w Kancelarii Prezydenta RP nad ustawą dotyczącą kredytów frankowych. Wiem, bo prowadziłem rozmowy, że takie prace i dyskusje koncepcyjne toczą się w różnych innych instytucjach państwa – powiedział dziennikarzom w przerwie XXIII Konferencji Rynku Kapitałowego w Bukowinie Tatrzańskiej prezydent Andrzej Duda.Dodał, że jest wstępnie umówiony na ten temat z przedstawicielami kilku instytucji. – Oni chcą przedstawić różne rozwiązania koncepcyjne, nad którymi się pracuje w tej chwili – mówił prezydent Duda.Jego zdaniem takie spotkanie „pewnie będzie w najbliższym czasie”.Konferencja Rynku Kapitałowego w Bukowinie Tatrzańskiej to coroczne spotkanie przedstawicieli rynku kapitałowego – inwestorów, spółek giełdowych, domów maklerskich, banków, organów rządowych, giełd i instytucji rozliczeniowych, organizacji biznesowych i samorządowych.Tegoroczna konferencja odbywa się pod hasłem Uczestnicy rynku kapitałowego wobec wyzwań współczesnej gospodarki. \\n\\n\\n\\n ',\n",
       " '\\nAplikację mZUS dla rodziców pierwszy raz udostępniono 14 listopada 2022 r. Można jej używać na urządzeniach mobilnych z systemami operacyjnymi Android i iOS.Jest do pobrania bezpłatnie ze sklepów Google Play i App Store. Klienci ZUS pobrali ją na 100 tys. urządzeń mobilnych.  – Rodzice i opiekunowie przekonali się już, że złożenie wniosku o świadczenie rodzina 500 Plus lub Dobry Start 300 Plus przy pomocy aplikacji mZUS trwa zaledwie kilka minut. Teraz przy pomocy smartfonu czy tabletu mogą ubiegać się także o pozostałe nowoczesne świadczenia dla rodzin z ZUS. Wystarczy, że zaktualizują aplikację – powiedziała prezes ZUS prof. Gertruda Uścińska.  Dodała, że nowa wersja oprogramowania została rozszerzona o wnioski dotyczące dofinansowania opłaty za pobyt dziecka w żłobku, w klubie dziecięcym lub u dziennego opiekuna (tzw. żłobkowe) i Rodzinnego Kapitału Opiekuńczego.  \\n\\n\\n\\n  \\nPrezes ZUS wskazała, że wnioski o wszystkie te świadczenia składane są jedynie drogą elektroniczną, co jest dużym ułatwieniem dla rodziców i opiekunów. Wniosek o wsparcie mogą złożyć przez całą dobę niezależnie od godzin otwarcia urzędu. Udogodnieniem dla rodziców jest możliwość utworzenia nowego wniosku na podstawie poprzedniego, jeśli taki był składany przez aplikację mZUS lub bezpośrednio na Platformie Usług Elektronicznych (PUE) ZUS. Dzięki temu większość informacji uzupełni się automatycznie. Jeśli dane się zmieniły, przed wysłaniem można je edytować.  Aplikacja mZUS to nie tylko świadczenia dla rodzin. Dzięki niej można również nawiązać telefoniczny kontakt z infolinią ZUS (COT), przejść do strony, która umożliwia rezerwację e–wizyty w ZUS, odczytać wiadomości, które pojawiły się na indywidualnym profilu na PUE czy otrzymać powiadomienia, które przypomną na przykład o możliwości składania wniosków na nowy okres świadczeniowy.  Aby aktywować aplikację, należy powiązać ją ze swoim profilem na Platformie Usług Elektronicznych ZUS. Proces aktywacji i powiązania aplikacji z profilem PUE został opisany krok po kroku na początkowych ekranach startowych aplikacji. Bez posiadania profilu na PUE nie można korzystać z aplikacji.  Liczba zarejestrowanych profili na PUE ZUS przekroczyła 11,3 mln.   \\n\\n\\n\\n ',\n",
       " '\\nW środę 1weszły w życie znowelizowane przepisy dotyczące ochrony odbiorców ciepła systemowego. Gwarantują one, że w trwającym sezonie grzewczym maksymalny wzrost cen za dostawę ciepła systemowego nie może przekroczyć 40 proc. ceny obowiązującej 30 września 2022 r.„Gwarancja obejmuje pełną cenę płaconą przez odbiorcę, czyli wartość całego rachunku za ciepło, wraz ze wszystkimi jego elementami składowymi” – poinformowała PAP PGE Energia Ciepła (PGE EC). Wskazała, że system wsparcia obejmuje wszystkich odbiorców wrażliwych objętych nadzwyczajnymi rozwiązaniami rządu. „Spółka dla każdej grupy taryfowej i dla każdego m-ca będzie badać ten warunek i jeżeli jest spełniony to będzie stosować cenę maksymalną” – dodała PGE Energia Ciepła. Korekty faktur Wyjaśniono, że aby ze wsparcia skorzystać, odbiorcy wrażliwi, tj. ich pełnomocnicy (np. zarządca wspólnoty mieszkaniowej) muszą złożyć bezpośrednio do swojego sprzedawcy ciepła (dystrybutor ciepła) do 8 marca oświadczenia o spełnieniu warunków pozwalających na uznanie odbiorcy za podmiot uprawniony (z wyłączeniem odbiorców fizycznych). PGE EC dodała, że oświadczenia złożone w ramach poprzedniej ustawy (z 15/09/2022) zachowują ważność i nie ma potrzeby składania ich ponownie. „Mieszkańcy nie muszą nic w tym zakresie robić” – podkreśliła PGE EC. \\n\\n\\n\\n  \\n„Ustawa obowiązuje od 1 marca 2023 r., ale obniżone ceny obowiązują z mocą wsteczną od 1 października 2022 r. Nadpłaty powstałeod października do końca lutego zostaną rozliczone przez korekty faktur” – podała spółka. „Ustawodawca przewidział czas do połowy kwietnia na złożenie wniosku przez przedsiębiorstwo o wyrównanie za okres od października 2022 r do lutego 2023 r. do zarządcy rozliczeń, który ma 14 dni na wypłatę świadczenia dla przedsiębiorstwa, a następnie przedsiębiorstwo w ciągu siedmiu dni od otrzymania wyrównania od zarządcy rozliczeń ma skorygować faktury dla odbiorców (spółdzielnie, wspólnoty)” – wyjaśniła PGE Energia Ciepła. Kogo dotyczą przepisy PGE EC zwróciła też uwagę, że stawki płacone za ciepło z sieci ciepłowniczych znacząco różnią się w poszczególnych miastach i gminach w zależności od szeregu czynników, takich jak sposób wytwarzania ciepła, rodzaj paliwa, wydajność i wielkość jednostki wytwórczej, a także wielkość i stan techniczny systemu dystrybucji ciepła. „Oszczędności dla odbiorców będą wynikać z obowiązujących cen ciepła w danym mieście, ograniczonych do ceny maksymalnej określonej zgodnie z ustawą” – zaznaczyła spółka.Przepisy dotyczą odbiorców ciepła systemowego takich jak takich jak gospodarstwa domowe; szpitale; żłobki; przedszkola; szkoły; domy pomocy społecznej i inne instytucje użyteczności publicznej; wspólnoty mieszkaniowe; spółdzielnie mieszkaniowe, które zapewniają dostawy ciepła do lokali mieszkalnych i lokali instytucji użyteczności publicznej.  \\n\\n\\n\\n ',\n",
       " '\\n \\n\\n\\n\\n ',\n",
       " '\\nAutozapis do PPKZgodnie z ustawą o pracowniczych planach kapitałowych w tym roku odbędzie się tzw. autozapis do PPK. Odbywa się on co cztery lata. Kolejny tzw. autozapis odbędzie się w 2027 roku.  Do 28 lutego 2023 roku pracodawca miał obowiązek poinformować o tzw. ponownym autozapisie do PPK osoby, które złożyły deklarację o rezygnacji z dokonywania wpłat. Od 1 kwietnia pracodawca wznowi za taką osobę dokonywanie wpłat do PPK.  28 lutego wygasły deklaracje o rezygnacji z dokonywania wpłat do PPK. Kolejną deklarację o rezygnacji z dokonywania wpłat do PPK, pracownik może złożyć od 1 marca. Będzie ona obowiązywała do momentu złożenia wniosku o dokonywanie wpłat do PPK, bądź do kolejnego tzw. autozapisu, który odbędzie się w 2027 roku. #wieszwiecejPolub nasOd 1 kwietnia pracodawcy będą dokonywać wpłat za uczestników PPK z wyłączeniem osób, które złożą ponownie rezygnację z dokonywania wpłat do PPK. Przekazanie składek do instytucji finansowych za osoby, które dołączą do PPK w ramach autozapisu, jest możliwe między 1 a 17 kwietnia.– Osoby, które oszczędzają i chcą nadal oszczędzać w PPK – a jest ich prawie 2,6 mln – w związku z rozpoczętym w środę autozapisem nie muszą robić kompletnie nic. Dalej będą oszczędzać, ich autozapis nie dotyczy. Kolejna grupa to osoby, które kiedyś wypisały się z PPK, ale zdecydowały się teraz, że chcą jednak oszczędzać w PPK – one także nie muszą nic robić, bo autozapis – jak sama nazwa wskazuje – zrobi to za nich. Staną się automatycznie uczestnikami PPK. Trzecia grupa to osoby, które kiedyś się wypisały i nadal chcą podtrzymać swoją decyzję – one powinny między 1 a 31 marca – najlepiej przed datą swojej wypłaty, żeby później nie trzeba było robić korekt – złożyć w kadrach pracodawcy deklarację rezygnacji. To prosta deklaracja, można wykorzystać tutaj załącznik do odpowiedniego rozporządzenia, albo po prostu samemu napisać oświadczenie o rezygnacji. Wówczas nie staną się uczestnikami PPK – informował Bartosz Marczuk, wiceprezes Polskiego Funduszu Rozwoju.  \\n\\n\\n\\n  \\nPoniżej przedstawiamy najważniejsze pytania i odpowiedzi dotyczące zasad działania PPK, które przedstawiono na stronach mojeppk.pl. oraz biznes.gov.pl.Na czym polega oszczędzanie w PPK? PPK to program długoterminowego oszczędzania w miejscu pracy, w którym na prywatny rachunek pracownika wpływają wpłaty od pracodawcy, wpłaty samego pracownika oraz wpłata powitalna i dopłaty roczne od państwa. Instytucja, która prowadzi PPK, wybierana jest przez pracodawcę w porozumieniu z przedstawicielstwem pracowników. Środki gromadzone w programie PPK inwestowane są w fundusze zdefiniowanej daty, dopasowane strukturą inwestycji do wieku uczestników. Fundusz, w którym oszczędzamy (fundusz inwestycyjny, fundusz emerytalny lub ubezpieczeniowy fundusz kapitałowy), lokuje gromadzone przez nas oszczędności w papiery wartościowe i inne prawa majątkowe.  Celem programu PPK jest zgromadzenie dodatkowych oszczędności na okres po zakończeniu aktywności zawodowej i choć środki z PPK uczestnik może wycofać wcześniej (zwrot), to jednak najbardziej opłacalne jest odkładanie środków i inwestowanie ich w długim okresie. PPK to program, którego siła tkwi w systematyczności - podstawowej zasadzie długoterminowego oszczędzania - regularne inwestowanie stałych kwot powoduje, że krótkotrwałe wahania koniunktury mają zdecydowanie mniejszy wpływ na cały portfel inwestycji.  Specyfika gromadzenia oszczędności w funduszach ze swojej istoty związana jest z ryzykiem. Niemniej w przypadku funduszy zdefiniowanej daty ryzyko to jest minimalizowane dzięki szczególnym rozwiązaniom wdrożonym w programie PPK - począwszy od rygorystycznych warunków, które zobowiązane są spełniać instytucje oferujące zarządzanie PPK, poprzez ustanowienie nad nimi nadzoru Komisji Nadzoru Finansowego i ustawowe uregulowanie zasad polityki inwestycyjnej (zmieniającej się wraz z wiekiem uczestnika) oraz określenie limitów kosztów zarządzania. Dla kogo jest PPK?PPK obejmowani są pełnoletni zatrudnieni pracujący na umowy, od których odprowadzane są obowiązkowe składki emerytalno-rentowe. Są to:• pracownicy (osoby zatrudniona na podstawie umowy o pracę, powołania, wyboru, mianowania lub spółdzielczej umowy o pracę);• osoby fizyczne wykonujące pracę nakładczą;• członkowie rolniczych spółdzielni produkcyjnych lub spółdzielni kółek rolniczych;• osoby fizyczne - wykonujące pracę na podstawie umowy agencyjnej lub umowy zlecenia albo innej umowy o świadczenie usług;• członkowie rad nadzorczych wynagradzanych z tytułu pełnienia tych funkcji;• osoby przebywające na urlopach wychowawczych lub pobierające zasiłek macierzyński lub zasiłek w wysokości zasiłku macierzyńskiego. \\n\\n\\n\\n  \\nSkąd bierze się wartość środków zgromadzonych w PPK? Pieniądze wpłacane na rachunek PPK są przeliczane na jednostki uczestnictwa/jednostki rozrachunkowe funduszu, w którym oszczędzasz, a na Twoim rachunku PPK zapisywana jest liczba tych jednostek. Wartość jednostki zależy od wyceny aktywów i zobowiązań funduszu i może podlegać codziennym zmianom, co powoduje, że wartość środków na rachunku PPK najczęściej nie odpowiada wartości wpłat do PPK. Wartość środków na rachunku PPK może być wyższa lub niższa niż dokonane na niego wpłaty – dla uczestnika PPK będzie to oznaczać odpowiednio zysk albo stratę.   Wartość środków zgromadzonych na rachunku PPK uwzględnia dokonane na ten rachunek wpłaty, wynik inwestycyjny i dokonane przez Ciebie transakcje na danym rachunku (np. wypłaty czy zwroty).  Jak sprawdzić, czy oszczędzam w PPK? W celu sprawdzenia, czy jesteś uczestnikiem PPK, powinieneś zgłosić się do swojego pracodawcy. Zapytaj bezpośrednio w dziale kadr i płac, czy pracodawca zawarł w Twoim imieniu i na Twoją rzecz umowę o prowadzenie PPK (zapisał Cię do PPK).  Pamiętaj, że w dokumencie RMUA, który otrzymujesz od swojego pracodawcy, możesz sprawdzić, czy pracodawca nalicza dla Ciebie wpłaty do PPK. RMUA to informacja miesięczna dla osoby ubezpieczonej, która dotyczy składek ZUS naliczonych od wynagrodzenia. W dokumencie tym płatnik składek (czyli pracodawca) wskazuje również kwotę finansowanej dla pracownika wpłaty do PPK.  \\n\\n\\n\\n  \\nCzy mogę zmienić instytucję finansową, w której oszczędzam? Nie. Pracownik nie może tego zrobić. Instytucję finansową może natomiast zmienić pracodawca. W takiej sytuacji ma on obowiązek niezwłocznie (nie później niż w terminie 7 dni od dnia zawarcia umowy o zarządzanie PPK z nową instytucją finansową) zawrzeć umowy o prowadzenie PPK w imieniu i na rzecz pracowników, którzy w dniu poprzedzającym dzień zawarcia przez pracodawcę umowy o zarządzanie PPK z inną instytucją mieli zawartą umowę o prowadzenie PPK.  Czym jest rachunek PPK? W programie PPK uczestnik posiada swój prywatny, indywidualny rachunek PPK – tam trafiają wszystkie wpłaty, finansowane przez pracownika i pracodawcę oraz wpłata powitalna i dopłaty roczne od państwa. Pracownik może posiadać wiele rachunków PPK w różnych instytucjach finansowych.  Pieniądze wpłacane na rachunek PPK są przeliczane na jednostki uczestnictwa albo jednostki rozrachunkowe funduszu, w którym oszczędzamy, a na naszym rachunku PPK zapisywana jest liczba tych jednostek. Wartość jednostki zależy od wyceny aktywów i zobowiązań funduszu oraz może podlegać codziennym zmianom, co powoduje, że wartość środków na rachunku PPK najczęściej nie odpowiada wartości wpłat do PPK. Wartość środków na rachunku PPK może być wyższa lub niższa niż dokonane na niego wpłaty – dla uczestnika PPK będzie to oznaczać odpowiednio zysk albo stratę.  Oszczędzający w PPK mają nieograniczony dostęp do informacji o bieżącej wysokości środków na rachunku PPK bezpośrednio w instytucji finansowej oraz mogą podejmować swobodne decyzje dotyczące m.in. wycofania środków z PPK czy przenoszenia oszczędności pomiędzy funduszami zdefiniowanej daty.  \\n\\n\\n\\n  \\nJak uzyskać dostęp do rachunku PPK w instytucji finansowej? Niezwłocznie po zapisaniu pracownika do PPK (zawarciu w jego imieniu umowy o prowadzenie PPK), instytucja finansowa zobowiązana jest udostępnić mu informację o zawarciu tej umowy. W takim „pakiecie powitalnym” od instytucji finansowej powinny znaleźć się informacje jak zalogować się na swój rachunek PPK.   Jeśli nie otrzymałeś informacji o przystąpieniu do PPK - ani pocztą tradycyjną, ani elektronicznie, powinieneś zgłosić się do instytucji finansowej, która prowadzi Twój rachunek i poprosić o instrukcję zalogowania się do serwisu klienta.  Czym są fundusze zdefiniowanej daty? Bez względu na to, jaka instytucja finansowa zostanie wybrana do prowadzenia PPK, środki będą gromadzone w ramach funduszy zdefiniowanej daty (FZD). Każda z instytucji, która oferuje zarządzanie PPK, powinna oferować możliwość lokowania środków gromadzonych w ramach PPK w co najmniej 9 takich funduszach dla pięcioletnich przedziałów rocznikowych osób, które mogą przystąpić do PPK.  Zdefiniowana data FZD to rok, w którym wiek 60 lat osiągną osoby urodzone w roku stanowiącym środek przedziału roczników, dla których fundusz jest dedykowany. Każdy pracownik, rozpoczynający oszczędzanie w PPK, zostanie automatycznie przypisany do określonego funduszu zdefiniowanej daty, w zależności od swojej daty urodzenia. Nazwa FZD określa zdefiniowaną datę funduszu.  \\n\\n\\n\\n  \\nKiedy mogę wypłacić pieniądze z PPK? Przed ukończeniem 60 r.ż. uczestnik PPK może, bez podania przyczyny, wycofać całość środków z rachunku PPK, czyli dokonać zwrotu środków (uwaga: zwrot środków wiąże się z pomniejszeniami). Docelowo, standardowej wypłaty środków z PPK (bez pomniejszeń) można dokonać dopiero po ukończeniu 60 r.ż. Uczestnik PPK może również skorzystać z oszczędności zgromadzonych w PPK, dokonując wypłaty środków w tzw. szczególnych sytuacjach życiowych (poważna choroba lub wypłata na wkład własny przy kredycie hipotecznym).   Pamiętaj! Wszystkie dyspozycje dotyczące środków zgromadzonych na rachunku PPK składasz bezpośrednio do instytucji finansowej, która prowadzi ten rachunek.  Na jakich zasadach mogę dokonać zwrotu środków z PPK? Dopóki nie skończysz 60 lat, możesz w dowolnym momencie i bez podania przyczyny wycofać swoje oszczędności z rachunku PPK, dokonując zwrotu środków.  Po złożeniu wniosku o zwrot środków do instytucji finansowej (wycofanie wszystkich oszczędności z rachunku PPK), otrzymasz zgromadzone przez siebie środki, pomniejszone o: • podatek od zysków kapitałowych, • 30% środków pochodzących z wpłat pracodawcy - pobrane 30% zostanie przekazane do ZUS i zaewidencjonowane na Twoim indywidualnym koncie jako Twoja składka na ubezpieczenie emerytalne, • środki pochodzące z wpłaty powitalnej i dopłat rocznych od państwa.  \\n\\n\\n\\n  \\nCzym jest wypłata z PPK w tzw. szczególnych sytuacjach życiowych? Wypłata środków w szczególnych sytuacjach życiowych dotyczy wypłaty środków w przypadku: • poważnej choroby uczestnika PPK, jego małżonka lub dziecka (wypłata do 25% środków z rachunku PPK, bez obowiązku zwrotu), • pokrycia wkładu własnego w związku z zaciągnięciem kredytu hipotecznego np. na budowę domu lub zakup mieszkania, ale tylko dla uczestników PPK przed 45. rokiem życia (do 100% środków z rachunku PPK, z obowiązkiem zwrotu w ciągu maksymalnie 15 lat).  Przy wypłacie środków w przypadku choroby lub na cele mieszkaniowe uczestnik PPK nie zapłaci podatku od zysków kapitałowych.  Jak wygląda wypłata z PPK po ukończeniu 60 r.ż.? Po ukończeniu 60. roku życia uczestnik PPK może rozpocząć proces wypłat zgromadzonych oszczędności, bez względu na to, czy wciąż pracuje, czy nie.  Najkorzystniejszą opcją jest wypłata środków w formie, która nie wiąże się z koniecznością zapłaty podatku od zysków kapitałowych, czyli wypłata:   • 75% środków w co najmniej 120 miesięcznych ratach (czyli przez 10 lat lub więcej), a pozostała część – jednorazowo, • całości środków w co najmniej 120 miesięcznych ratach, • na polisę w zakładzie ubezpieczeń z prawem do świadczenia okresowego lub dożywotniego, • na rachunek terminowej lokaty oszczędnościowej na warunkach określonych w ustawie, • w formie świadczenia małżeńskiego (w co najmniej 120 miesięcznych ratach).  \\n\\n\\n\\n ',\n",
       " '\\nWedług analityków portalu w środę przeciętnie za litr diesla kierowcy płacą 7,14 zł, tj. o 14 groszy mniej niż przed tygodniem.„O 3 grosze w porównaniu do wyników ostatniego notowania jest także tańsza benzyna Pb95, której średnia ogólnopolska cena wynosi 6,69 zł/l” – czytamy. Jak podano, potaniał też autogaz – przeciętnie jego litr kosztuje 3,19 zł, czyli o 6 groszy mniej niż tydzień temu.Z informacji portalu wynika, że na paliwowej mapie Polski wyróżnia się dziś województwo łódzkie, w którym najmniej płaci się za tankowanie benzyny Pb95 – 6,61 zł/l, najniższe ceny diesla odnotowano w województwie świętokrzyskim, za który przeciętnie płacono 7,06 zł/l. Autogaz z ceną 3,15 zł/l jest najtańszy w Wielkopolsce.Natomiast najwięcej za benzynę 95-oktanową i autogaz płacono na Dolnym Śląsku – odpowiednio: 6,78 i 3,27 zł/l. Olej napędowy najdroższy jest na Mazowszu - 7,23 zł/l. \\n\\n\\n\\n ',\n",
       " '\\nKobiety z Polski, Ukrainy, Węgier, Czech i Holandii mają średnio o 13 proc. niższą pensję niż mężczyźni. Najlepsza sytuacja jest w Polsce, gdzie specjalistki IT zarabiają o 4,2 proc. mniej niż mężczyźni.No Fluff Jobs, polski serwis poświęcony pracy z widełkami wynagrodzenia w każdym ogłoszeniu, a także Roche Informatics Poland, rodzimy oddział największej firmy biotechnologicznej na świecie, postanowiły sprawdzić, jak pracuje się Polkom i kobietom z Ukrainy, Węgier, Czech i Holandii w IT i jakie wyzwania je czekają.Awanse i zmiana pracy. Co motywuje kobiety z IT40 proc. polskich specjalistek pracujących w IT awansowało w 2022 r. Te, które nie są zadowolone, szukają nowego zajęcia.W minionym roku 42 proc. kobiet w sektorze technologicznym zmieniło pracę, w tym zrobiło to 61 proc. juniorek. Dla porównania na Ukrainie w tym samym czasie awansowało ponad 54 proc., specjalistek, w Czechach – ponad 31 proc., w Holandii – ponad 26 proc., a na Węgrzech – 25 proc.General Motors redukuje zatrudnienie. Chce obniżyć koszty produkcjiPrzygoda z IT dla większości Polek, które pracują lub dopiero poszukują pracy, zaczęła się od przebranżowienia, na co wskazało 42,8 proc. ankietowanych. Co ciekawe, wśród matek ten wskaźnik jest jeszcze wyższy i sięga 52 proc. \\n\\n\\n\\n  \\n22,6 proc. kobiet w IT przybyło do branży w związku ze studiami kierunkowymi. Zdecydowana większość z nich, bo aż 76 proc., przebranżowiła się do IT w wyniku samodzielnej nauki.Dla porównania na Węgrzech i w Czechach największy odsetek kobiet pierwszą styczność z programowaniem miał już w szkole podstawowej (Węgry: blisko 8 proc., a Czechy: ponad 6 proc.) a w trakcie szkoły średniej na Węgrzech (ponad 11 proc.) i w Holandii (blisko 14 proc.).Ile zarabiają kobiety w IT?Już 71 proc. Polek z branży dostało podwyżkę w ciągu ostatniego roku, choć z obecnych zarobków zadowolona jest nieco ponad połowa z nich (56 proc.). Według wyników badania 27,5 proc. specjalistek IT nad Wisłą zarabia między 4,5 a 7 tys. zł netto.Z kolei co piąta kobieta z branży otrzymuje wynagrodzenie w przedziale 7-9,5 tys. zł netto, a kolejne 15 proc. mieści się w przedziale 9,5 tys. do 12 tys. złotych netto.Rusza światowy kongres kobiet w technologiachNajwyższe zarobki odnotowano w Holandii, gdzie specjalistki IT deklarowały, że 27 proc. z nich zarabia w przedziale 9,5 a 12 tys. zł, 23 proc. – od 12 do 14 tys. zł, 17 proc. – od 14 do 16,5 tys. zł, 12 proc. – od 16,5 do 19 tys. zł, 4 proc. – od 19 do 21 tys. zł oraz 6 proc. powyżej 23,5 tys. zł. \\n\\n\\n\\n  \\nNajwięcej najniższych pensji było na Ukrainie, gdzie 15 proc. kobiet w IT zarabia od 1-2,5 tys. zł, a 26 proc. – od 2,5 do 4,5 tys. zł.Polki, Ukrainki, Węgierki, Czeszki i Holenderki mają średnio o 13 proc. niższą pensję niż mężczyźni. Najlepsza sytuacja jest w Polsce, gdzie specjalistki IT zarabiają o 4,2 proc. mniej niż mężczyźni. Ukraińcy będą zachęcani, by nie wyjeżdżali z Polski do NiemiecDla porównania: w Holandii mniej o 14,2 proc., Czechach – o 16,4 proc., na Ukrainie – o 18,25 proc., a na Węgrzech aż o 17,2 proc.Jednocześnie, jak wynika z badania, 66 proc. kobiet w branży technologicznej nie wie, ile zarabiają mężczyźni na tym samym stanowisku i o tym samym poziomie doświadczenia.Największe wyzwania zawodowe dla kobiet w IT w 2022 r.Polki odpowiadając na pytanie dotyczące największych wyzwań zawodowych z zeszłego roku najczęściej wymieniały: dbanie o samopoczucie i radzenie sobie ze stresem (43 proc.), spadek motywacji (42 proc.) oraz zmieniająca się sytuacja gospodarcza na świecie (26 proc.).Największym wyzwaniem dla kobiet z Ukrainy (66 proc.), Czech (46 proc.) i Węgier (46 proc.) było dbanie o samopoczucie i radzenie sobie ze stresem. Specjalistki IT z Holandii najczęściej wskazywały spadek motywacji (34 proc.).TikTok na cenzurowanym. Jest dochodzenie w Kanadzie. USA, KE reagująBadanie zostało przeprowadzone metodą CAWI w okresie 16.01.2023-21.02.2023 na grupie 4651 respondentek z 5 krajów: Polski, Węgier, Ukrainy, Czech i Holandii. Ankieta była skierowana do specjalistek IT, czyli kobiet, które już pracują w branży, i kandydatek, które dopiero szukają pierwszego zatrudnienia lub są w trakcie nauki. Wśród badanych Polki stanowiły 2631 respondentek, a błąd maksymalny dla tej grupy wyniósł 2 proc. \\n\\n\\n\\n ',\n",
       " '\\nDyrektor wykonawczy MAE Fatih Birol ocenił, że zachodnie sankcje uderzające w eksport surowców energetycznych osiągnęły swój cel, którym były stabilizacja rynków naftowych i obniżenie dochodów Rosji z eksportu ropy i gazu.– Oczekujemy, że spadek dochodów z (eksportu) ropy i gazu pogłębi się w następnych miesiącach, a w średniej perspektywie będzie jeszcze większy w wyniku braku dostępu do technologii i inwestycji – powiedział Agencji Reutera Birol.Sankcje na ropę za inwazję na UkrainęPaństwa zachodniej koalicji, w skład której wchodzą Stany Zjednoczone, Australia, Kanada, Japonia i 27 krajów UE, wprowadziły od 5 grudnia ubiegłego roku limit cenowy 60 dol. za baryłkę rosyjskiej ropy, a UE nałożyła embargo na import rosyjskiej ropy drogą morską w ramach sankcji za inwazję Rosji na Ukrainę.Rafako i Gaz-System podpisały ugodę ws. budowy gazociągu na odcinku Goleniów–Płoty i projektu Tłocznia Kędzierzyn-KoźleRada UE formalnie przyjęła też 4 lutego dwa pułapy cenowe dla rosyjskich produktów ropopochodnych i dla takich produktów wywożonych z Rosji. Pułapy to 100 dol. za baryłkę produktów naftowych premium, takich jak olej napędowy, i 45 dol. za baryłkę tzw. produktów przecenionych, takich jak olej opałowy. \\n\\n\\n\\n  \\nZaczęły one obowiązywać od 5 lutego.Przewidziano 55-dniowy okres przejściowy dla statków przewożących rosyjskie produkty ropopochodne, które zostały kupione i załadowane do 5 lutego i zostaną rozładowane przed 1 kwietnia 2023 r.Ceny gazu dla biznesu zostaną obniżone od 15 marca o ponad 50 proc.Podobnie jak w przypadku pułapu cenowego na rosyjską ropę, nowe ograniczenia nałożone na produkty ropopochodne mają zastosowanie do zachodnich firm, które finansują, ubezpieczają lub wysyłają drogą morską rosyjskie produkty ropopochodne. \\n\\n\\n\\n ',\n",
       " '\\n#wieszwiecejPolub nas  \\n\\n\\n\\n ',\n",
       " '\\nJak poinformował w komunikacie giełdowym zarząd Rafako, w ramach mediacji przed sądem polubownym przy Prokuratorii Generalnej Rzeczypospolitej Polskiej doszło we wtorek do zawarcia ugody pomiędzy: Rafako SA z siedzibą w Raciborzu, PBG SA w restrukturyzacji w likwidacji z siedzibą w Wysogotowie oraz Operatorem Gazociągów Przesyłowych Gaz-System SA z siedzibą w Warszawie.Ugoda dotyczy „zawartej pomiędzy Rafako jako wykonawcą i Gaz-Systemem jako zamawiającym umowy w przedmiocie projektu Goleniów–Płoty” i „zawartej pomiędzy konsorcjum w składzie Rafako i PBG Oil and Gas (...) jako wykonawcą oraz Gaz-System jako zamawiającym umowy w przedmiocie projektu Tłocznia Kędzierzyn-Koźle”.Postanowienia ugody dotyczą m.in. „zrzeczenia się przez strony ugody wobec siebie, wszelkich roszczeń związanych z Umową Goleniów–Płoty i Umową Kędzierzyn oraz inwestycjami realizowanymi na podstawie tych umów, z wyjątkiem roszczeń wskazanych w ugodzie, które nie wpływają istotnie na prawa i obowiązki stron ugody”.#wieszwiecejPolub nasPonadto uzgodniono, że realizacja umowy Goleniów–Płoty oraz umowy Kędzierzyn zakończyły się z dniem 15 grudnia 2020 r.; potwierdzono, że wykonawca z umowy Goleniów-Płoty i wykonawca z umowy Kędzierzyn byli uprawnieni do otrzymania dotychczas zapłaconego przez Gaz-System wynagrodzenia z tych umów; Gaz-System był uprawniony do otrzymania i zaliczenia na poczet swoich wierzytelności odpowiednich kwot. Uzgodniono także sporne części wynagrodzeń.Do wtorku nie doszło natomiast do uzgodnienia ostatecznych warunków ugody pomiędzy Rafako i jego spółką zależną a firmą Tauron Wytwarzanie w sporze dotyczącym bloku energetycznego w Jaworznie. Negocjacje i mediacje są kontynuowane. \\n\\n\\n\\n  \\nNowy blok energetycznyRafako było wykonawcą wartego ponad 6 mld zł nowego bloku energetycznego Taurona o mocy 910 MW w Jaworznie. Spółki od wielu miesięcy spierają się w związku z problemami w działaniu tego bloku. Obecnie trwają mediacje przy udziale Prokuratorii Generalnej. 7 lutego strony poinformowały o zawarciu wstępnego porozumienia, zapowiadając zawarcie ugody w terminie do 8 marca. Zakładano przy tym, iż uzgodnienie ostatecznych warunków ugody może nastąpić do dnia 28 lutego, czyli do wtorku.We wtorkowy wieczór Rafako poinformowało o nieuzgodnieniu w tym terminie ostatecznych warunków ugody w ramach mediacji ze spółką Tauron Wytwarzanie oraz „kontynuowaniu negocjacji i mediacji odnośnie do uzgodnienia ostatecznych warunków ugody”.11 stycznia Tauron wezwał Rafako do zapłaty ponad 1,3 mld zł tytułem kar umownych i odszkodowań. Rafako w całości zakwestionowało żądania Taurona, zapowiadając, że zamierza złożyć wniosek o upadłość. Z kolei 13 stycznia Rafako wystąpiło do Taurona z roszczeniami na łączną kwotę 857,6 mln zł. Tauron uznał te roszczenia za nieuzasadnione. W wyniku mediacji przy udziale Prokuratorii Generalnej 7 lutego strony ogłosiły, że powstrzymają się z dochodzeniem wzajemnych roszczeń do 8 marca br. – do tego czasu planują podpisanie ugody, w której ustalą harmonogram i sposób zakończenia prac przy bloku.7 lutego strony uzgodniły, że zakończenie kontraktu na blok 910 MW nastąpi nie później niż do końca tego roku, przy czym łączna odpowiedzialność stron z tytułu realizacji kontraktu zostanie ograniczona do kwoty ustalonej w negocjowanej ugodzie. W przypadku nieuzgodnienia ostatecznych warunków i niezawarcia ugody w ustalonych terminach strony mają być uprawnione do wystąpienia względem siebie z roszczeniami związanymi z kontraktem. Również 7 lutego strony zobowiązały się, by do 28 lutego „nie występować wobec siebie oraz instytucji finansujących z żadnymi roszczeniami pieniężnymi lub niepieniężnymi, w tym żądaniami/wezwaniami do zapłaty”. W uzgodnieniach była też mowa o tym, że wezwanie Taurona do zapłaty przez wykonawcę kontraktu kwoty ponad 1,3 mld zł w części dotyczącej ponad 549,8 mln zł może być wymagalne 28 lutego, a pozostałej kwoty 762,6 mln zł – do dnia 8 marca, „przy czym wydłużenie terminu wymagalności dokonywane jest bez zrzeczenia się roszczeń”.Blok w Jaworznie uruchomiono z opóźnieniem w listopadzie 2020 r. W czerwcu 2021 r. został wyłączony z powodu usterek. Ponownie jednostkę uruchomiono – również z opóźnieniem wobec pierwotnych planów – w końcu kwietnia 2022 r. Potem blok był czasowo wyłączany jeszcze dwukrotnie. Według Rafako powodem awarii była nieodpowiednia jakość węgla dostarczanego przez Tauron. Według Taurona – przyczynami są liczne wady i usterki bloku. \\n\\n\\n\\n ',\n",
       " '\\nArden Hoffman, dyrektor ds. kadr GM, napisał w liście do pracowników, że producent samochodów z Detroit „zobowiązał się do 2 mld dol. oszczędności w ciągu najbliższych dwóch lat, które znajdziemy poprzez zmniejszenie wydatków korporacyjnych, kosztów ogólnych i złożoności wszystkich naszych produktów”.O planowanych cięciach w General Motors poinformował wcześniej „Detroit News”.#wieszwiecejPolub nas  \\n\\n\\n\\n ']"
      ]
     },
     "execution_count": 30,
     "metadata": {},
     "output_type": "execute_result"
    }
   ],
   "source": [
    "res"
   ]
  },
  {
   "cell_type": "code",
   "execution_count": 20,
   "metadata": {},
   "outputs": [],
   "source": [
    "link = links[0]\n",
    "soup = get_website(link)\n",
    "text_parts = soup.find_all('p', {'class' : \"am-article__text article__width\"})\n",
    "full_text = ' '.join([bit.get_text() for bit in text_parts])\n",
    "# for bit in text_parts:\n",
    "#   bit = bit.get_text()\n",
    "#   bit = re.sub('\\n\\n\\n((.|\\n)*)',' ', bit).replace('\\n', ' ')          \n",
    "#   bits.append(bit)\n",
    "# content = ' '.join(bits)\n",
    "# full_text =  ' '.join([heading, content])\n",
    "# full_text = re.sub('#wieszwiecejPolub nas', ' ', full_text)\n",
    "# full_text = re.sub('Zobacz także.*', ' ', full_text)\n",
    "# full_text = re.sub('Zobacz także ->', ' ',full_text)\n"
   ]
  },
  {
   "cell_type": "code",
   "execution_count": 21,
   "metadata": {},
   "outputs": [
    {
     "data": {
      "text/plain": [
       "'\\n„Krowa sika nowym płynnym złotem?” – tak zatytułował niedawno swój artykuł popularny dziennik Niderlandów. Wykorzystywanie krowiego moczu jako zamiennika sztucznego nawozu nie jest w Holandii niczym nowym. Jednak, jak zauważa „AD”, nie było to dotychczas zjawisko masowe wśród hodowców bydła. To się może zmienić dzięki toaletom dla krów.Toalety są produkowane przez jedną z holenderskich firm. „Toaleta wywołuje u krów naturalny odruch oddawania moczu poprzez lekkie dotknięcie pojemnikiem powyżej wymion; mocz jest natychmiast odsysany przez system” – zachwala producent. Podkreśla, że nie dochodzi do powstawania żadnych emisji. Cenne nawozy„Mocz zawiera azot i potas, a gęsty obornik m.in. fosforany. Dzięki czystemu sposobowi separacji hodowcy i rolnicy mogą nawozić w znacznie bardziej ukierunkowany sposób, co jest niewątpliwie korzystne dla środowiska” – ocenia na łamach dziennika „De Volkanrant” Paul Galama z Wageningen University & Research w Leeuwarden na północy kraju. #wieszwiecejPolub nasRząd premiera Marka Ruttego zdecydował w ubiegłym roku, że Niderlandy do 2030 roku zredukują liczbę emisji tlenku azotu o 70 procent. Media ujawniły ekspertyzy, z których wynika, że konieczna będzie redukcja o jedną trzecią zwierząt hodowlanych w holenderskich fermach. Na tym tle doszło do rolniczych protestów na terenie całego kraju. Blokowane były autostrady, a także centra dystrybucyjne supermarketów.W ubiegły piątek protestowali także rolnicy u południowego sąsiada. Przeszło 2,7 tys. traktorów przyjechało do Brukseli, aby wziąć udział w proteście hodowców bydła chcących wyrazić swoje niezadowolenie z planów rządu we Flandrii, który także dyskutuje nad planami ograniczenia emisji tlenku azotu.  \\n\\n\\n\\n '"
      ]
     },
     "execution_count": 21,
     "metadata": {},
     "output_type": "execute_result"
    }
   ],
   "source": [
    "bits"
   ]
  },
  {
   "cell_type": "code",
   "execution_count": 15,
   "metadata": {},
   "outputs": [
    {
     "data": {
      "text/plain": [
       "'https://www.tvp.info/68305505/w-holandii-krowy-sikaja-zlotem-tylko-w-specjalnych-toaletach'"
      ]
     },
     "execution_count": 15,
     "metadata": {},
     "output_type": "execute_result"
    }
   ],
   "source": [
    "links[0]"
   ]
  },
  {
   "cell_type": "code",
   "execution_count": 2,
   "metadata": {},
   "outputs": [],
   "source": [
    "with open('articles_metadata/articles_links.pkl', 'rb') as f:\n",
    "    links = pickle.load(f)\n",
    "    "
   ]
  },
  {
   "cell_type": "code",
   "execution_count": 3,
   "metadata": {},
   "outputs": [
    {
     "data": {
      "text/plain": [
       "'https://www.tvp.info/68305505/w-holandii-krowy-sikaja-zlotem-tylko-w-specjalnych-toaletach'"
      ]
     },
     "execution_count": 3,
     "metadata": {},
     "output_type": "execute_result"
    }
   ],
   "source": [
    "links[0]"
   ]
  },
  {
   "cell_type": "code",
   "execution_count": 6,
   "metadata": {},
   "outputs": [],
   "source": [
    "import re"
   ]
  },
  {
   "cell_type": "code",
   "execution_count": 16,
   "metadata": {},
   "outputs": [
    {
     "data": {
      "text/plain": [
       "'https://www.tvp.info/68305505/w-holandii-krowy-sikaja-zlotem-tylko-w-specjalnych-toaletach'"
      ]
     },
     "execution_count": 16,
     "metadata": {},
     "output_type": "execute_result"
    }
   ],
   "source": [
    "links[0]"
   ]
  },
  {
   "cell_type": "code",
   "execution_count": 23,
   "metadata": {},
   "outputs": [
    {
     "data": {
      "text/plain": [
       "'68289222'"
      ]
     },
     "execution_count": 23,
     "metadata": {},
     "output_type": "execute_result"
    }
   ],
   "source": [
    "x = re.search('\\/(\\d+)\\/', links[3]).group(1)\n",
    "x"
   ]
  },
  {
   "cell_type": "code",
   "execution_count": 39,
   "metadata": {},
   "outputs": [
    {
     "data": {
      "text/plain": [
       "'https://www.tvp.infohttp://www.tvpparlament.pl/aktualnosci/morawiecki-nowoczesnosc-to-moze-byc-nasze-nowe-polskie-imie/48669702'"
      ]
     },
     "execution_count": 39,
     "metadata": {},
     "output_type": "execute_result"
    }
   ],
   "source": [
    "links[4217]"
   ]
  },
  {
   "cell_type": "code",
   "execution_count": 42,
   "metadata": {},
   "outputs": [
    {
     "data": {
      "text/plain": [
       "False"
      ]
     },
     "execution_count": 42,
     "metadata": {},
     "output_type": "execute_result"
    }
   ],
   "source": [
    "bool(re.match('https://www.tvp.infohttp://', links[4212]))"
   ]
  },
  {
   "cell_type": "code",
   "execution_count": 72,
   "metadata": {},
   "outputs": [],
   "source": [
    "with open('articles_metadata/articles_links.pkl', 'rb') as f:\n",
    "    links = pickle.load(f)\n",
    "with open('articles_metadata/articles_titles.pkl', 'rb') as f:\n",
    "    titles = pickle.load(f)\n",
    "with open('articles_metadata/articles_headlines.pkl', 'rb') as f:\n",
    "    headlines = pickle.load(f)"
   ]
  },
  {
   "cell_type": "code",
   "execution_count": 73,
   "metadata": {},
   "outputs": [],
   "source": [
    "titles_clean = []\n",
    "headlines_clean = []\n",
    "links_clean = []\n",
    "for link, title, headline in zip(links, titles, headlines):\n",
    "    if bool(re.match('https://www.tvp.info\\/(\\d+)\\/', link)):\n",
    "        titles_clean.append(title)\n",
    "        headlines_clean.append(headline)\n",
    "        links_clean.append(link)\n",
    "\n"
   ]
  },
  {
   "cell_type": "code",
   "execution_count": 77,
   "metadata": {},
   "outputs": [
    {
     "data": {
      "text/plain": [
       "(0, 248123, 248123, 248123)"
      ]
     },
     "execution_count": 77,
     "metadata": {},
     "output_type": "execute_result"
    }
   ],
   "source": [
    "len(article_ids), len(titles_clean), len(headlines_clean), len(links_clean)"
   ]
  },
  {
   "cell_type": "code",
   "execution_count": 140,
   "metadata": {},
   "outputs": [],
   "source": [
    "article_ids = range(0, len(titles_clean))"
   ]
  },
  {
   "cell_type": "code",
   "execution_count": 141,
   "metadata": {},
   "outputs": [
    {
     "data": {
      "text/plain": [
       "range(0, 248123)"
      ]
     },
     "execution_count": 141,
     "metadata": {},
     "output_type": "execute_result"
    }
   ],
   "source": [
    "article_ids"
   ]
  },
  {
   "cell_type": "code",
   "execution_count": 85,
   "metadata": {},
   "outputs": [],
   "source": [
    "with open('articles_metadata/articles_links_clean.pkl', 'wb') as f:\n",
    "    pickle.dump(links_clean, f)\n",
    "with open('articles_metadata/articles_titles_clean.pkl', 'wb') as f:\n",
    "    pickle.dump(titles_clean, f)\n",
    "with open('articles_metadata/articles_headlines_clean.pkl', 'wb') as f:\n",
    "    pickle.dump(headlines_clean, f)\n",
    "with open('articles_metadata/articles_ids_clean.pkl', 'wb') as f:\n",
    "    pickle.dump(article_ids, f)"
   ]
  },
  {
   "cell_type": "code",
   "execution_count": 147,
   "metadata": {},
   "outputs": [],
   "source": [
    "with open('articles_metadata/articles_ids_clean.pkl', 'wb') as f:\n",
    "    pickle.dump(article_ids, f)"
   ]
  },
  {
   "cell_type": "code",
   "execution_count": 148,
   "metadata": {},
   "outputs": [],
   "source": [
    "with open('articles_metadata/articles_ids_clean.pkl', 'rb') as f:\n",
    "    z = pickle.load(f)"
   ]
  },
  {
   "cell_type": "code",
   "execution_count": 149,
   "metadata": {},
   "outputs": [
    {
     "data": {
      "text/plain": [
       "range(0, 248123)"
      ]
     },
     "execution_count": 149,
     "metadata": {},
     "output_type": "execute_result"
    }
   ],
   "source": [
    "z"
   ]
  },
  {
   "cell_type": "code",
   "execution_count": 161,
   "metadata": {},
   "outputs": [],
   "source": [
    "log = {'checkpoint' : 0}\n",
    "with open('obtain_content\\log.pkl', 'wb') as f:\n",
    "    pickle.dump(log, f)"
   ]
  },
  {
   "cell_type": "code",
   "execution_count": 129,
   "metadata": {},
   "outputs": [
    {
     "data": {
      "text/plain": [
       "{'checkpoint': 0}"
      ]
     },
     "execution_count": 129,
     "metadata": {},
     "output_type": "execute_result"
    }
   ],
   "source": [
    "with open('obtain_content\\log.pkl', 'rb') as f:\n",
    "    log = pickle.load(f)\n",
    "log"
   ]
  },
  {
   "cell_type": "code",
   "execution_count": 123,
   "metadata": {},
   "outputs": [],
   "source": [
    "content_list = []"
   ]
  },
  {
   "cell_type": "code",
   "execution_count": 162,
   "metadata": {},
   "outputs": [],
   "source": [
    "with open('obtain_content/full_content.pkl', 'wb') as f:\n",
    "    pickle.dump(content_list, f)"
   ]
  },
  {
   "cell_type": "code",
   "execution_count": 163,
   "metadata": {},
   "outputs": [],
   "source": [
    "with open('obtain_content/full_content.pkl', 'rb') as f:\n",
    "    x= pickle.load(f) "
   ]
  },
  {
   "cell_type": "code",
   "execution_count": 164,
   "metadata": {},
   "outputs": [
    {
     "data": {
      "text/plain": [
       "[]"
      ]
     },
     "execution_count": 164,
     "metadata": {},
     "output_type": "execute_result"
    }
   ],
   "source": [
    "x"
   ]
  },
  {
   "cell_type": "code",
   "execution_count": 156,
   "metadata": {},
   "outputs": [],
   "source": [
    "with open('articles_metadata/articles_links_clean.pkl', 'rb') as f:\n",
    "    l= pickle.load(f) "
   ]
  },
  {
   "cell_type": "code",
   "execution_count": 157,
   "metadata": {},
   "outputs": [
    {
     "data": {
      "text/plain": [
       "['https://www.tvp.info/68305505/w-holandii-krowy-sikaja-zlotem-tylko-w-specjalnych-toaletach',\n",
       " 'https://www.tvp.info/68303268/plan-chin-piecioprocentowy-wzrost-gospodarczy',\n",
       " 'https://www.tvp.info/68292477/ogromny-wzrost-wplywow-z-vat-ministerstwo-finansow-pokazalo-dane',\n",
       " 'https://www.tvp.info/68289222/europejski-dzien-rownych-plac-niemcy-tylko-w-jednej-branzy-kobiety-zarabiaja-wiecej-od-mezczyzn',\n",
       " 'https://www.tvp.info/68289414/moskwa-nie-planuje-naprawy-nord-stream-1-i-2-projekt-uwaza-za-pogrzebany',\n",
       " 'https://www.tvp.info/68280509/wzrosty-kursow-akcji-na-amerykanskiej-gieldzie-wall-street',\n",
       " 'https://www.tvp.info/68272392/tym-razem-tusk-uderza-w-program-mieszkanie-plus',\n",
       " 'https://www.tvp.info/68270122/zakaz-sprzedazy-cywilnych-dronow-w-sieci-chinski-gigant-uderza-w-rosjan',\n",
       " 'https://www.tvp.info/68271034/bezrobocie-w-krajach-unii-europejskiej-polska-z-jednym-z-najnizszych-wynikow',\n",
       " 'https://www.tvp.info/68268733/prezydent-andrzej-duda-czeka-na-propozycje-instytucji-panstwowych-ws-kredytow-frankowych',\n",
       " 'https://www.tvp.info/67694052/zus-aplikacja-mzus-rozszerzona-o-kolejne-swiadczenia-dla-rodzin',\n",
       " 'https://www.tvp.info/67693312/do-8-marca-odbiorcy-wrazliwi-musza-zlozyc-oswiadczenia-w-sprawie-zwrotu-nadplaty-za-cieplo',\n",
       " 'https://www.tvp.info/67482626/chile-pozary-zniszczyly-dziesiatki-tysiecy-uli-cios-dla-rolnictwa-eksport-owocow-zmaleje',\n",
       " 'https://www.tvp.info/67482464/ppk-pracownicze-plany-kapitalowe-rezygnacja-wyplata-autozapis-zasady-najwazniejsze-informacje',\n",
       " 'https://www.tvp.info/66932813/obnizki-cen-na-stacjach-paliw',\n",
       " 'https://www.tvp.info/66928975/prawie-polowa-polek-w-it-awansowala-w-minionym-roku',\n",
       " 'https://www.tvp.info/66927764/dochody-rosji-z-eksportu-gazu-i-ropy-spadly-o-prawie-40-proc',\n",
       " 'https://www.tvp.info/66911527/rolnictwo-kontrola-miodow-liczne-przypadki-falszerstwa',\n",
       " 'https://www.tvp.info/66912347/rafako-i-gaz-system-ugoda-dotyczaca-budowy-gazociagu-na-odcinku-goleniowploty-i-projektu-tlocznia-kedzierzyn-kozle',\n",
       " 'https://www.tvp.info/66912819/usa-general-motors-redukuje-zatrudnienie-chce-obnizyc-koszty-produkcji',\n",
       " 'https://www.tvp.info/66912524/walka-z-inflacja-orlen-obniza-ceny-piekarnie-i-cukiernie-zaplaca-mniej-za-gaz',\n",
       " 'https://www.tvp.info/66920544/tanieja-bilety-pkp-intercity-premier-mateusz-morawiecki-zapowiedzial-audyt-w-firmie',\n",
       " 'https://www.tvp.info/66901833/prezes-pkn-orlen-zapowiedzial-ze-ceny-gazu-dla-biznesu-zostana-obnizone-od-15-marca-o-ponad-50-procent',\n",
       " 'https://www.tvp.info/66901080/strategia-orlenu-setki-miliardow-na-inwestycje',\n",
       " 'https://www.tvp.info/66891848/usa-elon-musk-i-tesla-pozwani-przez-akcjonariuszy',\n",
       " 'https://www.tvp.info/66873951/wiceminister-finansow-jan-patkowski-pod-koniec-roku-inflacja-bedzie-w-okolicach-10-proc-lub-ponizej',\n",
       " 'https://www.tvp.info/66874153/28-lutego-wygasaja-deklaracje-o-rezygnacji-z-ppk-co-to-oznacza-i-co-trzeba-zrobic-',\n",
       " 'https://www.tvp.info/66870579/zaplacimy-za-tresci-z-internetu',\n",
       " 'https://www.tvp.info/66870455/polska-firma-wyprodukuje-elementy-systemu-wisla-na-zamowienie-lockheed-martin-amerykanskiego-koncernu-zbrojeniowego',\n",
       " 'https://www.tvp.info/66870340/niemcy-rzad-prosi-spolke-nord-stream-2-o-rury-pozostale-po-budowie-gazociagu',\n",
       " 'https://www.tvp.info/66605518/rolnictwo-jaki-pogoda-ma-wplyw-na-rosliny-imgw-prognozuje',\n",
       " 'https://www.tvp.info/66599881/miliarderzy-bogaca-sie-w-ekspresowym-tempie-i-bija-rekordy-w-emisji-co2',\n",
       " 'https://www.tvp.info/66555326/rekordowy-kontrakt-dla-fabryki-broni-lucznik-mon-zamawia-karabinki-grot-i-karabiny-wyborowe',\n",
       " 'https://www.tvp.info/66557479/rolnictwo-problemy-na-rynku-wieprzowiny-min-dyktat-supermarketow-apel-o-interwencje-i-analize-uokik',\n",
       " 'https://www.tvp.info/66555922/grupa-pkn-orlen-wypracowala-w-iv-kw-2022-r-przychody-na-poziomie-ponad-100-mld-zl',\n",
       " 'https://www.tvp.info/66555288/tiktok-chiny-na-cenzurowanym-jest-dochodzenie-w-kanadzie-usa-komisja-europejska-reaguja',\n",
       " 'https://www.tvp.info/66536320/nowy-dworzec-w-koszalinie',\n",
       " 'https://www.tvp.info/66524950/energetyka-powstala-wyjatkowa-krzyzowka-wierzby',\n",
       " 'https://www.tvp.info/66525326/wielka-brytania-polki-w-sklepach-swieca-pustkami-rolnictwo-i-importerzy-maja-klopot',\n",
       " 'https://www.tvp.info/66513336/rosja-produkcja-samochodow-w-styczniu-spadla-o-ponad-77-proc-w-porownaniu-z-rokiem-2022',\n",
       " 'https://www.tvp.info/66498764/polska-i-usa-wzmocnily-wspolprace-w-zakresie-bezpieczenstwa-energetycznego-podpisanie-umowy-pomiedzy-spolka-polskie-elektrownie-jadrowe-pej-oraz-firmami-westinghouse',\n",
       " 'https://www.tvp.info/66485390/cena-uprawnien-do-emisji-co2-w-europie-wzrosla-do-100-euro-za-tone',\n",
       " 'https://www.tvp.info/66463024/polska-odporna-na-rosyjski-szantaz-do-polski-plynie-gazowiec-lech-kaczynski-z-lng-wideo',\n",
       " 'https://www.tvp.info/66432306/pierwszy-gazowiec-z-dostawami-lng-dla-grupy-orlen-wyruszyl-z-usa',\n",
       " 'https://www.tvp.info/66408169/agencja-sp-global-ratings-stabilny-wysoki-rating-polski',\n",
       " 'https://www.tvp.info/66406036/bruksela-pod-wrazeniem-cpk-polska-siec-kolei-moze-byc-lepsza-niz-w-starej-ue',\n",
       " 'https://www.tvp.info/66390335/czy-orlen-zastapi-rosjan-w-niemieckiej-rafinerii',\n",
       " 'https://www.tvp.info/66377599/lot-odwoluje-rejsy-do-i-z-niemiec',\n",
       " 'https://www.tvp.info/66374035/zwiazki-zawodowe-w-tesli',\n",
       " 'https://www.tvp.info/66350251/kongres-60-milionow-na-portoryko-szansa-na-kontrakty-gospodarcze-tvp-polonia',\n",
       " 'https://www.tvp.info/66346963/inflacja-w-polsce-ceny-w-polsce-prognoza-na-2023-rok',\n",
       " 'https://www.tvp.info/66339992/minister-moskwa-w-polsce-nie-ma-juz-gazu-ani-wegla-z-rosji',\n",
       " 'https://www.tvp.info/66338687/rp-wysokie-ceny-ograniczaja-zakupy-ale-e-sklepy-sie-bronia',\n",
       " 'https://www.tvp.info/66293716/bezpieczniej-w-sieci-operatorzy-beda-musieli-blokowac-sms-y-wyludzajace-dane',\n",
       " 'https://www.tvp.info/66293709/rekord-tvp-info-i-portalu-tvpinfo-w-serwisie-youtube-statystyki-za-2022-r-wzrosty-o-50-procent',\n",
       " 'https://www.tvp.info/66292504/obajtek-orlen-odkryl-500-mln-m-szesc-nowych-zasobow-gazu-ziemnego-na-lubelszczyznie',\n",
       " 'https://www.tvp.info/66290316/ford-do-konca-2026-roku-zlikwiduje-w-europie-3800-miejsc-pracy',\n",
       " 'https://www.tvp.info/66291105/turcja-liczy-straty-gospodarcze-po-trzesieniu-ziemi-moga-wyniesc-ponad-80-mld-dolarow',\n",
       " 'https://www.tvp.info/66272663/inflacja-w-polsce-jednak-nizsza-niz-prognozowano-nowe-dane-komisji-europejskiej-druga-najwieksza-zmiana-w-calej-ue-ekspert-komentuje',\n",
       " 'https://www.tvp.info/66252572/zakaz-sprzedazy-napojow-energetycznych-dla-osob-niepelnoletnich-ponizej-18-roku-zycia-projekt-zlozony-w-sejmie',\n",
       " 'https://www.tvp.info/66252572/zakaz-sprzedazy-napojow-energetycznych-dla-osob-niepelnoletnich-ponizej-18-roku-zycia-projekt-zlozony-w-sejmie',\n",
       " 'https://www.tvp.info/66242447/ile-firm-odeszlo-z-rosji-po-wybuchu-wojny-doradca-zelenskiego-podal-szokujace-dane',\n",
       " 'https://www.tvp.info/66233249/6-chinskich-firm-ukarano-za-powiazania-ze-szpiegowskim-balonem-w-usa',\n",
       " 'https://www.tvp.info/66229665/portugalia-chce-sprzedac-panstwowe-linie-lotnicze-protest-pracownikow-spolki-tap',\n",
       " 'https://www.tvp.info/66225109/prezydent-do-przeciwnikow-cpk-sa-wazne-sprawy-i-wazne-inwestycje-ktore-w-kraju-demokratycznym-wymagaja-dyskusji',\n",
       " 'https://www.tvp.info/66200604/prezes-nbp-adam-glapinski-w-grudniu-inflacja-moze-wyniesc-6-proc',\n",
       " 'https://www.tvp.info/66199753/prezes-pkn-orlen-daniel-obajtek-najbardziej-rozpoznawalnym-menadzerem-badanie',\n",
       " 'https://www.tvp.info/66198409/rafako-rezygnuje-z-wniosku-o-ogloszenie-upadlosci',\n",
       " 'https://www.tvp.info/66137060/spowolnienie-gospodarcze-nie-prowadzi-do-wzrostu-upadlosci-firm-polski-instytutu-ekonomiczny-w-komentarzu-do-nowych-danych-gus',\n",
       " 'https://www.tvp.info/66134377/ekspert-pie-ceny-mieszkan-w-pierwszych-kwartalach-2023-r-nie-beda-rosnac',\n",
       " 'https://www.tvp.info/66133742/puls-biznesu-import-aut-najnizszy-od-kilku-lat',\n",
       " 'https://www.tvp.info/66119057/ceny-paliw-na-stacjach-luty-2023-analitycy-e-petrol-tanieje-olej-napedowy-diesel-i-autogaz-ceny-benzyny-bez-zmian',\n",
       " 'https://www.tvp.info/66117472/polak-michal-mierzejewski-obejmuje-wazne-stanowisko-w-spolce-philip-morris',\n",
       " 'https://www.tvp.info/66117651/wysokosc-stop-procentowych-rpp-oglasza-decyzje',\n",
       " 'https://www.tvp.info/66097107/cpk-pozyskuje-kolejne-nieruchomosci-umowy-z-krajowym-zasobem-nieruchomosci-i-krajowym-osrodkiem-wsparcia-rolnictwa',\n",
       " 'https://www.tvp.info/66096531/orlen-obniza-ceny-ropy-na-stacjach-paliw-taniej-srednio-o-20-groszy-za-litr',\n",
       " 'https://www.tvp.info/66092243/ceny-biletow-pkp-obnizone-od-marca-tlk-ic-pendolino-sprawdz-nowe-ceny',\n",
       " 'https://www.tvp.info/66087816/sondaz-ibris-576-proc-za-tym-zeby-panstwo-wplywalo-na-ceny-paliw',\n",
       " 'https://www.tvp.info/66087434/bartkiewicz-rpp-nie-podwyzszy-stop-procentowych',\n",
       " 'https://www.tvp.info/66086895/niemcy-nie-chca-by-orlen-przejal-udzialy-rosnieftu-w-rafinerii-pck-schwedt-media-pisza-o-polskim-szantazu-i-wiarygodnych-rosjanach',\n",
       " 'https://www.tvp.info/66079708/kpo-wlochy-zyskuja-wiecej-z-budzetu-ue-niz-wplacaja',\n",
       " 'https://www.tvp.info/66071062/polacy-przywiazani-do-gotowki-sondaz-sondaz-ponad-80-proc-nie-chce-wycofania-jej-z-obiegu',\n",
       " 'https://www.tvp.info/66058867/google-przed-totalna-katastrofa-zagraza-mu-sztuczna-inteligencja',\n",
       " 'https://www.tvp.info/66058817/walka-z-inflacja-dobre-wiesci-dla-piekarzy-i-cukiernikow-dotycza-cen-gazu',\n",
       " 'https://www.tvp.info/66058486/rolnictwo-coraz-trudniejsza-sytuacja-hodowcow-trzody-chlewnej-w-lepszej-sytuacji-hodowcy-bydla',\n",
       " 'https://www.tvp.info/66054441/embargo-na-rosyjskie-paliwa-z-ue',\n",
       " 'https://www.tvp.info/66048504/pomimo-wojny-belgowie-kupuja-rosyjski-gaz-lng-le-soir-wzrost-o-36-proc',\n",
       " 'https://www.tvp.info/66028824/firmy-wycofuja-sie-z-pracy-zdalnej-dlaczego',\n",
       " 'https://www.tvp.info/66027534/prezydent-andrzej-duda-podpisal-ustawe-budzetowa-na-2023-r',\n",
       " 'https://www.tvp.info/65987174/od-czwartku-nocny-ruch-statkow-przy-wejsciu-do-portu-w-gdyni-zostanie-czasowo-ograniczony',\n",
       " 'https://www.tvp.info/65983240/stopa-bezrobocia-w-eurolandzie-w-xii-66-proc',\n",
       " 'https://www.tvp.info/65983326/inflacja-w-2023-r-spadnie-ponizej-10-proc-prognozuje-wiceminister-finansow-artur-sobon-nowe-dane',\n",
       " 'https://www.tvp.info/65982064/uokik-wszczal-postepowanie-przeciw-amazon',\n",
       " 'https://www.tvp.info/65974946/rolnictwo-dofinansowanie-do-zielonej-energii-mozna-juz-skladac-wnioski-w-arimr',\n",
       " 'https://www.tvp.info/65980651/polska-zrywa-z-dostawami-ropy-z-rosji-daniel-obajtek-informuje-o-strategii-pkn-orlen',\n",
       " 'https://www.tvp.info/65960909/bezrobocie-pod-kontrola-mimo-oslabienia-gospodarki-wzrosty-niewielkie-informuja-eksperci-biec',\n",
       " 'https://www.tvp.info/65960668/gospodarki-po-pandemii-covid-19-jak-wyglada-sytuacja-polski-i-niemiec',\n",
       " 'https://www.tvp.info/65948385/baltic-power-z-pierwszym-pozwoleniem-na-budowe-',\n",
       " 'https://www.tvp.info/65941455/orlen-odpowiada-gazecie-wyborczej-ws-daniela-obajtka',\n",
       " 'https://www.tvp.info/65941264/rating-wegier-w-2023-sytuacja-ekonomiczna-wegier-sie-pogorszyla',\n",
       " 'https://www.tvp.info/65939600/w-2022-r-obcokrajowcy-zalozyli-w-naszym-kraju-rekordowa-liczbe-spolek',\n",
       " 'https://www.tvp.info/65928332/co-z-cenami-biletow-kolejowych-minister-lukasz-schreiber-zapowiada-wazny-komunikat',\n",
       " 'https://www.tvp.info/65926535/brytyjskie-linie-flybe-upadly-75-tys-pasazerow-nie-poleci',\n",
       " 'https://www.tvp.info/65924439/chiny-i-indie-nie-pomoga-rosji-w-zlamaniu-sankcji-na-rope',\n",
       " 'https://www.tvp.info/65906912/kleczew-solar-wind-jeden-z-najwiekszych-parkow-oze-w-europie',\n",
       " 'https://www.tvp.info/65916142/opozycja-oklamala-polakow-straszyli-brakiem-wegla-zima-przepowiednie-sie-nie-sprawdzily',\n",
       " 'https://www.tvp.info/65913465/niedziela-handlowa-czy-w-niedziele-29-stycznia-sklepy-beda-otwarte',\n",
       " 'https://www.tvp.info/65909047/ford-chce-sprawdzic-prawie-500-000-aut-problemem-kamery-cofania',\n",
       " 'https://www.tvp.info/65906953/wzrosty-kursow-akcji-na-gieldzie-usa-wall-street',\n",
       " 'https://www.tvp.info/65902593/wojna-rosji-na-ukrainie-centralny-bank-federacji-rosyjskiej-o-zyskach-sektora-bankowego',\n",
       " 'https://www.tvp.info/65900187/6045-mld-zl-w-budzecie-o-110-proc-wiecej-niz-w-2015-r-opozycja-mowila-ze-nie-damy-rady',\n",
       " 'https://www.tvp.info/65894491/ceny-energii-wysoki-rachunek-za-ogrzewanie-min-moskwa-wyjasnia-co-nalezy-zrobic',\n",
       " 'https://www.tvp.info/65892728/polska-zwieksza-zaangazowanie-na-ukrainie-w-ciagu-pieciu-lat-inwestycje-wzrosna-trzydziestokrotnie-do-30-mld-dol',\n",
       " 'https://www.tvp.info/65874930/strajki-pracownikow-koncernu-totalenergies-zaklocily-dostawy-z-kilku-rafinerii',\n",
       " 'https://www.tvp.info/65874511/bezrobocie-na-ukrainie-17-proc-ukraincow-stracilo-prace-w-wyniku-wojny',\n",
       " 'https://www.tvp.info/65872820/supermarket-z-darmowymi-artykulami-jakie-warunki-wideo',\n",
       " 'https://www.tvp.info/65872504/rolnictwo-hodowla-kaczki-coraz-popularniejsze-duzy-eksport-do-niemiec',\n",
       " 'https://www.tvp.info/65856347/czy-rzad-wydluzy-wakacje-kredytowe-ministerstwo-finansow-dla-portalu-tvpinfo-ws-publikacji',\n",
       " 'https://www.tvp.info/65855648/orlen-podpisal-20-letni-kontrakt-z-amerykanska-firma-sempra-na-dostawy-gazu-lng',\n",
       " 'https://www.tvp.info/65855259/pracownicy-belgijskich-firm-beda-otrzymywac-dodatek-za-dojazd-do-pracy-rowerem',\n",
       " 'https://www.tvp.info/65852256/dluzsze-wakacje-kredytowe-plany-maja-w-kancelarii-premiera-mateusz-morawieckiego-moneypl',\n",
       " 'https://www.tvp.info/65851312/minister-rolnictwa-szczyt-wzrostu-cen-zywnosci-mamy-juz-za-soba',\n",
       " 'https://www.tvp.info/65838660/-bloomberg-szacuje-jak-dlugo-rosje-bedzie-stac-na-prowadzenie-wojny-moskwa-dysponuje-spora-poduszka-bezpieczenstwa-dzieki-rezerwom-w-juanach',\n",
       " 'https://www.tvp.info/65837467/gdynia-shiploader-w-ot-port-gdynia-bedzie-mozna-ladowac-min-wiecej-zboza-z-ukrainy',\n",
       " 'https://www.tvp.info/65833482/niemiecki-eksport-do-rosjina-najnizszym-poziomu-od-2003-roku',\n",
       " 'https://www.tvp.info/65833276/ford-zamierza-zwolnic-kilka-tysiecy-pracownikow-w-europie-glownie-w-niemczech',\n",
       " 'https://www.tvp.info/65833305/wojna-rosji-na-ukrainie-narodowy-bank-ukrainy-mimo-wojny-ukrainski-biznes-z-optymizmem',\n",
       " 'https://www.tvp.info/65832423/tauron-powodem-chwilowego-wylaczenia-bloku-w-elektrowni-jaworzno-jest-awaria-ukladu-mlynowego',\n",
       " 'https://www.tvp.info/65830438/czolgi-leopard-dla-ukrainy-media-postawa-berlina-podwaza-zaufanie-do-niemieckiego-sektora-zbrojeniowego-i-koncernu-rheinmetall',\n",
       " 'https://www.tvp.info/65826600/polska-z-nizszym-dlugiem-niz-srednia-ue-i-strefy-euro-zobacz-mape-z-porownaniem-infografika',\n",
       " 'https://www.tvp.info/65829585/gospodarka-rosji-topnieje-ekonomiczna-kleska-wladimira-putina-staje-sie-faktem',\n",
       " 'https://www.tvp.info/65829192/cpk-kupuje-firme-torpol-kolejne-inwestycje-',\n",
       " 'https://www.tvp.info/65822538/ministerstwo-infrastruktury-rekordowy-rok-dla-polskich-portow-najwyzszy-w-historii-wskaznik-przeladunkow',\n",
       " 'https://www.tvp.info/65819999/wyliczenia-instytutu-badan-ekonomicznych-w-kolonii-wojna-na-ukrainie-i-wszystkie-zagrozenia-gospodarcze-z-nia-zwiazane-beda-kosztowac-niemcy-okolo-175-miliardow-euro',\n",
       " 'https://www.tvp.info/65819710/nastroje-polskich-konsumentow-stopniowo-w-gore-',\n",
       " 'https://www.tvp.info/65819274/perspektywy-dla-polskiego-biznesu-po-zwyciestwie-ukrainy-nad-rosja-prezes-inpost-rafal-brzoska-musimy-byc-glownym-partnerem-w-odbudowie-ukrainy',\n",
       " 'https://www.tvp.info/65806756/dgp-wynajmujacym-mieszkania-mniej-oplaca-sie-biznes-',\n",
       " 'https://www.tvp.info/65798611/zloto-ze-szlamu-trafi-na-rynek-kghm-musi-tylko-opracowac-mniejsze-sztabki',\n",
       " 'https://www.tvp.info/65796622/zarobki-bankierow-w-europie-milion-euro-sa-tez-krezusi-z-polski',\n",
       " 'https://www.tvp.info/65796165/elektryki-nie-wjada-na-prom-pierwsza-taka-decyzja-norweskiego-przewoznika-',\n",
       " 'https://www.tvp.info/65784350/toksyczne-dezodoranty-powodujace-raka-pasty-niszczace-zeby-unia-europejska-organizacje-konsumenckie-alarmuja',\n",
       " 'https://www.tvp.info/65781585/gospodarczy-liderzy-uzgodnili-pulapy-cenowe-na-rosyjska-rope',\n",
       " 'https://www.tvp.info/65774741/amerykanska-gielda-eall-street-ze-wzrostami',\n",
       " 'https://www.tvp.info/65765233/orlen-zbuduje-terminal-przeladunkowy-daniel-obajtek-o-szczegolach',\n",
       " 'https://www.tvp.info/65747605/program-polski-bon-turystyczny-dobiega-konca-jak-skorzystac-z-bonu',\n",
       " 'https://www.tvp.info/65733182/wlochy-zimowe-igrzyska-olimpijskie-2026-w-mediolanie-latajace-taksowki-beda-ladowac-na-lotniskach-linate-i-malpensa-oraz-na-vertiportach-w-lombardii',\n",
       " 'https://www.tvp.info/65730762/pgnig-obrot-detaliczny-obniza-ceny-gazu-dla-dla-malych-i-srednich-przedsiebiorstw',\n",
       " 'https://www.tvp.info/65728991/trzy-elektrownie-jadrowe-w-polsce-minister-aktywow-panstwowych-jacek-sasin-wyjawia-plany-',\n",
       " 'https://www.tvp.info/65723562/railway-direction-days-kolej-duzych-predkosci-w-karach-trojmorza-zobacz-planowane-trasy',\n",
       " 'https://www.tvp.info/65706642/ranking-konkurencyjnosci-firm-polska-na-10-miejscu-',\n",
       " 'https://www.tvp.info/65704103/zaledwie-3-proc-firm-z-kapitalem-austriackim-calkiem-opuscilo-rosje-',\n",
       " 'https://www.tvp.info/65684327/polska-zlotem-silna-w-europie-zajmujemy-13-miejsce-w-rankingu',\n",
       " 'https://www.tvp.info/65685734/jakie-informacje-z-rynku-ropy-i-gazu',\n",
       " 'https://www.tvp.info/65683746/goldman-sachs-duze-gospodarki-swiata-nie-wejda-w-recesje-wywolana-polityka-monetarna',\n",
       " 'https://www.tvp.info/65682360/shot-show-2023-polska-spolka-zbrojeniowa-mesko-zaprezentuje-amunicje-na-targach-w-usa',\n",
       " 'https://www.tvp.info/65680322/usa-wyoming-chce-zakazac-sprzedazy-nowych-samochodow-elektrycznych-do-2035-r-',\n",
       " 'https://www.tvp.info/65678469/maka-ze-swierszcza-dopuszczona-do-obrotu-w-unii-europejskiej-jest-rozporzadzenie-jadalne-owady-acheta-domesticus-swierszcz-domowy',\n",
       " 'https://www.tvp.info/65667266/wysyp-trufli-we-wloszech-wszystko-przez-anomalie-pogodowe',\n",
       " 'https://www.tvp.info/65664395/niemieckie-sieci-energetyczne-obciazone-ladowaniem-elektrykow-i-pomp-ciepla',\n",
       " 'https://www.tvp.info/65651863/premier-mateusz-morawiecki-w-najblizszym-czasie-rzad-zajmie-sie-opodatkowaniem-dodatkowych-mieszkan',\n",
       " 'https://www.tvp.info/65650837/orlen-chce-rozwijac-male-reaktory-jadrowe-trwaja-rozmowy-z-panstwowa-agencja-atomistyki-',\n",
       " 'https://www.tvp.info/65645379/wzrost-kursow-akcji-na-wall-street-gielda-usa',\n",
       " 'https://www.tvp.info/65645617/fitch-utrzymuje-rating-polski-na-poziomie-a-',\n",
       " 'https://www.tvp.info/65643783/amerykanski-projektant-thom-browne-wygral-z-adidasem-sadowa-batalie-o-paski',\n",
       " 'https://www.tvp.info/65640298/kanclerz-scholz-chce-importowac-gaz-i-rope-z-iraku',\n",
       " 'https://www.tvp.info/65635185/ropa-z-rosji-europa-importuje-duze-ilosci-szykujac-sie-na-wprowadzenie-embarga-i-ceny-maksymalnej-produktow-naftowych-z-rosji',\n",
       " 'https://www.tvp.info/65634212/sklep-internetowy-pgg-sprzedal-poltora-mln-ton-wegla-',\n",
       " 'https://www.tvp.info/65633493/inflacja-w-calym-2022-r-wyniosla-144-proc-nowe-dane-gus-jak-statystycznie-rosly-ceny-wskaznik-cpi-w-2022-r',\n",
       " 'https://www.tvp.info/65633224/minister-moskwa-ograniczymy-podwyzki-cen-ciepla-dla-obywateli-',\n",
       " 'https://www.tvp.info/65623604/inflacja-w-styczniu-czy-dojdzie-do-20-procent',\n",
       " 'https://www.tvp.info/65623260/orlen-otrzymal-zgody-na-rozpoczecie-prac-przy-budowie-terminalu-instalacyjnego-dla-farm-wiatrowych-w-swinoujsciu-',\n",
       " 'https://www.tvp.info/65622152/francja-reforma-emerytalna-zwiazkowcy-zapowiadaja-potezne-strajki',\n",
       " 'https://www.tvp.info/65620653/posel-ko-adam-szlapka-wejscie-do-strefy-euro-byloby-dobre-dla-gospodarki',\n",
       " 'https://www.tvp.info/65619389/najwieksze-w-europie-zloza-metali-ziem-rzadkich-odkryte-w-szwecji',\n",
       " 'https://www.tvp.info/65617929/wiceszef-map-maciej-malecki-grupa-orlen-bedzie-w-stanie-realnie-konkurowac-na-miedzynarodowych-rynkach',\n",
       " 'https://www.tvp.info/65615830/shopee-wychodzi-z-polski',\n",
       " 'https://www.tvp.info/65614114/rolnictwo-polska-cebula-podbija-swiat-cena-cebuli-wzrosla-o-niemal-100-procent',\n",
       " 'https://www.tvp.info/65613209/liczba-samochodow-z-napedem-elektrycznym-wzrosla-w-2022-r-o-26-349-sztuk-o-33-proc-wiecej-niz-w-2021-r',\n",
       " 'https://www.tvp.info/65612792/koka-niezbedna-do-zycia-boliwia-chce-skomercjalizowac-uprawy',\n",
       " 'https://www.tvp.info/65612511/grypa-ptakow-atakuje-epidemia-wirusa-w-europie-francja-niemcy-wielka-brytania-czechy-agro-biznes',\n",
       " 'https://www.tvp.info/65612340/za-49-euro-miesiecznie-mozna-w-niemczech-jezdzic-wszystkimi-pociagami-sprawdzilismy',\n",
       " 'https://www.tvp.info/65612019/prognozy-dla-rynku-mieszkaniowego-2023-ceny-domow-beda-spadac-',\n",
       " 'https://www.tvp.info/65601005/francuska-gospodarka-pkb-i-mozliwa-recesja-',\n",
       " 'https://www.tvp.info/65600751/wojna-zmienia-gospodarke-nowy-budzet-odpowiedzia-na-niepewnosc-geopolityczna',\n",
       " 'https://www.tvp.info/65596964/polska-przyjmie-euro-cezary-kazmierczak-apeluje-by-tego-nie-robic',\n",
       " 'https://www.tvp.info/65596549/tauron-zada-poteznej-kary-chodzi-o-wady-bloku-elektrowni-jaworzno-',\n",
       " 'https://www.tvp.info/65593860/premier-mateusz-morawiecki-krytykuje-apele-opozycji-o-wejscie-do-strefy-euro',\n",
       " 'https://www.tvp.info/65593383/rolnictwo-rynek-zboz-pod-nadzorem-rzadu-premier-morawiecki-i-minister-rolnictwa-spotkali-sie-z-organizacjami-rolniczymi-agro-biznes',\n",
       " 'https://www.tvp.info/65583689/spolki-z-grupy-orlen-z-4-nowymi-koncesjami-na-norweskim-szelfie-',\n",
       " 'https://www.tvp.info/65581495/ceny-paliw-ekspert-dr-artur-bartoszewicz-o-dzialaniach-orlenu-gdyby-nie-to-inflacja-bylaby-znacznie-wyzsza',\n",
       " 'https://www.tvp.info/65579417/rekordowy-rok-portu-gdynia-jacek-sadaj-prezes-zarzadu-portu-gdynia-gosciem-radia-gdansk',\n",
       " 'https://www.tvp.info/65578790/hiszpania-ma-najwyzsze-bezrobocie-w-ue-co-trzeci-mlody-czlowiek-bez-pracy-eurostat',\n",
       " 'https://www.tvp.info/65577817/kanada-e-samoloty-coraz-blizej-przewoznik-zamowil-30-hybrydowo-elektrycznych-samolotow-es-30-heart-aerospace',\n",
       " 'https://www.tvp.info/65577427/wojna-rosji-na-ukrainie-ukrainscy-uchodzcy-zalozyli-w-polsce-niemal-14-tysiecy-firm',\n",
       " 'https://www.tvp.info/65574986/zmiany-w-kodeksie-pracy-co-dalej-z-urlopami-rodzicielskimi',\n",
       " 'https://www.tvp.info/65549413/szymon-holownia-proponowal-zlikwidowanie-gotowki-teraz-chce-ja-chronic',\n",
       " 'https://www.tvp.info/65549412/stawki-za-kilometrowki-2023-sprawdz-o-ile-wzrosna-od-17-stycznia-nowe-stawki-za-uzywanie-samochodu-w-celach-sluzbowych',\n",
       " 'https://www.tvp.info/65540426/krakowska-restauracja-uznana-za-najlepsza-w-polsce-i-jedna-z-najlepszych-w-europie',\n",
       " 'https://www.tvp.info/65538294/macron-podnosi-wiek-emerytalny-co-na-to-francuzi',\n",
       " 'https://www.tvp.info/65537974/statki-wycieczkowe-wracaja-do-oleju-napedowego-przez-wysokie-ceny-lng',\n",
       " 'https://www.tvp.info/65536843/trolejbusy-solaris-z-polski-w-budapeszcie',\n",
       " 'https://www.tvp.info/65529723/tankowanie-tansze-w-czechach-czy-w-polsce-pkn-orlen-prostuje-bledne-informacje',\n",
       " 'https://www.tvp.info/65525424/oczekiwane-premiery-gier-w-2023-roku',\n",
       " 'https://www.tvp.info/65516336/chleb-z-recyklingu-holendrzy-opracowali-technologie-wyrobu-nowego-ze-starego',\n",
       " 'https://www.tvp.info/65512966/eurostat-podal-dane-na-temat-inflacji-w-unii-europejskiej-i-strefie-euro',\n",
       " 'https://www.tvp.info/65511988/tvn-w-grudniu-kierowcy-dostana-po-kieszeni-od-nowego-roku',\n",
       " 'https://www.tvp.info/65492351/rzad-przyjal-program-wsparcia-dla-sektorow-energochlonnych',\n",
       " 'https://www.tvp.info/65490970/wsa-zakup-porsche-911-carrera-s-nie-sluzy-rehabilitacji-pracownika-',\n",
       " 'https://www.tvp.info/65488805/inflacja-w-grudniu-spadek-inflacji-dane-gus-jakie-ceny',\n",
       " 'https://www.tvp.info/65486198/ke-dala-orlenowi-wiecej-czasu-na-finalizacje-transakcji-z-unimotem-',\n",
       " 'https://www.tvp.info/65473980/benzyna-diesel-wzrost-cen-paliw-w-niemczech',\n",
       " 'https://www.tvp.info/65474374/rpp-podjela-decyzje-ws-stop-procentowych-wideo',\n",
       " 'https://www.tvp.info/65473037/nowe-ceny-biletow-pkp-intercity-podaje-szczegoly',\n",
       " 'https://www.tvp.info/65466090/niemcy-wnosza-do-budzetu-ue-25-mld-euro-netto-ale-zyskuja-ponad-piec-razy-wiecej-bo-132-mld-euro-rocznie',\n",
       " 'https://www.tvp.info/65451900/raport-placowy-hays-poland-81-proc-firm-uwzglednilo-wzrost-wynagrodzen-w-2023-roku',\n",
       " 'https://www.tvp.info/65448561/nord-stream-zostanie-naprawiony-niemcy-pisza-o-planach-rosji',\n",
       " 'https://www.tvp.info/65444607/kolej-rekordowe-wyniki-pkp-intercity-za-2022-rok-59-milionow-pasazerow-zobacz-wykres',\n",
       " 'https://www.tvp.info/65443798/czy-w-polsce-zabraklo-gazu-magazyny-zapelnione-na-97-procent',\n",
       " 'https://www.tvp.info/65444091/polska-stracila-kontrole-nad-rafineria-gdanska-orlen-dementuje-fake-news-tvn24',\n",
       " 'https://www.tvp.info/65432074/sklepy-maja-nowy-obowiazek-wobec-klientow',\n",
       " 'https://www.tvp.info/65425958/tvn-i-handel-koncesjami-sprawe-hgtv-bada-krajowa-rada-radiofonii-i-telewizji-krrit',\n",
       " 'https://www.tvp.info/65425247/prezes-uokik-wszczal-postepowanie-przeciwko-t-mobile-polska-',\n",
       " 'https://www.tvp.info/65419196/ochrona-konsumentow-wchodza-nowe-przepisy-uokik-podaje-szczegoly',\n",
       " 'https://www.tvp.info/65415636/inflacja-w-niemczech-w-2023-roku-wzrost-cen-siegnie-nawet-7-procent',\n",
       " 'https://www.tvp.info/65414389/wzroslo-minimalne-wynagrodzenie-za-prace-',\n",
       " 'https://www.tvp.info/65402615/pkn-orlen-obnizyl-ceny-hurtowe-benzyny-i-oleju-napedowego',\n",
       " 'https://www.tvp.info/65401135/rosja-wladimir-putin-wydal-dekret-ws-platnosci-za-gaz-w-obcych-walutach',\n",
       " 'https://www.tvp.info/65400278/orlen-konczy-kontrakt-na-rosyjska-rope-daniel-obajtek-nie-przedluzymy-umowy',\n",
       " 'https://www.tvp.info/65389967/spadki-na-wall-street-gielda-usa',\n",
       " 'https://www.tvp.info/65382004/polski-system-antydronowy-drony-beda-niszczone-przez-polski-sprzet-',\n",
       " 'https://www.tvp.info/65377644/plan-for-na-prywatyzacje-spolek-skarbu-panstwa-co-leszek-balcerowicz-i-koledzy-chcieliby-zrobic-z-orlenem-lotosem-pko-bp-czy-kghm',\n",
       " 'https://www.tvp.info/65364605/polska-spolka-odzyskuje-pkp-energetyke-ta-firma-nigdy-nie-powinna-zostac-sprzedana',\n",
       " 'https://www.tvp.info/65365454/-do-polski-wplynelo-ponad-1-mld-euro-zaliczek-z-komisji-europejskiej',\n",
       " 'https://www.tvp.info/65361632/allegro-zaplaci-kare-za-co-chodzi-miedzy-innymi-o-usluge-smart-prezes-uokik-wydal-dwie-decyzje',\n",
       " 'https://www.tvp.info/65364167/spadek-cen-ropy-notowania-ropy-brent-spadaja-w-czwartek-o-ponad-16-proc-do-nieco-ponad-826-dol-za-barylke',\n",
       " 'https://www.tvp.info/65361130/inflacja-o-ile-jest-nizsza-dzieki-tarczy-antyinflacyjnej-rzadu-wiceminister-finansow-artur-sobon-podaje-szacunki',\n",
       " 'https://www.tvp.info/65360229/rafineria-gdanska-podmiotem-podlegajacym-szczegolnej-ochronie-jest-rozporzadzenie-rady-ministrow-',\n",
       " 'https://www.tvp.info/65359242/magdalena-rzeczkowska-na-twitterze-minister-finansow-pisze-o-kpo',\n",
       " 'https://www.tvp.info/65356084/firmy-w-polsce-planuja-zwolnienia-odsetek-zatrudnienia-jest-jednak-wysoki-beda-rosly-tez-wynagrodzenia',\n",
       " 'https://www.tvp.info/65349109/obajtek-o-imporcie-ropy-naftowej-z-rosji',\n",
       " 'https://www.tvp.info/65344864/skutki-sankcji-eksport-gazu-z-rosji-do-ue-przez-gazociagi-spadl-ale-moskwa-na-surowcach-zarabia-wiecej',\n",
       " 'https://www.tvp.info/65344386/koniec-roku-2022-raport-na-temat-cen-paliw-na-stacjach-benzynowych',\n",
       " 'https://www.tvp.info/65340253/pkp-energetyka-zrenacjonalizowana-pge-potwierdza-transakcje-za-19-mld-zlotych',\n",
       " 'https://www.tvp.info/65339436/bartlomiej-sienkiewicz-z-platformy-obywatelskiej-i-kontrakty-z-pkn-orlen-internauci-przypominaja',\n",
       " 'https://www.tvp.info/65338419/wojna-na-ukrainie-uchodzcy-swietnie-sobie-radza-na-polskim-rynku-pracy-',\n",
       " 'https://www.tvp.info/65336375/rolnictwo-rynek-trzody-coraz-trudniejszy-poglowie-swin-spada',\n",
       " 'https://www.tvp.info/65335967/polskie-firmy-przechodza-na-produkcje-owadziego-bialka-wideo',\n",
       " 'https://www.tvp.info/65335205/budowa-cpk-rekord-zgloszen-do-programu-dobrowolnych-nabyc',\n",
       " 'https://www.tvp.info/65324747/gpw-zamknela-transakcje-zakupu-6503-proc-akcji-armenia-securities-exchange',\n",
       " 'https://www.tvp.info/65324138/jednolite-ladowarki-w-ue-przepisy-wchodza-w-zycie-',\n",
       " 'https://www.tvp.info/65314341/fabryka-broni-lucznik-zwieksza-produkcje-prezes-wojciech-arndt-zapowiada-rozbudowe',\n",
       " 'https://www.tvp.info/65312862/wzrost-stop-procentowych-przyczyna-zalamania-rynku-kredytow-mieszkaniowych',\n",
       " 'https://www.tvp.info/65312863/luksusowe-ceny-aut-',\n",
       " 'https://www.tvp.info/65312721/rynek-pracy-wroclaw-latarnik-poszukiwany',\n",
       " 'https://www.tvp.info/65312673/inflacja-w-ameryce-lacinskiej-argentyna-z-niemal-trzycyfrowa-inflacja',\n",
       " 'https://www.tvp.info/65309155/turcja-odkryla-zloza-gazu-na-morzu-czarnym-prezydent-turcji-recep-tayyip-erdogan-z-optymizmem',\n",
       " 'https://www.tvp.info/65296355/bloomberg-nie-chce-kupic-washington-post',\n",
       " 'https://www.tvp.info/65273309/spadki-na-gieldzie-wall-street-usa',\n",
       " 'https://www.tvp.info/65268399/spadki-cen-gazu-na-rynku-europejskim-w-granicach-6-9-proc-',\n",
       " 'https://www.tvp.info/65266623/znaczna-nadwyzka-w-budzecie-sa-szacunki-ministerstwa-finansow',\n",
       " 'https://www.tvp.info/65244959/litwini-na-swiatecznych-zakupach-w-polsce-',\n",
       " 'https://www.tvp.info/65239085/pkn-orlen-wchlania-lotos-kluczowa-rola-saudi-aramco-jest-dostarczanie-polsce-ropy-spoza-rosji-pkn-orlen',\n",
       " 'https://www.tvp.info/65225960/hiszpania-20-proc-wzrost-wplywow-do-budzetu-bank-centralny-nie-wiemy-skad-pochodza-pieniadze',\n",
       " 'https://www.tvp.info/65221169/wyjazdy-na-swieta-beda-kosztowaly-kierowcow-wiecej-niz-roku-temu',\n",
       " 'https://www.tvp.info/65218574/program-wspoldzialania-krajowa-administracja-skarbowa-podpisala-umowy-z-budimex-sa-philip-morris-polska-distribution-oraz-polomarket',\n",
       " 'https://www.tvp.info/65214707/bik-liczba-i-wartosc-kredytow-mieszkaniowych-w-listopadzie-spadla-o-ok-70-proc-',\n",
       " 'https://www.tvp.info/65213804/karpie-na-swieta-kupujemy-coraz-chetniej-przez-internet-albo-od-producenta',\n",
       " 'https://www.tvp.info/65206851/energetyka-szczecin-coraz-blizej-powstania-farm-wiatrowych-na-baltyku-tvp3-szczecin',\n",
       " 'https://www.tvp.info/65207004/profil-pue-zus-coraz-mniej-czasu-dla-platnikow-tvp3-rzeszow',\n",
       " 'https://www.tvp.info/65213193/usa-elon-musk-odda-stery-twitter',\n",
       " 'https://www.tvp.info/65199753/ministertstwo-finansow-i-krajowa-administracja-skarbowa-ostrzegaja-przed-wyludzeniami-poprzez-falszywa-strone-e-toll',\n",
       " 'https://www.tvp.info/65198501/premier-morawiecki-polaczenie-pkn-orlen-z-lotosem-to-nizsze-koszty-paliwa-zysk-dla-panstwa-i-obywateli',\n",
       " 'https://www.tvp.info/65192935/planujesz-budowe-domu-bedziesz-mial-mniej-formalnosci',\n",
       " 'https://www.tvp.info/65192228/rzad-pracuje-nadzawodnicza-emerytura',\n",
       " 'https://www.tvp.info/65180628/minister-moskwa-ws-cen-gazu-osiagnelismy-to-co-chcielismy-',\n",
       " 'https://www.tvp.info/65179751/premier-morawiecki-o-porozumieniu-ws-cen-gazu-to-koniec-manipulacji-rynkiem-przez-rosje',\n",
       " 'https://www.tvp.info/65178998/limit-cen-za-gaz-jest-wstepne-porozumienie-w-ue',\n",
       " 'https://www.tvp.info/65177064/wazna-decyzja-ws-rafinerii-gdanskiej-bedzie-podlegac-szczegolnej-ochronie',\n",
       " 'https://www.tvp.info/65173710/emerytury-waloryzacja-i-duze-zmiany-swiadczen',\n",
       " 'https://www.tvp.info/65172824/ustawa-wiatrakowa-na-stronie-sejmu-opublikowano-autopoprawke-co-sie-zmieni-mieszkancy-gminy-beda-prosumentami',\n",
       " 'https://www.tvp.info/65159304/ekonomia-boze-narodzenie-tyle-wydamy-na-prezenty-w-tym-roku-raport',\n",
       " 'https://www.tvp.info/65155067/goldman-sachs-zwolni-tysiace-pracownikow-obetnie-tez-premie',\n",
       " 'https://www.tvp.info/65151701/wiceminister-ozdoba-energetyka-weglowa-powinna-funkcjonowac-jak-najdluzej',\n",
       " 'https://www.tvp.info/65149896/-ceny-energii-tauron-podal-ile-zaoszczedza-odbiorcy',\n",
       " 'https://www.tvp.info/65148675/ile-zaplacimy-za-prad-w-2023-r-wsparcie-przedluzone-jest-decyzja-urzedu-regulacji-energetyki-europejski-kryzys-energetyczny',\n",
       " 'https://www.tvp.info/65145721/obajtek-powrot-vat-u-nie-powinien-miec-istotnego-wplywu-na-ceny-paliw-i-kieszenie-polakow',\n",
       " 'https://www.tvp.info/65130418/orlen-chce-zwiekszyc-wydobycie-gazu-i-ropy-z-norwegii',\n",
       " 'https://www.tvp.info/65126273/wojna-na-ukrainie-gospodarka-ukrainy-bank-swiatowy-uwalnia-2-mld-dolarow-na-wsparcie-ukrainskiego-sektora-prywatnego',\n",
       " 'https://www.tvp.info/65107934/inflacja-w-listopadzie-wyniosla-175-procent-gus-podal-ostateczne-dane',\n",
       " 'https://www.tvp.info/65084975/elon-musk-nie-jest-juz-najbogatszym-czlowiekiem-na-swiecie-wyprzedzil-go-bernard-arnault',\n",
       " 'https://www.tvp.info/65084229/do-kiedy-mozna-przekazywac-korekty-dokumentow-rozliczeniowych-zus',\n",
       " 'https://www.tvp.info/65071110/inflacja-w-usa-w-listopadzie-wyniosla-w-ujeciu-rocznym-71-proc-to-mniej-niz-w-pazdzierniku-',\n",
       " 'https://www.tvp.info/65064942/samochody-elektryczne-coraz-popularniejsze-w-polsce-wzrost-o-39-proc-rdr',\n",
       " 'https://www.tvp.info/65064813/sam-bankman-fried-aresztowany-na-bahamach-spektakularny-upadek-tworcy-gieldy-kryptowalut-ftx',\n",
       " 'https://www.tvp.info/65062711/kursy-walut-13122022-euro-dolar-frank-szwajcarski-we-wtorek-13-grudnia-eur-usd-chf',\n",
       " 'https://www.tvp.info/65050119/niemcy-moga-wywlaszczyc-rosneft-handelsblatt-to-przez-nacisk-warszawy',\n",
       " 'https://www.tvp.info/65045726/mercedes-benz-chce-zainwestowac-ponad-1-mld-euro-w-fabryke-w-jaworze',\n",
       " 'https://www.tvp.info/65031580/11-grudnia-to-niedziela-handlowa-czy-sklepy-sa-dzis-otwarte-',\n",
       " 'https://www.tvp.info/65023357/rolnictwo-drobiarstwo-sie-odbudowuje-produkcja-gesiny-rosnie',\n",
       " 'https://www.tvp.info/65012526/rzad-wlk-brytanii-lagodzi-przepisy-bankowe',\n",
       " 'https://www.tvp.info/65011244/krakow-ceny-ogrodkow-dzialkowych-poszybowaly-teleexpress',\n",
       " 'https://www.tvp.info/65007365/czy-czarna-lista-twittera-rzeczywiscie-istniala-nowe-fakty',\n",
       " 'https://www.tvp.info/65002385/ktore-marki-samochodow-pozostaly-w-rosji',\n",
       " 'https://www.tvp.info/65001710/totalenergies-wycofuje-sie-z-udzialow-w-rosyjskim-gigancie-gazowym-novatek',\n",
       " 'https://www.tvp.info/65000088/kontrole-w-sklepach-i-hurtowniach-np-kontigo-sephora-rossmann-hebe-uokik-zastrzezenia-do-38-proc-kosmetykow-',\n",
       " 'https://www.tvp.info/64997538/raport-81-proc-polakow-zamierza-ograniczyc-wydatki-na-swiateczne-zakupy-spozywcze',\n",
       " 'https://www.tvp.info/64981959/pracownicy-portugalskich-linii-lotniczych-tap-strajkuja-odwolano-setki-lotow-',\n",
       " 'https://www.tvp.info/64980529/nbp-zysk-bankow-od-wrzesnia-do-pazdziernika-wzrosl-o-437-mld-zl',\n",
       " 'https://www.tvp.info/64978554/niedziele-handlowe-przed-swietami-bozego-narodzenia',\n",
       " 'https://www.tvp.info/64968527/rpp-podjela-decyzje-ws-stop-procentowych-komentarz-glownego-ekonomisty-bcc-stanislawa-gomulki',\n",
       " 'https://www.tvp.info/64964931/co-ze-stopami-procentowymi-rpp-podjela-decyzje',\n",
       " 'https://www.tvp.info/64958130/kryzys-paliwowy-na-wegrzech-krajowe-limity-cen-na-paliwo-prezes-pkn-orlen-daniel-obajtek-to-efekt-zbytniej-ingerencji-w-zasady-wolnego-rynku',\n",
       " 'https://www.tvp.info/64957814/jacek-kurski-ma-nowa-prace-zostal-przedstawicielem-polski-w-radzie-dyrektorow-wykonawczych-banku-swiatowego-',\n",
       " 'https://www.tvp.info/64954981/stopy-procentowe-decyzja-rady-polityki-pienieznej-w-srode-7-grudnia-prognozy-ekonomistow-to-bedzie-mialo-wplyw-na-wibor',\n",
       " 'https://www.tvp.info/64945790/inflacja-wegry-koncern-mol-bezpieczenstwo-dostaw-paliw-na-wegrzech-jest-zagrozone',\n",
       " 'https://www.tvp.info/64933297/rosnie-wartosc-polskich-inwestycji-za-granica',\n",
       " 'https://www.tvp.info/64927603/wegry-klopoty-ekonomiczne-wysoka-inflacja-gyorgy-matolcsy-prezes-narodowego-banku-wegier-mnb-krytykuje-rzad-viktora-orbana',\n",
       " 'https://www.tvp.info/64927187/krajowy-plan-odbudowy-dla-polski-blokowany-przez-ue-minister-finansow-magdalena-rzeczkowska-o-kpo-nie-czekamy-na-pieniadze-z-brukseli',\n",
       " 'https://www.tvp.info/64923085/limit-na-rosyjska-rope-jest-reakcja-rynku',\n",
       " 'https://www.tvp.info/64918609/kolejne-fundusze-ze-szwajcarii-dla-polski',\n",
       " 'https://www.tvp.info/64917056/import-i-przeladunek-wegla-w-polskich-portach-premier-mateusz-morawiecki-w-gdansku-weszlismy-w-caly-ciag-logistyczny',\n",
       " 'https://www.tvp.info/64915933/komisja-europejska-zatwierdzila-385-mld-euro-na-transformacje-pieciu-polskich-regionow-gorniczych',\n",
       " 'https://www.tvp.info/64914599/klopoty-z-benzyna-i-ropa-na-wegierskich-stacjach',\n",
       " 'https://www.tvp.info/64912227/stacja-tvn-zwrocila-sie-do-krritv-o-przedluzenie-koncesji',\n",
       " 'https://www.tvp.info/64888823/cena-paliwa-spadnie-czy-wzrosnie-dlaczego-nie-tanieje-razem-z-barylka-ekspert-komentuje',\n",
       " 'https://www.tvp.info/64887557/zerowa-stawka-vat-na-zywnosc-zostanie-z-nami-na-dluzej-rozporzadzenie-podpisane',\n",
       " 'https://www.tvp.info/64886485/mikolaj-szuka-oszczednosci-wydatki-na-prezenty-beda-mniejsze',\n",
       " 'https://www.tvp.info/64881055/amerykanska-gielda-ze-spadkami-wall-street-analizuje-rynek-pracy',\n",
       " 'https://www.tvp.info/64875697/limit-ceny-za-rosyjskarope-jest-zgoda-polski',\n",
       " 'https://www.tvp.info/64872919/gaz-z-azerbejdzanu-zamiast-z-rosji-firmy-z-kilku-krajow-podpisaly-porozumienie-w-sprawie-tzw-korytarza-pionowego',\n",
       " 'https://www.tvp.info/64869541/ropa-drozeje-na-potege-takiego-wzrostu-cen-na-gieldzie-w-nowym-jorku-nie-bylo-od-miesiecy',\n",
       " 'https://www.tvp.info/64853416/do-gazoportu-w-swinoujsciu-dotarla-200-dostawa-lng',\n",
       " 'https://www.tvp.info/64851947/orlen-unipetrol-kupuje-stacje-paliw-na-wegrzech-i-slowacji',\n",
       " 'https://www.tvp.info/64848058/hiszpania-polacy-kupuja-mieszkania-padly-rekordy',\n",
       " 'https://www.tvp.info/64843435/baltic-pipe-z-pelna-przepustowoscia-politycy-platformy-obywatelskiej-zapewniali-ze-gazociag-bedzie-pusty',\n",
       " 'https://www.tvp.info/64831201/gospodarka-krymu-w-ruinie-aby-ratowac-sytuacje-rosja-musi-przeznaczac-gigantyczne-dotacje',\n",
       " 'https://www.tvp.info/64829576/gazociag-baltic-pipe-osiagnal-pelna-przepustowosc-',\n",
       " 'https://www.tvp.info/64826832/warunkowa-decyzja-ke-ws-przejecia-przez-orlen-kontroli-nad-lotosem-spolka-podpisala-umowy-z-aramco-overseas-company',\n",
       " 'https://www.tvp.info/64824241/inflacja-w-listopadzie-2022-r-174-proc-nowe-dane-gus-szybki-odczyt-spadek-inflacji-',\n",
       " 'https://www.tvp.info/64823525/norwegia-kupuje-polskie-zestawy-rakietowe-piorun-spolka-mesko-podpisala-kontrakt',\n",
       " 'https://www.tvp.info/64805730/musk-rozpocznie-produkcje-telefonow-jest-jeden-warunek',\n",
       " 'https://www.tvp.info/64801665/gaz-lng-poplynie-z-kataru-do-niemiec-umowa-na-15-lat',\n",
       " 'https://www.tvp.info/64800841/zyski-orlenu-opozycja-powiela-fake-newsa-koncern-wyjasnia',\n",
       " 'https://www.tvp.info/64800530/adam-glapinski-prezes-nbp-o-czlonkach-rpp-ktorzy-opublikowali-zdania-odrebne-to-nie-powinno-byc-ujawnione',\n",
       " 'https://www.tvp.info/64795149/zakaz-sprzedazy-samochodow-spalinowych-od-2035-r-w-ue-zagrozonych-13-mln-miejsc-pracy-',\n",
       " 'https://www.tvp.info/64784206/inflacja-drozszy-transport-tankowcami-wplynie-na-inflacje-reuters',\n",
       " 'https://www.tvp.info/64777197/orlen-musi-zaplacic-miliony-zlotych-za-zobowiazania-lotosu-daniel-obajtek-tlumaczy-dlaczego-w-tle-mafie-vatowskie-',\n",
       " 'https://www.tvp.info/64773122/elon-musk-opublikowal-fake-newsa-ws-cnn',\n",
       " 'https://www.tvp.info/64769819/barylka-tanieje-a-paliwo-na-stacjach-nie-pkn-orlen-wyjasnia',\n",
       " 'https://www.tvp.info/64762242/belgia-przedsiebiorstwa-planujazwolnienia-pracownikow',\n",
       " 'https://www.tvp.info/64759529/jaki-vat-na-zywnosc-w-przyszlym-roku-jest-deklaracja-min-kowalczyka',\n",
       " 'https://www.tvp.info/64757763/ue-moze-obejsc-sie-bez-gazu-i-ropy-z-rosji-jesli-pozostanie-solidarna',\n",
       " 'https://www.tvp.info/64740475/zakaz-sprzedazy-chinskich-produktow-elektronicznych-w-usa',\n",
       " 'https://www.tvp.info/64728525/chiny-protest-w-fabryce-iphone-produkcja-spadnie-o-13-problemy-z-dostawami-',\n",
       " 'https://www.tvp.info/64727277/inspekcja-handlowa-w-placowkach-detalicznych-uokik-nieprawidlowosci-u-ponad-50-proc-przedsiebiorcow',\n",
       " 'https://www.tvp.info/64723736/uwaga-na-oszustwa-internetowe-podczas-black-friday',\n",
       " 'https://www.tvp.info/64717888/unia-europejska-portal-politico-zaproponowany-przez-ke-pulap-cenowy-na-gaz-to-homeopatia',\n",
       " 'https://www.tvp.info/64717925/elon-musk-amnestia-dla-zawieszonych-kont-na-twitterze',\n",
       " 'https://www.tvp.info/64711803/projekt-ministerstwa-finansow-umorzona-przez-pfr-pomoc-dla-przedsiebiorcow-w-ramach-tarcz-antykryzysowych-bez-podatku-tez-w-2023-r',\n",
       " 'https://www.tvp.info/64686683/wyzszy-vat-na-paliwo-ke-chce-podwyzszenia-vat-na-paliwo-prezes-pkn-orlen-daniel-obajtek-komentuje',\n",
       " 'https://www.tvp.info/64683805/kursy-walut-23112022-zloty-zyskuje-wobec-dolara-jest-silniejszy-wobec-euro-niz-rok-temu-kursy-eur-usd-chf',\n",
       " 'https://www.tvp.info/64673063/tvp3-gdansk-wrota-chronia-zulawy-przed-cofka-konstrukcja-hydrotechniczna-kosztowala-33-mln-zl',\n",
       " 'https://www.tvp.info/64672580/belgia-nadal-importuje-diamenty-z-rosji',\n",
       " 'https://www.tvp.info/64665122/turecka-firma-z-sektora-chemicznego-uruchomi-zaklad-produkcyjny-w-stargardzie',\n",
       " 'https://www.tvp.info/64660687/przewodow-dziennikarz-ap-piszacy-o-rakietach-rosjan-zwolniony-z-pracy',\n",
       " 'https://www.tvp.info/64648248/sad-uchylil-decyzje-ws-gazpromu-uokik-bedzie-apelacja',\n",
       " 'https://www.tvp.info/64645576/bank-pocztowy-ing-bank-slaski-nest-bank-i-santander-consumer-bank-uokik-postawil-zarzuty-bankom-ktore-nie-zwrocily-klientom-w-terminie-pieniedzy-utraconych-w-wyniku-nieautoryzowanych-transakcji-i-wprowadzaly-konsumentow-w-blad-',\n",
       " 'https://www.tvp.info/64546996/warszawa-rafal-trzaskowski-podatki-od-nieruchomosci-o-12-proc-w-gore',\n",
       " 'https://www.tvp.info/64642017/holenderskie-banki-ida-na-wojne-z-terroryzmem-i-praniem-pieniedzy-beda-wspolnie-badac-wszystkie-transakcje-powyzej-100-euro',\n",
       " 'https://www.tvp.info/64639138/die-welt-ostro-o-strefie-euro-rozpadnie-sie',\n",
       " 'https://www.tvp.info/64639181/niemcy-sa-wsciekle-nieoficjalne-informacje-z-brukseli-ws-polsko-francuskiej-koalicji-limity-na-ceny-gazu-w-ue',\n",
       " 'https://www.tvp.info/64638968/disney-zwalnia-ceo-bob-chapek-odchodzi-jego-miejsce-zajmie-bob-iger-w-tle-dramatyczne-spadki-na-gieldzie-i-konflikt-z-gubernatorem-florydy-ronem-desantisem',\n",
       " 'https://www.tvp.info/64635086/wojna-na-ukrainie-ukrainski-wiceminister-gospodarki-co-najmniej-5-milionow-osob-stracilo-zatrudnienie',\n",
       " 'https://www.tvp.info/64630663/opodatkowanie-hipermaretkow-ue-jest-przeciw',\n",
       " 'https://www.tvp.info/64628869/gdansk-panele-fotowoltaiczne-na-terenie-portu-morskiego',\n",
       " 'https://www.tvp.info/64627415/elektryczne-samochody-czesciej-ze-szkoda-calkowita-czy-polisy-beda-drozsze-',\n",
       " 'https://www.tvp.info/64613434/polska-apeluje-o-wylaczenie-budownictwa-z-ets',\n",
       " 'https://www.tvp.info/64598764/andrzej-duda-z-wizyta-w-hucie-szkla-w-krosnie',\n",
       " 'https://www.tvp.info/64594743/oswiadczenie-pkn-orlen-aktywa-grupy-lotos-zabezpieczone-',\n",
       " 'https://www.tvp.info/64592789/holandia-ceny-grudniowych-kontraktow-na-gaz-w-piatek-spadaja',\n",
       " 'https://www.tvp.info/64583963/gala-xx-edycji-nagrody-gospodarczej-prezydenta-rp-',\n",
       " 'https://www.tvp.info/64578593/-air-france-uziemione-w-boze-narodzenie-i-sylwestra-pracownicy-zapowiadaja-strajk',\n",
       " 'https://www.tvp.info/64578492/brytyjska-gospodarka-jest-w-recesji-bezrobocie-wzrosnie-a-poziom-zycia-przecietnej-rodziny-zmniejszy-sie-',\n",
       " 'https://www.tvp.info/64577580/chinska-grupa-motoryzacyjna-geely-holding-zostala-partnerem-pierwszej-marki-polskiego-samochodu-elektrycznego-izera',\n",
       " 'https://www.tvp.info/64570606/media-spektakularny-koniec-gieldy-kryptowalut-ftx-jak-upadek-lehman-brothers-umarlo-krypto-marzenie',\n",
       " 'https://www.tvp.info/64560259/niemcy-brakuje-informatykow-firmy-chca-zatrudniac-rosjan',\n",
       " 'https://www.tvp.info/64556884/pkn-orlen-uruchomil-ultraszybka-stacje-ladowania-aut-elektrycznych',\n",
       " 'https://www.tvp.info/64554141/sytuacja-na-rynkach-finansowych-po-wybuchu-w-przewodowie',\n",
       " 'https://www.tvp.info/64548153/elektrownia-atomowa-w-polsce-ilu-polakow-chce-aby-powstala-jest-sondaz',\n",
       " 'https://www.tvp.info/64536377/mundial-w-katarze-linie-virgin-atlantic-zawieszaja-swoje-zasady-dot-plci-i-strojow-na-lot-do-kataru-tlumacza-ze-samolot-bedzie-z-flaga-lgbt',\n",
       " 'https://www.tvp.info/64534555/kryzys-zywnosciowy-w-niemczech-mieso-dobrem-luksusowym-',\n",
       " 'https://www.tvp.info/64529727/gus-poinformowal-o-inflacji-w-pazdzierniku-',\n",
       " 'https://www.tvp.info/64527924/g20-szef-re-europa-musi-unikac-zbytniego-uzaleznienia-od-chin',\n",
       " 'https://www.tvp.info/64521484/czterodniowy-tydzien-pracy-jest-projekt-ustawy-partii-razem-tvp3-poznan',\n",
       " 'https://www.tvp.info/64527430/czy-mezczyzni-w-polsce-zarabiaja-wiecej-od-kobiet-jak-wypadamy-na-tle-unii-europejskiej',\n",
       " 'https://www.tvp.info/64507447/tarcza-antyinflacyjna-sobon-od-1-stycznia-zostawimy-zerowy-vat-na-zywnosc',\n",
       " 'https://www.tvp.info/64506520/uokik-rozpoczely-sie-kontrole-skladow-wegla-w-calej-polsce',\n",
       " 'https://www.tvp.info/64481977/czy-groza-nam-zaklocenia-na-rynku-paliw-dyrektor-w-popihn-krzysztof-romaniuk-mamy-odpowiednie-zapasy',\n",
       " 'https://www.tvp.info/64478983/wzrosty-na-wall-street-gielda-amerykanska-boje-rekordy',\n",
       " 'https://www.tvp.info/64470928/w-czasie-ostrej-zimy-kraje-ue-moga-byc-zmuszone-do-redukcji-popytu-na-gaz-o-ok-10-proc',\n",
       " 'https://www.tvp.info/64466740/elon-musk-zmienia-twitter-zwolnienia-boty-trolle',\n",
       " 'https://www.tvp.info/64439684/stabilna-perspektywa-pkn-orlen-fitch-podnosi-rating',\n",
       " 'https://www.tvp.info/64459446/inflacja-w-usa-wyhamowala-dolar-spada-zloty-rosnie',\n",
       " 'https://www.tvp.info/64456736/energetyka-wiatrowa-w-niemczech-jak-wiatrowe-turbiny-wykorzystuja-niemcy',\n",
       " 'https://www.tvp.info/64455070/turow-niemiecka-zytawa-chce-pozwac-polske-ws-rozbudowy-kopalni',\n",
       " 'https://www.tvp.info/64451245/prezydent-podpisal-ustawe-antylichwiarska',\n",
       " 'https://www.tvp.info/64449686/cpk-podpisala-umowe-na-tzw-master-architekta-nowego-portu',\n",
       " 'https://www.tvp.info/64447095/zasilek-pogrzebowy-ma-pojsc-w-gore-trwaja-prace-nad-zmianami-',\n",
       " 'https://www.tvp.info/64436422/lugano-szwajcaria-w-sieci-mcdonalds-bedzie-mozna-zaplacic-kryptowaluta-',\n",
       " 'https://www.tvp.info/64436225/stopy-procentowe-rada-polityki-pienieznej-podjela-decyzje',\n",
       " 'https://www.tvp.info/64432774/rzad-niemiec-zakazal-sprzedazy-zakladu-chipow-chinskim-inwestorom',\n",
       " 'https://www.tvp.info/64432328/facebook-zwalnia-11-tys-pracownikow-mark-zuckerberg-zdradza-szczegoly',\n",
       " 'https://www.tvp.info/64429691/stopy-procentowe-w-srode-9-listopada-decyzja-rady-polityki-pienieznej-jaka-decyzja-9112022-',\n",
       " 'https://www.tvp.info/64426041/wedlug-ke-wprowadzenie-limitu-cen-gazu-jest-niemozliwe',\n",
       " 'https://www.tvp.info/64424222/twitter-wprowadza-nowy-znacznik-dla-zweryfikowanych-uzytkownikow-nie-tylko-platny-twitter-blue-za-8-dolarow',\n",
       " 'https://www.tvp.info/64424727/prezes-pkn-orlen-wyklucza-zaangazowanie-w-duzy-atom',\n",
       " 'https://www.tvp.info/64422415/pomoc-dla-ukrainy-niemcy-blokuja-pomoc-z-unii-europejskiej',\n",
       " 'https://www.tvp.info/64405572/rachunki-za-prad-i-gaz-w-stolicach-unii-europejskiej-wzrosly-niemal-dwukrotnie-w-2022-roku-',\n",
       " 'https://www.tvp.info/64404865/poludniowokoreanski-koncern-spozywczy-zapowiada-inwestycje-w-polsce-w-krakowie-ma-powstac-fabryka-kimchi-',\n",
       " 'https://www.tvp.info/64401490/cpk-zablokowane-rzad-komentuje-spekulacje-opozycji-i-mediow',\n",
       " 'https://www.tvp.info/64401292/nowe-technologie-maja-uproscic-procedury-na-budowie',\n",
       " 'https://www.tvp.info/64398962/argentyna-inflacja-ma-wyniesc-130-proc-dal-pogetto-gospodarka-ma-problemy',\n",
       " 'https://www.tvp.info/64393251/w-brytania-rozwaza-wprowadzenie-podatku-od-zyskow-firm-naftowo-gazowych',\n",
       " 'https://www.tvp.info/64386665/nbp-ile-wynosza-aktywa-rezerwowe-polski-nbp-podal-nowe-dane-',\n",
       " 'https://www.tvp.info/64386537/facebook-planuje-potezna-redukcje-etatow-zwolni-tysiace-pracownikow',\n",
       " 'https://www.tvp.info/64385879/nestle-danone-auchan-i-pfizer-ktore-firmy-nadal-dzialaja-w-rosji',\n",
       " 'https://www.tvp.info/64384105/bogdan-rzonca-o-unijnej-probie-zablokowania-tarczy-antyinflacyjnej-w-polsce',\n",
       " 'https://www.tvp.info/64382153/dostawy-iphone-14-pro-i-iphone-14-pro-max-opoznione-przed-swietami-apple-wydalo-oswiadczenie',\n",
       " 'https://www.tvp.info/64382274/prezes-zus-przy-wysokiej-inflacji-znajduje-glebsze-uzasadnienie-dla-14-emerytury-',\n",
       " 'https://www.tvp.info/64381710/usa-bloomberg-twitter-prosi-o-powrot-niektorych-zwolnionych-pracownikow',\n",
       " 'https://www.tvp.info/64376625/przyjecie-euro-sposobem-na-nizsza-inflacje-miazdzace-dane-eurostatu',\n",
       " 'https://www.tvp.info/64365787/portugalskie-linie-lotnicze-tap-maja-klopoty',\n",
       " 'https://www.tvp.info/64358396/portugalia-przygotowuje-sie-do-czterodniowego-tygodnia-pracy',\n",
       " 'https://www.tvp.info/64355993/jak-dzialaja-sankcje-wskaznik-produkcji-w-rosji-najnizszy-od-dwoch-lat',\n",
       " 'https://www.tvp.info/64351690/recesja-dotyka-niemiecki-przemysl-motoryzacyjny-i-maszynowy',\n",
       " 'https://www.tvp.info/64341863/amerykanskie-himars-y-z-poludniowokoreanskimi-wyrzutniami-chunmoo-integracja-dla-polskiej-armii-zajmie-sie-polska-grupa-zbrojeniowa',\n",
       " 'https://www.tvp.info/64339012/twitter-elon-musk-zwalnia-tysiace-osob-dostali-maila',\n",
       " 'https://www.tvp.info/64336246/system-kaucyjny-niezaleznie-jaki-napoj-kupimy-butelke-po-nim-bedzie-mozna-oddac-w-kazdym-sklepie-objetym-systemem-kaucyjny',\n",
       " 'https://www.tvp.info/64336068/zus-sprawdza-osoby-na-l4-rzadziej-ale-skuteczniej',\n",
       " 'https://www.tvp.info/64324579/wiceprezes-nbp-w-przyszlym-roku-inflacja-radykalnie-spadnie',\n",
       " 'https://www.tvp.info/64314963/dania-uruchomiono-terminal-odbiorczy-baltic-pipe-norweski-gaz-plynie-do-polski-',\n",
       " 'https://www.tvp.info/64297231/washington-post-administracja-usa-rozwaza-ingerencje-w-przejecie-twittera-z-uwagi-na-udzial-saudow-i-chinczykow',\n",
       " 'https://www.tvp.info/64282063/uokik-wszczyna-postepowanie-wyjasniajace-ws-viaplay',\n",
       " 'https://www.tvp.info/64279095/fuzja-orlenu-z-pgnig-kiedy-spodziewana-finalizacja',\n",
       " 'https://www.tvp.info/64279116/wojna-rosji-na-ukrainie-rosnie-wartosc-rosyjskiego-eksportu-po-agresji-na-ukraine',\n",
       " 'https://www.tvp.info/64274997/elon-musk-oglasza-rewolucje-na-twitterze-weryfikacja-kont-tylko-w-subskrypcji-twitter-blue-za-8-dolarow-miesiecznie',\n",
       " 'https://www.tvp.info/64269202/revolut-tworca-firmy-miliarder-nikolaj-storonski-nie-chce-obywatelstwa-rosji',\n",
       " 'https://www.tvp.info/64268405/samochody-elektryczne-krzysztof-holowczyc-i-zbigniew-ziobro-negatywnie-o-planach-ue',\n",
       " 'https://www.tvp.info/64268612/ukraincy-zaplacili-w-polsce-10-mld-zlotych-podatku',\n",
       " 'https://www.tvp.info/64262555/wlochy-mlode-wino-novello-juz-w-sprzedazy-przed-beaujolais-nouveau',\n",
       " 'https://www.tvp.info/64257139/afera-korupcyjna-w-ekwadorze-za-rzadow-prezydenta-rafaela-correi',\n",
       " 'https://www.tvp.info/64250763/konfederacja-znow-zrobila-blad-w-sprawozdaniu-finansowym',\n",
       " 'https://www.tvp.info/64247409/inflacja-w-pazdzierniku-wyniosla-179-procent',\n",
       " 'https://www.tvp.info/64234051/elon-musk-zwolnil-z-twittera-czolowych-dyrektorow-i-zapowiada-kolejne-zmiany-zwolnieni-otrzymaja-ogromne-odprawy',\n",
       " 'https://www.tvp.info/64212316/premier-mateusz-morawiecki-potwierdzil-projekt-jadrowy-w-technologii-wecnuclear',\n",
       " 'https://www.tvp.info/64205971/pkn-orlen-na-czele-rankingu-500-najwiekszych-firm-w-europie-srodkowo-wschodniej-firmy-coface',\n",
       " 'https://www.tvp.info/64202145/karol-rabenda-o-systemie-dystrybucji-wegla-do-gmin-',\n",
       " 'https://www.tvp.info/64199967/posrednictwo-w-przewozie-osob-jedna-ze-znanych-firm-moze-stracic-licencje-',\n",
       " 'https://www.tvp.info/64199670/ringier-axel-springer-polska-zwalnia-pracownikow',\n",
       " 'https://www.tvp.info/64198903/elon-musk-przejal-twittera-donald-trump-moze-wrocic-do-sieci',\n",
       " 'https://www.tvp.info/64198789/umorzona-czesc-kredytu-jest-przychodem-ale-nie-trzeba-placic-od-niego-podatku',\n",
       " 'https://www.tvp.info/64198692/kilkanascie-naruszen-tzw-ustawy-sankcyjnej-lamia-embargo-i-zaplaca',\n",
       " 'https://www.tvp.info/64197000/usa-elon-musk-zakonczyl-warte-44-mld-dolarow-przejecie-twittera',\n",
       " 'https://www.tvp.info/64182821/niemcy-szwedzka-spolka-zalezna-silex-ma-wykupic-elmos',\n",
       " 'https://www.tvp.info/64182191/orlen-agencja-moodys-podnosi-raiting',\n",
       " 'https://www.tvp.info/64178684/800-zamiast-500-minister-finansow-magdalena-rzeczkowska-komentuje',\n",
       " 'https://www.tvp.info/64178611/w-wielkopolsce-odkryto-dwa-zloza-gazu-ziemnego-',\n",
       " 'https://www.tvp.info/64177937/sprzedaz-udzialow-w-porcie-w-hamburgu-chinom-dla-niemcow-najwazniejszy-jest-interes-ekonomiczny',\n",
       " 'https://www.tvp.info/64177070/niemcy-garzweiler-likwiduja-turbiny-wiatrowe-na-rzecz-wydobycia-wegla',\n",
       " 'https://www.tvp.info/64163748/rosja-niemiecka-spolka-winterhall-dea-chce-opuscic-rosyjski-rynek-',\n",
       " 'https://www.tvp.info/64141203/pkn-orlen-o-polaczeniu-z-pgnig-celem-silny-multienergetyczny-koncern',\n",
       " 'https://www.tvp.info/64123380/francja-powstanie-potezna-kopalnia-litu-jedna-z-najwiekszych-w-europie-',\n",
       " 'https://www.tvp.info/64121420/w-unii-wspolnym-portem-ladowania-bedzie-usb-typu-c-',\n",
       " 'https://www.tvp.info/64119572/lista-najbogatszych-polek-2022-na-czele-dominika-kulczyk-barbara-komorowska-malgorzata-adamkiewicz',\n",
       " 'https://www.tvp.info/64119206/unia-europejska-wywroci-unijny-rynek-motoryzacyjny',\n",
       " 'https://www.tvp.info/64112601/sasin-jestesmy-blizej-podjecia-decyzji-ws-wykonawcy-elektrowni-jadrowej-w-polsce',\n",
       " 'https://www.tvp.info/64096064/kontrolerzy-lotow-zachorowali-lotnisko-w-gdansku-na-problem',\n",
       " 'https://www.tvp.info/64093414/tryb-incognito-nie-zapewnial-prywatnosci-wyciekly-maile-pracownikow-google-koncern-pozwany-przez-internautow',\n",
       " 'https://www.tvp.info/64080205/macron-czekaja-nas-zimy-bez-gazu-z-rosji-musimy-zablokowac-spekulacje-na-rynku',\n",
       " 'https://www.tvp.info/64078503/co-oznacza-wysoka-rentownosc-obligacji-ekspert-bgk-nie-ma-watpliwosci',\n",
       " 'https://www.tvp.info/64073341/ceny-na-stacjach-paliw-pazdzierniklistopad-2022-prognozy-analitykow-e-petrolpl-dobre-informacje-dla-kierowcow',\n",
       " 'https://www.tvp.info/64058442/kto-wybuduje-elektrownie-atomowa-w-polsce-niebawem-decyzja-rzadu',\n",
       " 'https://www.tvp.info/64058491/niemcy-urzad-kanclerski-chce-sprzedac-czesc-portu-w-hamburgu-chinczykom',\n",
       " 'https://www.tvp.info/64046489/najnowsze-dane-gus-wzrost-produkcji-przemyslowej',\n",
       " 'https://www.tvp.info/64030940/samorzad-niepolomic-zalozyl-spoldzielnie-energetyczna-do-dystrybuowania-energii-z-oze-',\n",
       " 'https://www.tvp.info/64024330/sasin-polska-potrzebuje-kilku-elektrowni-atomowych',\n",
       " 'https://www.tvp.info/64017814/prezes-portu-gdansk-lukasz-greinke-bedzie-rekordowy-rok-dla-najwiekszego-polskiego-portu',\n",
       " 'https://www.tvp.info/64013316/niemcy-przemysl-zadowolony-z-decyzji-kanclerza-o-przedluzeniu-pracy-elektrowni-jadrowych',\n",
       " 'https://www.tvp.info/64011407/inflacja-wszystkich-swietych-znicze-i-kwiaty-drozsze-tvp3-gdansk',\n",
       " 'https://www.tvp.info/64010814/wicepremier-sasin-oczekuje-od-prezesa-tauron-pe-wycofania-decyzji-wypowiadania-umow-na-gaz',\n",
       " 'https://www.tvp.info/64005980/prawie-cwierc-miliona-polakow-spoznia-sie-z-obsluga-zobowiazan-wobec-firm-pozyczkowych',\n",
       " 'https://www.tvp.info/64005730/gis-informuje-o-wycofaniu-partii-tartych-buraczkow',\n",
       " 'https://www.tvp.info/64002815/polskie-gry-wciagnely-giganta',\n",
       " 'https://www.tvp.info/63994397/kto-odpowiada-za-kryzys-w-europie-niemiecki-minister-nie-ma-watpliwosci',\n",
       " 'https://www.tvp.info/63992545/ft-chorwacja-zabiega-o-role-energetycznego-centrum-dla-europy-wschodniej',\n",
       " 'https://www.tvp.info/63963617/goldman-sachs-dalsze-zaciesnianie-polityki-pienieznej-przez-rpp-jest-uzasadnione-',\n",
       " 'https://www.tvp.info/63958865/sa-chetni-do-inwestycji-w-cpk',\n",
       " 'https://www.tvp.info/63915650/inflacja-we-wrzesniu-powyzej-17-proc',\n",
       " 'https://www.tvp.info/63913775/duzy-spadek-cen-ropy',\n",
       " 'https://www.tvp.info/63909172/narodowy-instytut-statystyczny-portugali-inflacja-w-portugalii-siegnela-poziomu-93-proc',\n",
       " 'https://www.tvp.info/63902132/wzrost-inflacji-w-niemczech-ile-wyniosla-we-wrzesniu-wiecej-niz-sie-spodziewano-',\n",
       " 'https://www.tvp.info/63896530/rolnictwo-pomoc-dla-pszczelarzy-prowadzona-przez-arimr-plan-strategiczny-dla-wspolnej-polityki-rolnej-na-lata-2023-2027',\n",
       " 'https://www.tvp.info/63895777/ruszyly-pierwsze-w-historii-dostawy-gazu-z-francji-bezposrednio-do-niemiec-',\n",
       " 'https://www.tvp.info/63894798/handel-spozywczy-kair-egipt-lodowka-hydroponiczna-ze-swieza-salata',\n",
       " 'https://www.tvp.info/63880527/niemcy-przekaza-200-mld-euro-firmom-i-konsumentom-na-walke-z-cenami-energii-janusz-kowalski-o-skutkach-dla-unii-europejskiej-i-polski',\n",
       " 'https://www.tvp.info/63874519/wegiel-z-belchatowa-i-turowa-pge-uruchamia-punkty-sprzedazy-wegla-brunatnego-dla-odbiorcow-indywidualnych',\n",
       " 'https://www.tvp.info/63868905/police-port-morski-nowe-tory-kolejowe-i-nowe-nabrzeze-unia-europejska-wspiera',\n",
       " 'https://www.tvp.info/63860942/region-na-rozdrozu-europa-srodkowo-wschodnia-w-obliczu-wielkich-energetycznych-przemian',\n",
       " 'https://www.tvp.info/63856336/rasp-zwolnienia-grupowe-koncern-zwalnia-8-proc-pracownikow-',\n",
       " 'https://www.tvp.info/63854984/dhl-inpost-i-inni-jakie-placa-podatki-cit-w-polsce',\n",
       " 'https://www.tvp.info/63854881/marcin-chludzinski-odwolany-z-funkcji-prezesa-kghm-komunikat-spolki',\n",
       " 'https://www.tvp.info/63853165/firmy-z-niemiec-dalej-zarabiaja-w-rosji-andrij-melnyk-oburzony',\n",
       " 'https://www.tvp.info/63843537/przywodcy-serbii-i-wegier-uzgodnili-budowe-ropociagu-laczacego-serbie-z-systemem-druzba',\n",
       " 'https://www.tvp.info/63841169/akcjonariusze-pgnig-zgodzili-sie-na-polaczenie-z-orlenem-przedstawiciel-grupy-akcjonariuszy-zapowiedzial-zaskarzenie-uchwaly-do-sadu',\n",
       " 'https://www.tvp.info/63836492/uokik-nalozyl-kare-na-upc-polska-za-wygorowane-oplaty-przy-rezygnacji-z-umowy',\n",
       " 'https://www.tvp.info/63834940/nagroda-nobla-z-ekonomii-2022',\n",
       " 'https://www.tvp.info/63831537/kursy-walut-10102022-euro-dolar-frank-szwajcarski-w-poniedzialek-10-pazdziernika-eur-usd-chf',\n",
       " 'https://www.tvp.info/63831076/ceny-energii-w-ue-ile-placa-polacy-jerzy-borowczak-z-platformy-obywatelskiej-powiela-fake-newsa',\n",
       " 'https://www.tvp.info/63823810/rafinerie-strajkuja-francuzi-poluja-na-benzyne',\n",
       " 'https://www.tvp.info/63819399/niemieckie-firmy-nadal-dzialaja-w-rosji-nie-chca-zwracac-na-siebie-uwagi-i-przezimowac',\n",
       " 'https://www.tvp.info/63794932/ukraina-bedzie-importowac-gaz-przez-baltic-pipe-podpisano-wstepne-umowy',\n",
       " 'https://www.tvp.info/63783912/polska-jest-liderem-pod-wzgledem-eksportu-autobusow-elektrycznych-w-unii-europejskiej',\n",
       " 'https://www.tvp.info/63783907/pis-platforma-obywatelska-chciala-likwidowac-wegiel-zobacz-nowy-spot',\n",
       " 'https://www.tvp.info/63771304/co-dalej-z-cenami-gazu-wspolna-propozycja-polski-wloch-grecji-i-belgii',\n",
       " 'https://www.tvp.info/63770005/co-dalej-ze-stopami-procentowymi-prezes-nbp-adam-glapinski-podkresla-ze-cykl-podwyzek-zostal-zatrzymany-nie-zakonczony',\n",
       " 'https://www.tvp.info/63767313/holandia-byli-udzialowcy-yukosu-chca-sprzedac-na-aukcji-prawa-do-marek-rosyjskich-wodek',\n",
       " 'https://www.tvp.info/63767132/ceny-mieszkan-w-polsce-raport-narodowego-banku-polskiego-',\n",
       " 'https://www.tvp.info/63744734/jest-ustawa-zobowiazujaca-banki-do-zwrotu-ubezpieczenia-pomostowego',\n",
       " 'https://www.tvp.info/63744166/stopy-procentowe-rpp-podjela-decyzja',\n",
       " 'https://www.tvp.info/63741152/stopy-procentowe-znowu-w-gore-decyduje-rada-polityki-pienieznej-wzrosna-raty-kredytow',\n",
       " 'https://www.tvp.info/63740737/bojkot-rosji-ericsson-nadal-zaopatruje-ten-kraj-w-sprzet-telekomunikacyjny-komentarz-rzecznika-firmy',\n",
       " 'https://www.tvp.info/63739581/gus-skorygowal-dane-o-pkb',\n",
       " 'https://www.tvp.info/63736925/kanada-rosja-bez-miejsca-we-wladzach-organizacji-miedzynarodowego-lotnictwa-cywilnego-pierwszy-raz-od-50-lat',\n",
       " 'https://www.tvp.info/63725744/parlament-europejski-telefony-komorkowe-tablety-i-aparaty-fotograficzne-musza-byc-wyposazone-w-port-ladowania-typu-c',\n",
       " 'https://www.tvp.info/63722697/daniel-obajtek-powiedzial-ze-pkn-orlen-nie-ma-nadwymiarowych-zyskow',\n",
       " 'https://www.tvp.info/63637316/limit-cen-gazu-w-ue-politico-von-der-leyen-jak-niemiecka-marionetka',\n",
       " 'https://www.tvp.info/63509651/kursy-walut-4102022-euro-dolar-frank-szwajcarski-we-wtorek-4-pazdziernika-eur-usd-chf',\n",
       " 'https://www.tvp.info/63369185/turcja-inflacja-siegnela-83-proc-a-erdogan-zapowiada-dalsze-ciecia-stop-procentowych',\n",
       " 'https://www.tvp.info/63109643/ceny-energii-w-unii-europejskiej-gdzie-jest-drozej-niz-w-polsce',\n",
       " 'https://www.tvp.info/63109681/zloty-zyskuje-kursy-walut-w-poniedzialek-3-pazdziernika',\n",
       " 'https://www.tvp.info/63108763/szwed-szacujemy-ze-najnizsza-emerytura-w-2023-r-wyniesie-ponad-1500-zl-brutto-',\n",
       " 'https://www.tvp.info/63086967/gazprom-wstrzymal-tranzyt-gazu-przez-austrie',\n",
       " 'https://www.tvp.info/63086629/niemcy-wracaja-do-elektrowni-na-wegiel-brunatny-',\n",
       " 'https://www.tvp.info/63086285/bezpieczenstwo-energetyczne-konektor-gazowy-polaczyl-bulgarie-z-grecja',\n",
       " 'https://www.tvp.info/63083592/gaz-plynie-przez-baltic-pipe-historyczna-chwila-i-dzien',\n",
       " 'https://www.tvp.info/63083392/inflacja-w-gorew-strefie-euro-eurostat-najszybciej-drozeje-energia-i-zywnosc',\n",
       " 'https://www.tvp.info/63082551/minister-finansow-magdalena-rzeczkowska-sp-kolejny-raz-utrzymala-wysoka-ocene-ratingowa-polski-podkreslajac-konkurencyjnosc-naszej-gospodarki',\n",
       " 'https://www.tvp.info/63071933/bezrobocie-w-polsce-w-dalszym-ciagu-rekordowo-niskie',\n",
       " 'https://www.tvp.info/63071641/orlen-i-pgnig-wsrod-liderow-wplat-cit',\n",
       " 'https://www.tvp.info/63068279/prognoza-pko-bp-w-2023-wzrost-polskiego-pkb-wyniesie-09-proc-rdr-srednioroczna-inflacja-121-proc',\n",
       " 'https://www.tvp.info/63067019/pgnig-podpisalo-ze-spolkami-pge-kontrakt-na-dostawy-gazu',\n",
       " 'https://www.tvp.info/63065292/najnowsze-dane-gus-o-inflacji-w-polsce-',\n",
       " 'https://www.tvp.info/63064690/przymusowa-restrukturyzacja-getin-noble-banku',\n",
       " 'https://www.tvp.info/63064644/niemcy-belgia-i-holandia-z-rekordami-inflacj',\n",
       " 'https://www.tvp.info/63063583/skarb-panstwa-sprzedal-czesc-akcji-orlenu-',\n",
       " 'https://www.tvp.info/63062083/usa-zakaz-sprzedazy-nowych-samochodow-z-silnikami-spalinowymi-w-nowym-jorku-od-2035',\n",
       " 'https://www.tvp.info/63053398/-wybuch-przy-nord-stream-mogl-uszkodzic-szwedzko-polski-kabel',\n",
       " 'https://www.tvp.info/63047869/poczta-polska-wyemitowala-znaczek-upamietniajacy-jozefa-wybickiego',\n",
       " 'https://www.tvp.info/63051430/knf-podjela-decyzje-ws-leszka-czarneckiego',\n",
       " 'https://www.tvp.info/63045204/turow-sprawa-turowa-podziemna-zapora-ma-zatrzymac-czeskie-wody-gruntowe-tvp3-wroclaw',\n",
       " 'https://www.tvp.info/63041821/agrobiznes-brokuly-roslina-trudna-w-uprawie-ale-popularna-wsrod-konsumentow-jakie-zbiory',\n",
       " 'https://www.tvp.info/63041499/rolnictwo-setki-tysiecy-ton-wegla-dla-rolnikow-produkujacych-w-szklarniach-i-tunelach-foliowych',\n",
       " 'https://www.tvp.info/63041458/ropa-naftowa-i-gaz-tanieja-spadki-cen-po-kilka-procent-',\n",
       " 'https://www.tvp.info/63036314/niemcy-tak-dla-wegla-nie-dla-energii-atomowej-rzad-podjal-decyzje-dot-elektrowni',\n",
       " 'https://www.tvp.info/63021448/ile-wyniesie-inflacja-i-wzrost-pkb-w-2023-roku-prognozuje-pko-bp',\n",
       " 'https://www.tvp.info/63021186/prezes-pge-o-przyszlosci-energii-atomowej-w-polsce',\n",
       " 'https://www.tvp.info/63018202/-akcjonariusze-pkn-orlen-przeglosowali-polaczenie-spolki-z-pgnig',\n",
       " 'https://www.tvp.info/63006751/energetyka-bogdanka-przedstawily-plan-wydobycia-wegla-handlowego',\n",
       " 'https://www.tvp.info/63005231/austriacki-ekonomista-polska-bedzie-odgrywac-wazna-role-mostu-miedzy-ukraina-a-europa-zachodnia',\n",
       " 'https://www.tvp.info/63001001/bloomberg-europa-jest-gotowa-na-zime-bez-rosyjskiego-gazu',\n",
       " 'https://www.tvp.info/62992605/centralny-port-komunikacyjny-iata-prognozuje-kiedy-liczba-lotow-w-polsce-wroci-do-normy',\n",
       " 'https://www.tvp.info/62992516/anna-moskwa-oplaty-za-prad-beda-zamrozone-w-2023-r-do-zuzycia-2000-kwh-dla-wszystkich-ale-z-pozytywnymi-wyjatkami-',\n",
       " 'https://www.tvp.info/62990908/samochody-beda-drozec-i-to-nawet-o-20-procent',\n",
       " 'https://www.tvp.info/62990795/polska-podzieli-sie-nadwyzkaropy-z-niemcami-jest-oficjalne-stanowisko',\n",
       " 'https://www.tvp.info/62990825/pgnig-jedynym-uzytkownikiem-baltic-pipe',\n",
       " 'https://www.tvp.info/62985234/inflacja-wielka-brytania-rekordowy-spadek-funta-bank-of-england-sklada-deklaracje',\n",
       " 'https://www.tvp.info/62975230/oecd-obnizyla-prognozy-panstw-grupy-g-20',\n",
       " 'https://www.tvp.info/62963912/40-dostawa-lng-w-swinoujsciu-tym-razem-z-kataru',\n",
       " 'https://www.tvp.info/62963442/kiedy-wegiel-z-ukrainy-trafi-do-polski-znamy-szczegoly-',\n",
       " 'https://www.tvp.info/62959437/jacek-sasin-szacowane-wplywy-z-opodatkowania-nadzwyczajnych-zyskow-spolek-skarbu-panstwa-to-135-mld-zl-',\n",
       " 'https://www.tvp.info/62951044/weglokoks-rozpoczyna-sprzedaz-importowanego-wegla',\n",
       " 'https://www.tvp.info/62945858/polska-powinna-przyjac-euro-byly-czlonek-zarzadu-bundesbanku-mowi-nie-polacy-moga-byc-szczesliwi-ze-posiadaja-zlotowke',\n",
       " 'https://www.tvp.info/62944319/uokik-inspekcja-handlowa-bada-rynek-dystrybucji-wegla-kamiennego',\n",
       " 'https://www.tvp.info/62934128/dostawy-gazu-przez-baltic-pipe-pgnig-podpisalo-umowe-na-10-lat',\n",
       " 'https://www.tvp.info/62925983/pgnig-dostawy-gazu-na-caly-sezon-grzewczy-202223-zabezpieczone',\n",
       " 'https://www.tvp.info/62923152/bik-liczba-kredytow-mieszkaniowych-spadla-w-sierpniu-o-688-proc-rdr-',\n",
       " 'https://www.tvp.info/62912141/niemcy-zamierzaja-znacjonalizowac-filie-gazpromu-',\n",
       " 'https://www.tvp.info/62882265/rosyjski-mir-ma-problemy-kolejne-banki-odmawiaja-obslugi-rosyjskiego-systemu-platnosci-kartami',\n",
       " 'https://www.tvp.info/62879194/olx-ma-klopoty-postawiono-zarzuty',\n",
       " 'https://www.tvp.info/62877735/kursy-walut-21092022-euro-dolar-frank-szwajcarski-w-srode-21-wrzesnia-eur-usd-chf',\n",
       " 'https://www.tvp.info/62875745/zadluzenie-publiczne-hiszpanii-przekroczylo-rekordowy-poziom-w-lipcu-tego-roku',\n",
       " 'https://www.tvp.info/62858153/-nowe-dane-gus-o-produkcji-przemyslowej-wzrost-o-ponad-10-proc-',\n",
       " 'https://www.tvp.info/62856875/kursy-walut-20092022-euro-dolar-frank-szwajcarski-w-srode-20-wrzesnia-eur-usd-chf',\n",
       " 'https://www.tvp.info/62850226/rolnictwo-moldawia-panstwowy-skup-pszenicy-nie-doszedl-do-skutku-rolnicy-sie-nie-zglosili',\n",
       " 'https://www.tvp.info/62843306/banki-wysla-pozwy-do-klientow-ktorzy-wystapili-o-uniewaznienie-kredytu-w-2019-roku-by-uniknac-przedawnienia',\n",
       " 'https://www.tvp.info/62844400/prezes-pkn-orlen-obajtek-spotkal-sie-z-ukrainskim-ministrem-energii',\n",
       " 'https://www.tvp.info/62843325/gaz-tanieje-spadek-cen-najnizszy-poziom-od-dwoch-miesiecy-',\n",
       " 'https://www.tvp.info/62841141/zamowienia-z-niemiec-na-gaz-z-rosji-czy-surowiec-ponownie-poplynie-przez-nord-stream-1',\n",
       " 'https://www.tvp.info/62836870/kurs-walut-19092022-zloty-w-poniedzialek-rano-oslabia-sie-wzgledem-glownych-walut',\n",
       " 'https://www.tvp.info/62836088/badanie-jak-wojna-wplynela-na-rynek-pracy-w-polsce',\n",
       " 'https://www.tvp.info/62826974/polaczenie-wodne-berlina-ze-szczecinem-niemcy-wydali-niemcy-pol-mln-euro',\n",
       " 'https://www.tvp.info/62826604/warunki-zycia-w-europie-eurostat-wskazuje-kraje-gdzie-jest-najgorzej',\n",
       " 'https://www.tvp.info/62809860/17-wrzesnia-juz-dzis-otwarcie-kanalu-zeglugowego-przez-mierzeje-wislana',\n",
       " 'https://www.tvp.info/62795855/pkn-orlen-rozwaza-zakup-rafinerii-schwedt-w-niemczech',\n",
       " 'https://www.tvp.info/62794249/przetarg-na-kawiarnie-w-palmiarni-w-gdansku-radni-pis-skladaja-zawiadomienie-o-podejrzeniu-popelnienia-przestepstwa-wobec-dyrekcji-gzdiz',\n",
       " 'https://www.tvp.info/62792327/niemcy-axel-springer-zorganizowal-kampanie-przeciw-adidasowi-ukrywajac-osobisty-interes-prezesa-spolki-mathiasa-doepfnera',\n",
       " 'https://www.tvp.info/62789979/pakistan-powodz-rolnictwo-ucierpialo-w-tym-plantacje-bananow-agro-biznes',\n",
       " 'https://www.tvp.info/62750272/francja-strajk-kontrolerow-lotow-w-piatek-polowa-lotow-odwolana',\n",
       " 'https://www.tvp.info/62779457/niemcy-zapowiadaja-nacjonalizacje-rafinerii-jej-wspolwlascicielem-jest-rosnieft-',\n",
       " 'https://www.tvp.info/62772919/inflacja-sierpien-2022-wyniosla-161-proc',\n",
       " 'https://www.tvp.info/62772834/kpo-nabor-wnioskow-rolnicy-i-przetworcy-w-pierwszej-kolejnosci-',\n",
       " 'https://www.tvp.info/62761851/niemcy-w-zwiazku-z-rosnacymi-cenami-za-gaz-krematoria-planuja-oszczednosci',\n",
       " 'https://www.tvp.info/62746905/lotnisko-w-radomiu-coraz-blizej-kiedy-otwarcie-przedsiebiorstwo-panstwowe-porty-lotnicze-wskazuje',\n",
       " 'https://www.tvp.info/62736621/co-dalej-z-ets-jest-stanowisko-morawieckiego',\n",
       " 'https://www.tvp.info/62741702/ile-zarobila-rosja-na-sprzedazy-ropy-i-gazu-w-sierpniu-znaczaca-zmiana',\n",
       " 'https://www.tvp.info/62737163/gis-ostrzega-przed-mozliwa-obecnoscia-metalowych-cial-obcych-w-serze-plesniowym-z-mleka-koziego',\n",
       " 'https://www.tvp.info/62732489/cpk-az-do-granicy-z-ukraina-a-kiedys-do-lwowa-i-kijowa-nowy-tunel-w-zamosciu',\n",
       " 'https://www.tvp.info/62731897/czy-komisja-europejska-moze-karac-polske-za-turow-nie-maja-podstaw-prawnych',\n",
       " 'https://www.tvp.info/62729445/rosja-sony-music-wycofuje-sie-z-rosyjskiego-rynku',\n",
       " 'https://www.tvp.info/62722757/w-hiszpanii-odnotowano-rekordowe-oszczednosci-w-zuzyciu-gazu-ziemnego',\n",
       " 'https://www.tvp.info/62714691/premier-w-iv-kwartale-inflacja-zacznie-trend-spadkowy-ale-w-i-kw-2023-znowu-wzrosnie',\n",
       " 'https://www.tvp.info/62712840/uokik-wszczal-postepowanie-przeciwko-orange-polska-dot-oplaty-za-polaczenia-z-infolinia',\n",
       " 'https://www.tvp.info/62710406/-rekordowa-podwyzka-minimalnego-wynagrodzenia',\n",
       " 'https://www.tvp.info/62710300/w-poniedzialek-polska-ma-otrzymac-amerykanska-oferte-ws-budowy-reaktorow-jadrowych',\n",
       " 'https://www.tvp.info/62688833/awaria-na-lotnisku-w-gdansku-nie-mogly-wyladowac-23-samoloty',\n",
       " 'https://www.tvp.info/62686277/-tapniecie-na-rynku-owocow-i-warzyw-widac-oznaki-kryzysu',\n",
       " 'https://www.tvp.info/62658387/bild-zastanawia-sie-kto-pomoze-niemcom-w-dostawach-pradu-jesli-dojdzie-do-najgorszego',\n",
       " 'https://www.tvp.info/62630671/min-moskwa-w-dobie-obecnego-kryzysu-nalezy-wprowadzic-sztywna-cene-uprawnien-do-emisji-co2',\n",
       " 'https://www.tvp.info/62370050/narodowy-bank-polski-uruchamia-kurs-z-bankowosci-centralnej',\n",
       " 'https://www.tvp.info/62361121/stopy-procentowe-europejski-bank-centralny-podniosl-stopy',\n",
       " 'https://www.tvp.info/62338465/rata-kredytu-nizsza-o-kilkaset-zlotych-wiceminister-o-tym-kiedy-alternatywa-dla-wibor-',\n",
       " 'https://www.tvp.info/62290550/rpp-podjela-decyzjews-stop-procentowych-',\n",
       " 'https://www.tvp.info/62269892/ursula-von-der-leyen-proponujemy-obowiazkowe-ograniczenia-zuzycia-energii-elektrycznej-w-ue-',\n",
       " 'https://www.tvp.info/62268973/rachunki-za-energie-w-unii-europejskiej-dramatyczne-dane-z-16-panstw',\n",
       " 'https://www.tvp.info/62268218/raport-w-czechach-najdluzej-trzeba-pracowac-na-wlasne-m-najkrocej-w-irlandii-polska-w-srodku-stawki-',\n",
       " 'https://www.tvp.info/62268010/ursula-von-der-leyen-ue-odpowiada-na-energetyczny-szantaz-rosji-mamy-plan-na-cyniczne-gierki-putina',\n",
       " 'https://www.tvp.info/62267140/ropa-naftowa-tanieje-an-rynkach-notowania-7-wrzesnia-2022-w-usa-ceny-najnizsze-od-stycznia',\n",
       " 'https://www.tvp.info/62266256/uokik-zarzuca-spolce-kia-polska-min-zmowe-cenowa-',\n",
       " 'https://www.tvp.info/62265249/usa-i-ue-sciagaja-aluminium-i-nikiel-od-putina-wzrost-importu-po-24-lutego-',\n",
       " 'https://www.tvp.info/62250814/polska-grupa-gornicza-sa-informuje-ze-powieksza-sie-siec-kwalifikowanych-dostawcow-wegla',\n",
       " 'https://www.tvp.info/62244518/najwyzsza-doplate-bedzie-mozna-uzyskac-w-przypadku-zakupu-peletu',\n",
       " 'https://www.tvp.info/62243734/putin-ma-rekordowe-zyski-z-ekspertu-ropy-i-wegla-niemcy-na-drugim-miejscu-na-swiecie-',\n",
       " 'https://www.tvp.info/62241592/kursy-walut-nbp-6092022-euro-dolar-frank-we-wtorek-6-wrzesnia-2022-eur-usd-gbp-chf',\n",
       " 'https://www.tvp.info/62241014/szara-strefa-na-polskim-rynku-tytoniowym-jest-najnizsza-w-historii',\n",
       " 'https://www.tvp.info/62241086/fabryka-baterii-za8-mld-usd-moze-dac-polsce-kopa',\n",
       " 'https://www.tvp.info/62211119/jakie-zagrozenia-czyhaja-na-polskich-konsumentow-prezes-uokik-ostrzega',\n",
       " 'https://www.tvp.info/62208373/rolnictwo-uprawy-rzepaku-coraz-popularniejsze-jakie-zbiory',\n",
       " 'https://www.tvp.info/62202001/donald-tusk-o-wysokich-cenach-gazu-jest-reakcja-pgnig',\n",
       " 'https://www.tvp.info/62195458/blok-energetyczny-taurona-w-jaworznie-znow-pracuje-i-wytwarza-energie',\n",
       " 'https://www.tvp.info/62171599/koncern-shell-nie-dolaczy-do-sachalin-2',\n",
       " 'https://www.tvp.info/62155296/ets-ursula-von-der-leyen-odrzuca-propozycje-mateusza-morawieckiego',\n",
       " 'https://www.tvp.info/62152162/rosja-wiceszef-lukoila-rawil-maganow-wypadl-z-6-pietra-nie-zyje',\n",
       " 'https://www.tvp.info/62133608/niemcy-gazprom-ponownie-wstrzymal-dostawy-gazu-przez-nord-stream-1-',\n",
       " 'https://www.tvp.info/62137491/holenderskie-media-jazda-samochodem-elektrycznym-obecnie-drozsza-niz-benzynowym',\n",
       " 'https://www.tvp.info/62133263/orlen-vitay-paliwo-na-orlenie-tansze-o-30-groszy-na-litrze-obajtek-podal-termin-przedluzenia-promocji-',\n",
       " 'https://www.tvp.info/62131918/inflacja-w-sierpniu-gus-podal-najnowsze-dane-',\n",
       " 'https://www.tvp.info/62130118/bayraktar-kizilelma-zaprezentowano-nowy-typ-tureckiego-drona-bojowego',\n",
       " 'https://www.tvp.info/62113924/ile-pieniedzy-nbp-przekaze-do-budzetu-w-przyszlym-roku-jest-oficjalne-stanowisko',\n",
       " 'https://www.tvp.info/62113178/w-niemczech-zaczely-kursowac-pierwsze-na-swiecie-pociagi-napedzane-wodorem',\n",
       " 'https://www.tvp.info/62112141/wegry-kolejna-podwyzka-stop-procentowych',\n",
       " 'https://www.tvp.info/62110186/unia-europejska-ceny-energii-elektrycznej-jak-wypada-polska',\n",
       " 'https://www.tvp.info/62109214/polska-w-czolowce-producentow-piwa-w-ue-nowe-dane-eurostatu',\n",
       " 'https://www.tvp.info/62108210/niemcy-wlaczaja-elektrownie-greenpeace-popiera-decyzje-berlina',\n",
       " 'https://www.tvp.info/62107318/tauron-koniec-postoju-bloku-weglowego-w-jaworznie-',\n",
       " 'https://www.tvp.info/62106537/herbata-narodowy-napoj-egiptu-zagrozony-najwiekszy-importer-ostrzega-przed-niedoborem-towaru',\n",
       " 'https://www.tvp.info/62082998/kursy-walut-29082022-euro-dolar-funt-frank-w-poniedzialek-29-sierpnia-eur-usd-gbp-chf',\n",
       " 'https://www.tvp.info/62083281/orlen-anwil-wznawia-produkcje-nawozow-azotowych-',\n",
       " 'https://www.tvp.info/62070556/cukru-nie-zabraknie-plantatorzy-dostana-wiecej-za-buraki-krajowa-grupa-spozywcza',\n",
       " 'https://www.tvp.info/62049970/francuzi-pozbyli-sieudzialow-w-spolce-wydobywajacej-w-rosji-gaz',\n",
       " 'https://www.tvp.info/62028517/braki-gazu-zima-obawy-belgow',\n",
       " 'https://www.tvp.info/62025855/rekordowe-ceny-gazu-w-europie',\n",
       " 'https://www.tvp.info/62025504/zwrot-pieniedzy-za-niewykorzystany-voucher',\n",
       " 'https://www.tvp.info/62018079/rolnictwo-trudna-sytuacja-na-rynku-nawozow-minister-henryk-kowalczyk-tlumaczy',\n",
       " 'https://www.tvp.info/62017070/czternaste-emerytury-ruszyla-wyplata',\n",
       " 'https://www.tvp.info/62006494/dostawy-gazu-do-europy-plany-izraela',\n",
       " 'https://www.tvp.info/61999309/awaria-facebooka-na-tablicy-wyswietlaja-sie-wpisy-obcych-osob-spam-tysiace-zgloszen-w-polsce-globalny-problem',\n",
       " 'https://www.tvp.info/61998443/sondaz-czy-polacy-chca-wejscia-do-strefy-euro-i-rezygnacji-z-polskiego-zlotego',\n",
       " 'https://www.tvp.info/61998127/ukraincy-w-polsce-pracuja-i-wysylaja-pieniadze-rodzinie-w-ojczyznie',\n",
       " 'https://www.tvp.info/61983219/rachunki-za-energie-niebotycznie-rosna-przez-niemcow-samuele-furfari-byly-urzednik-komisji-europejskiej',\n",
       " 'https://www.tvp.info/61980376/wizzair-wegierski-rzad-wszczal-postepowanie-skargi-na-linie-lotnicze-',\n",
       " 'https://www.tvp.info/61979438/-azoty-wstrzymuja-czesc-produkcji-chemikaliow-podano-powod-ceny-gazu',\n",
       " 'https://www.tvp.info/61979229/kursy-walut-23082022-euro-dolar-funt-frank-we-wtorek-23-sierpnia-eur-usd-gbp-chf',\n",
       " 'https://www.tvp.info/61965050/inflacja-w-wielkiej-brytanii-pobije-rekord-z-1979-r-nowe-prognozy-na-styczen-2023-cpi-wyniesie-186-proc',\n",
       " 'https://www.tvp.info/61961862/stopy-procentowe-w-dol-rpp-blisko-konca-cyklu-podwyzek-podal-date-kiedy-kredyty-przestana-rosnac',\n",
       " 'https://www.tvp.info/61960449/piotr-krasko-wroci-do-tvn-jest-komunikat-redakcji',\n",
       " 'https://www.tvp.info/61959943/kursy-walut-22082022-euro-dolar-funt-frank-w-poniedzialek-22-sierpnia-eur-usd-gbp-chf',\n",
       " 'https://www.tvp.info/61959591/ceny-ropy-spadaja-poniedzialek-22-sierpnia-dane-z-gieldy-w-nowym-jorku-inwestorzy-czekaja-na-porozumienie-nuklearne-usa-z-iranem',\n",
       " 'https://www.tvp.info/61959514/za-obligacje-mial-budowac-wiezowiec-akademiki-i-mieszkania-knf-na-tropie-sprzedawcow-obligacji-dewelopera-golub-gethouse',\n",
       " 'https://www.tvp.info/61937297/kpo-dla-polski-belgijski-historyk-mowi-o-celowym-opoznianiu-wyplat-i-szukaniu-przeszkod-',\n",
       " 'https://www.tvp.info/61925882/gazprom-ma-informacje-dla-niemiec-dotyczy-nord-stream-1',\n",
       " 'https://www.tvp.info/61921233/ukraina-aresztowano-308-stacji-paliw-amic-energy-kiedys-lukoil-wykryto-powiazania-z-rosja',\n",
       " 'https://www.tvp.info/61919207/dane-gus-u-dotyczace-wynagrodzen-zatrudnienia-produkcji-przemyslowej-',\n",
       " 'https://www.tvp.info/61920361/zielona-wyspa-donalda-tuska-politycy-po-sie-chwala-byl-to-wzrost-pkb-o-08-proc',\n",
       " 'https://www.tvp.info/61919731/janusz-palikot-chce-pozwac-jana-spiewaka-chodzi-o-reklamowanie-alkoholi',\n",
       " 'https://www.tvp.info/61918840/piotr-krasko-wroci-na-antene-tvn-i-do-faktow-spor-w-redakcji',\n",
       " 'https://www.tvp.info/61918359/projekt-przepisow-o-akcyzie-w-oze-dla-malych-producentow-energii-odnawialnej',\n",
       " 'https://www.tvp.info/61916669/kursy-walut-19082022-euro-dolar-funt-frank-w-piatek-19-sierpnia-eur-usd-gbp-chf',\n",
       " 'https://www.tvp.info/61916474/pkn-orlen-z-najwyzszym-ratingiem-w-historii',\n",
       " 'https://www.tvp.info/61901765/-jakie-nastroje-gospodarcze-w-ue-eurostat-podaje-dane',\n",
       " 'https://www.tvp.info/61896855/paliwo-drozeje-a-drewno-opalowe-lasy-panstwowe-uspokajaja',\n",
       " 'https://www.tvp.info/61896749/kursy-walut-18082022-euro-dolar-funt-frank-w-czwartek-18-sierpnia-eur-usd-gbp-chf',\n",
       " 'https://www.tvp.info/61877753/kursy-walut-nbp-17082022-euro-dolar-funt-frank-w-srode-17-sierpnia-2022-eur-usd-gbp-chf',\n",
       " 'https://www.tvp.info/61874137/elon-musk-tweetuje-kupuje-manchester-united-najbogatszy-czlowiek-swiata-zartuje',\n",
       " 'https://www.tvp.info/61867490/energetyka-ministerstwo-finansow-o-dodatkowych-kosztach-ogrzewania-mieszkan',\n",
       " 'https://www.tvp.info/61866617/wzrost-wplywy-z-cit-do-budzetu-wg-analitykow-to-zasluga-minimalnego-cit',\n",
       " 'https://www.tvp.info/61856265/kursy-walut-16082022-euro-dolar-funt-frank-we-wtorek-16-sierpnia-eur-usd-gbp-chf',\n",
       " 'https://www.tvp.info/61855852/biedronka-zarzuty-uokik-dla-sklepu-chodzi-o-glosna-akcje-',\n",
       " 'https://www.tvp.info/61854537/zaklad-ubezpieczen-spolecznych-ostatni-dzien-na-skladanie-wnioskow-o-swiadczenie-postojowe',\n",
       " 'https://www.tvp.info/61818969/rosnace-ceny-paliw-w-nimczech-rosnieft-straszy-',\n",
       " 'https://www.tvp.info/61817690/-ceny-paliw-spadaja-dlugi-weekend',\n",
       " 'https://www.tvp.info/61811996/plan-polaczenia-orlenu-i-pgnig-jaka-jest-opinia-bieglego-rewidenta',\n",
       " 'https://www.tvp.info/61806481/the-economist-podal-dane-polska-produkcja-rozwija-sie-lepiej-od-niemieckiej',\n",
       " 'https://www.tvp.info/61803538/bialorus-ma-problem-z-opakowaniami-na-jedzenie-alaksandr-lukaszenka-sie-wsciekl',\n",
       " 'https://www.tvp.info/61802810/inflacja-hiszpania-informuje-o-rekordowych-wzrostach-cen',\n",
       " 'https://www.tvp.info/61801928/inflacja-w-lipcu-gus-podal-najnowsze-dane-co-drozeje-najbardziej',\n",
       " 'https://www.tvp.info/61801297/kredyty-ubezpieczenie-pomostowe-do-zwrotu-banki-beda-zwracac-pieniadze-ustawa-przyjeta',\n",
       " 'https://www.tvp.info/61800528/rolnictwo-hodowla-krolikow-trudna-inflacja-pasze-ceny-ida-do-gory-a-popyt-maleje',\n",
       " 'https://www.tvp.info/61781208/inflacja-wielka-brytania-powrot-do-gotowki-w-dobie-inflacji',\n",
       " 'https://www.tvp.info/61780761/niemcy-piekarze-narzekaja-maka-tluszcz-cukier-energia-drozeja-chleb-drozeje',\n",
       " 'https://www.tvp.info/61780429/burze-gradobicia-wichury-podtopienia-i-ulewy-rolnictwo-i-firmy-ubezpieczeniowe-maja-problem',\n",
       " 'https://www.tvp.info/61778834/obnizka-vat-w-polsce-ceny-przyciagaja-czechow-robia-zakupy-i-tankuja-paliwo',\n",
       " 'https://www.tvp.info/61778737/inflacja-w-niemczech-rekordowe-wzrosty-cen-zywnosci',\n",
       " 'https://www.tvp.info/61770038/maleje-inflacja-w-rosji-slaby-popyt-ale-sa-tez-inne-przyczyny',\n",
       " 'https://www.tvp.info/61768708/rosyjski-gaz-wciaz-plynie-do-europy-ten-kraj-zwiekszyl-import-o-15-proc-',\n",
       " 'https://www.tvp.info/61757145/leszek-balcerowicz-o-scenariuszach-greckim-wegierskim-tureckim-i-nie-tylko',\n",
       " 'https://www.tvp.info/61755702/wojna-na-ukrainie-skutki-sankcji-w-rosji-objawow-zapasci-gospodarczej-nie-da-sie-ukryc',\n",
       " 'https://www.tvp.info/61755743/inflacja-rekordowe-ceny-na-rynku-mieszkaniowym-deweloperzy-buduja-mniej-i-kusza-bonusami',\n",
       " 'https://www.tvp.info/61749115/transport-lotnisko-w-katowice-pyrzyce-modernizacja-linii-kolejowej-na-odcinku-tarnowskie-gory-zawiercie-slaskie',\n",
       " 'https://www.tvp.info/61752071/kryzys-energetyczny-wielka-brytania-ma-planowac-przerwy-w-dostawach-pradu-bloomberg',\n",
       " 'https://www.tvp.info/61740381/cpk-byli-ministrowie-chcieli-debaty-przyszedl-tylko-marcin-horala',\n",
       " 'https://www.tvp.info/61740355/belgia-puste-polki-z-powodu-negocjacji-miedzy-supermarketami-a-dostawcami-towarow-',\n",
       " 'https://www.tvp.info/61739218/glapinski-wzrost-inflacji-jest-zjawiskiem-globalnym',\n",
       " 'https://www.tvp.info/61738690/redukcja-zuzycia-gazu-czy-polska-byla-przeciw',\n",
       " 'https://www.tvp.info/61736681/zbigniew-wrobel-byly-prezes-pkn-orlen-w-mol-nie-ma-kapitalu-rosyjskiego-jest-polski',\n",
       " 'https://www.tvp.info/61736442/elektrownia-nowe-jaworzno-onet-czekal-na-odpowiedz-tauronu-przez-12-minut',\n",
       " 'https://www.tvp.info/61723774/komisja-europejska-zatwierdzila-polski-rzadowy-program-pomocy-przedsiebiorcom-w-zwiazku-z-rosyjska-inwazja-na-ukraine',\n",
       " 'https://www.tvp.info/61715686/dynamiczny-rozwoj-polskich-firm-kosmicznych',\n",
       " 'https://www.tvp.info/61711929/wlochy-tegoroczne-wakacje-najdrozsze-w-ostatnich-50-latach',\n",
       " 'https://www.tvp.info/61703471/wloskie-uprawy-ryzu-do-risotto-sa-powaznie-zagrozone-',\n",
       " 'https://www.tvp.info/61691351/wlasciciel-tvn-ze-strata-ogloszono-wyniki-finansowe-warner-bros-discovery-hbo-max-polaczy-sie-z-discovery',\n",
       " 'https://www.tvp.info/61690956/wojna-rosji-na-ukrainie-irlandia-firmy-energetyczne-podnosza-ceny-sekretarz-generalny-onz-antonio-guterres-komentuje',\n",
       " 'https://www.tvp.info/61690211/zapasc-rosyjskiej-gospodarki-nowe-dane-o-zyskach-z-ropy-i-gazu-przychody-nominalnie-spadly-ponizej-poziomu-z-2021-r-sprzed-wojny-',\n",
       " 'https://www.tvp.info/61689914/niemiecki-rzad-meklemburgii-pomorza-przedniego-jest-przeciwny-budowie-portu-kontenerowego-w-swinoujsciu',\n",
       " 'https://www.tvp.info/61674665/prawie-polowa-przychodow-grupy-orlen-w-ii-kwartale-pochodzil-z-rynkow-zagranicznych',\n",
       " 'https://www.tvp.info/61672038/baltic-pipe-odbior-techniczny-polskie-tlocznie-gazu-',\n",
       " 'https://www.tvp.info/61655668/pkn-orlen-odpowiedzial-na-ataki-aleksandry-dulkiewicz',\n",
       " 'https://www.tvp.info/61653901/niemcy-eksport-na-rekordowym-poziomie-pomimo-wojny-na-ukrainie',\n",
       " 'https://www.tvp.info/61654193/pgnig-odkrylo-nowe-zloza-gazu-w-wielkopolsce-sieroslaw-650-mln-m3-gazu-czy-wydobycie-bedzie-oplacalne',\n",
       " 'https://www.tvp.info/61653257/uokik-nalozyl-kare-pieniezna-na-spolke-polishagri-ktora-skupuje-hurtowo-zboze',\n",
       " 'https://www.tvp.info/61652707/rolnictwo-poprawa-dobrostanu-zwierzat-hodowlanych-krajowy-plan-strategiczny-dla-wspolnej-polityki-rolnej-',\n",
       " 'https://www.tvp.info/61652405/aleksandra-dulkiewicz-o-fuzji-orlenu-i-lotosu-lotos-oddano-w-rece-mordercow',\n",
       " 'https://www.tvp.info/61652389/epidemia-covid-19-zus-swiadczenie-postojowe-ostatnie-dni-na-zlozenie-wniosku',\n",
       " 'https://www.tvp.info/61652459/kursy-walut-4082022-euro-dolar-funt-frank-w-czwartek-4-sierpnia-eur-usd-gbp-chf',\n",
       " 'https://www.tvp.info/61636102/ceny-paliwa-ceny-oleju-ceny-benzyny-uokik-brak-podstaw-by-stwierdzic-ze-drogie-paliwa-to-wynik-niedozwolonych-praktyk-przedsiebiorstw-',\n",
       " 'https://www.tvp.info/61634632/elektrownie-jadrowe-w-niemczech-nadal-beda-dzialac-olaf-scholz-zmienia-zdanie',\n",
       " 'https://www.tvp.info/61631859/donald-tusk-oskarza-szefa-mol-o-lapowki-sad-uznal-ze-biznesmen-jest-niewinny',\n",
       " 'https://www.tvp.info/61630723/chiny-chca-wydobywac-rocznie-300-milionow-ton-wegla-wiecej',\n",
       " 'https://www.tvp.info/61630649/kursy-walut-3082022-euro-dolar-funt-frank-w-srode-3-sierpnia-eur-usd-gbp-chf',\n",
       " 'https://www.tvp.info/61620505/azoty-zak-powstanie-laboratorium-paliw-alternatywnych',\n",
       " 'https://www.tvp.info/61620713/inflacja-a-bezrobocie-wicepremier-henryk-kowalczyk-o-strategii-w-walce-z-inflacja',\n",
       " 'https://www.tvp.info/61620713/inflacja-a-bezrobocie-wicepremier-henryk-kowalczyk-o-strategii-w-walce-z-inflacja',\n",
       " 'https://www.tvp.info/61618009/redukcja-reklam-fast-foodow-sposobem-na-walke-z-otyloscia',\n",
       " 'https://www.tvp.info/61613248/premier-ponad-500-tys-rodzin-skorzystalo-juz-z-wakacji-kredytowych',\n",
       " 'https://www.tvp.info/61612573/rosja-gazprom-zmniejsza-wydobycie-gazu-spolka-podala-dane-rosnie-tylko-eksport-do-chin',\n",
       " 'https://www.tvp.info/61611216/nie-wszyscy-tak-samo-odczuwaja-podwyzki-stop-procentowych-',\n",
       " 'https://www.tvp.info/61609007/kursy-walut-2082022-euro-dolar-funt-frank-we-wtorek-2-sierpnia-eur-usd-gbp-chf',\n",
       " 'https://www.tvp.info/61596463/uokik-o-wyroku-sadu-ws-zgody-na-przejecie-eurozetu-nie-podzielamy-argumentacji-zawartej-w-uzasadnieniu',\n",
       " 'https://www.tvp.info/61595249/daniel-obajtek-w-mol-nie-ma-rosyjskiego-kapitalu-jest-kapital-polski',\n",
       " 'https://www.tvp.info/61595051/bezrobocie-wedlug-eurostatu-w-polsce-rekordowo-niskie',\n",
       " 'https://www.tvp.info/61593751/polaczenie-orlenu-z-lotosem-obajtek-musi-byc-jedna-mocna-firma-w-polsce-i-za-granica',\n",
       " 'https://www.tvp.info/61593261/prezes-pge-wojciech-dabrowski-do-polski-plynie-11-statkow-z-weglem-dla-pge',\n",
       " 'https://www.tvp.info/61592966/banki-zapowiadaja-dalsze-zaostrzanie-polityki-kredytowej-',\n",
       " 'https://www.tvp.info/61592570/wakacje-kredytowe-premier-mateusz-morawiecki-komentuje',\n",
       " 'https://www.tvp.info/61591195/kursy-walut-1082022-euro-dolar-funt-frank-w-poniedzialek-1-sierpnia-eur-usd-gbp-chf',\n",
       " 'https://www.tvp.info/61591014/polaczenie-pkn-orlen-i-grupy-lotos-wpisane-do-rejestru-sadowego',\n",
       " 'https://www.tvp.info/61582087/niemcy-piloci-lufthansy-zaglosowali-za-strajkiem-rozmowy-jeszcze-trwaja',\n",
       " 'https://www.tvp.info/61581611/lotnisko-we-wroclawiu-uruchamia-polaczenia-na-rodos-do-tirany-i-dubrownika',\n",
       " 'https://www.tvp.info/61570095/wakacje-kredytowe-jak-zlozyc-wniosek-w-pko-bp-bardzo-duze-zainteresowanie-wideo',\n",
       " 'https://www.tvp.info/61561805/inflacja-epidemia-wojna-na-ukrainie-wysokie-ceny-energii-gospodarka-w-niemczech-wyhamowuje-to-recesja',\n",
       " 'https://www.tvp.info/61558197/najwieksza-inflacja-w-hiszpanii-od-38-lat',\n",
       " 'https://www.tvp.info/61560652/upadlosc-go-sport-sad-oglosil',\n",
       " 'https://www.tvp.info/61553443/kursy-walut-29072022-euro-dolar-funt-frank-w-srode-27-lipca-eur-usd-gbp-chf',\n",
       " 'https://www.tvp.info/61551949/pkn-orlen-i-pgnig-podpisaly-plan-polaczenia-spolek-',\n",
       " 'https://www.tvp.info/61551305/cen-paliw-ile-kosztuja-diesel-i-benzyna-95-analitycy-zapowiadaja-obnizki-na-stacjach-paliw',\n",
       " 'https://www.tvp.info/61550573/hotelarze-sa-niepewni-jutra-noclegi-zdrozaly',\n",
       " 'https://www.tvp.info/61550560/klienci-kupuja-mniej-agd',\n",
       " 'https://www.tvp.info/61550528/ekspert-pie-szczyt-inflacji-mielismy-w-czerwcu',\n",
       " 'https://www.tvp.info/61536194/ministerstwo-handlu-usa-drugi-z-rzedu-spadek-pkb',\n",
       " 'https://www.tvp.info/61535376/rynek-pozyczkowy-wzrost-wartosci-udzielanych-pozyczek',\n",
       " 'https://www.tvp.info/61534943/koniec-cyklu-podwyzek-stop-procentowych-optymistyczne-informacje-dla-kredytobiorcow',\n",
       " 'https://www.tvp.info/61534329/wakacje-kredytowe-rusza-infolinia-i-mail',\n",
       " 'https://www.tvp.info/61533218/niemcy-zimna-woda-w-basenach-i-zimne-prysznice-duze-miasta-zaczynaja-oszczedzanie-energii',\n",
       " 'https://www.tvp.info/61529039/kursy-walut-28072022-euro-dolar-funt-frank-w-czwartek-28-lipca-eur-usd-gbp-chf',\n",
       " 'https://www.tvp.info/61527950/lidia-kazen-zastapi-edwarda-miszczaka-w-tvn-donosza-media-kim-jest-nowa-dyrektor-tvn',\n",
       " 'https://www.tvp.info/61521604/inwestycja-zwiazku-nauczycielstwa-polskiego-w-beczki-whisky-ksiegowanie-jako-strata-towaru-wartego-450-tys-jest-kuriozalne-stilnovisti-odpowiada-broniarzowi',\n",
       " 'https://www.tvp.info/61521530/poglebia-sie-kryzys-gazowy-w-europie',\n",
       " 'https://www.tvp.info/61521273/ceny-cukru-w-polsce-panstwowa-spolka-obniza-ceny',\n",
       " 'https://www.tvp.info/61517535/wakacje-kredytowe-rzecznik-finansowy-radzi-by-zachowac-potwierdzenie-zlozenia-wniosku',\n",
       " 'https://www.tvp.info/61512561/wspolpraca-polsko-koreanska-zakupy-zbrojen',\n",
       " 'https://www.tvp.info/61512395/kursy-walut-27072022-euro-dolar-funt-frank-w-srode-27-lipca-eur-usd-gbp-chf',\n",
       " 'https://www.tvp.info/61511453/inwestycje-kolejowe-wykonawcy-dokumentacji-projektowej',\n",
       " 'https://www.tvp.info/61510757/niemcy-strajk-pracownikow-lufthansy-odwolano-ponad-1000-lotow',\n",
       " 'https://www.tvp.info/61510738/zakupy-w-polsce-czechach-i-niemczech-gdzie-najtaniej-a-gdzie-najdrozej',\n",
       " 'https://www.tvp.info/61510470/ceny-energii-szybuja-nie-tylko-w-polsce',\n",
       " 'https://www.tvp.info/61510017/rosyjska-gospodarka-radzi-sobie-lepiej-niz-oczekiwano-dane-miedzynarodowego-funduszu-walutowego-mniejszsy-spadek-pkb-rosnace-ceny-ropy',\n",
       " 'https://www.tvp.info/61509971/cukier-w-polsce-potezne-zapasy-ale-wysokie-ceny',\n",
       " 'https://www.tvp.info/61509529/sprzedaz-kuleje-najem-przyspiesza',\n",
       " 'https://www.tvp.info/61504973/ukraina-unia-europejska-handel-energia-elektryczna-z-ukraina-wazna-decyzja-ue',\n",
       " 'https://www.tvp.info/61499953/usa-bialy-dom-zapowiedzial-uwolnienie-kolejnych-20-mln-barylek-ropy-naftowej-z-rezerwy-strategicznej',\n",
       " 'https://www.tvp.info/61491388/niemcy-na-krawedzi-recesji-zobacz-nowe-analizy',\n",
       " 'https://www.tvp.info/61490763/donald-trump-ostrzegal-niemcow-przed-uzaleznianiem-od-rosji-wysmiali-go-na-forum-onz',\n",
       " 'https://www.tvp.info/61479098/mozambik-chce-wypelnic-na-europejskim-rynku-luke-po-gazie-z-rosji',\n",
       " 'https://www.tvp.info/61478429/klopotliwa-turbina-niemcy-odpowiadaja-gazpromowi-a-rosyjski-koncern-ogranicza-przepustowosc-nord-stream-1',\n",
       " 'https://www.tvp.info/61475668/gazprom-ograniczy-dostawy-gazu-nord-stream-1-do-europy-kolejna-turbina-w-konserwacji',\n",
       " 'https://www.tvp.info/61475127/polska-nie-zgodzi-sie-na-propozycje-ke-odnosnie-redukcji-zuzycia-gazu',\n",
       " 'https://www.tvp.info/61473154/europejski-bank-centralny-zdominowany-przez-niemcy-i-wlochy',\n",
       " 'https://www.tvp.info/61472459/agora-tvn-i-rasp-najaktywniejsze-ws-tekstow-uderzajacych-w-prezesa-pkn-orlen-daniela-obajtka',\n",
       " 'https://www.tvp.info/61471463/strajki-w-lufthansie-wezwanie-zwiazku-zawodowego',\n",
       " 'https://www.tvp.info/61470368/bezrobocie-w-polsce-lipiec-2022',\n",
       " 'https://www.tvp.info/61445608/morawiecki-o-wysokich-rachunkach-za-gaz-i-pomocy-panstwa',\n",
       " 'https://www.tvp.info/61445245/polska-w-ratingu-agencji-fitch-min-rzeczkowska-o-solidnych-perspektywach-wzrostu-gospodarki',\n",
       " 'https://www.tvp.info/61435360/szef-volkswagena-herbert-diess-rezygnuje-jaki-powod',\n",
       " 'https://www.tvp.info/61418345/turbina-do-nord-stream-1-utknela-w-kolonii-w-niemczech-bo-rosja-nie-dostarczyla-wymaganych-dokumentow',\n",
       " 'https://www.tvp.info/61417067/rzad-grecji-odrzucil-propozycje-ke-ws-gazu',\n",
       " 'https://www.tvp.info/61415660/sprawozdanie-nbp-za-2021-r-adam-glapinski-polityka-pieniezna-bedzie-prowadzona-tak-by-ograniczala-inflacje',\n",
       " 'https://www.tvp.info/61415083/pgnig-szacuje-wielkosc-wydobycia-gazu-w-i-polowie-2022-r-na-348-mld-m-szesc',\n",
       " 'https://www.tvp.info/61412584/europejski-bank-centralny-podniosl-glowne-stopy-procentowe-o-50-punktow-bazowych',\n",
       " 'https://www.tvp.info/61410520/fuzja-orlenu-i-lotosu-decyzja-walnego-zgromadzenia',\n",
       " 'https://www.tvp.info/61410401/ilu-polakow-popiera-system-kaucyjny-w-polsce-badanie',\n",
       " 'https://www.tvp.info/61409258/baltic-pipe-polaczony-z-systemami-przesylowymi-polski-i-danii-kiedy-ruszy-przesyl',\n",
       " 'https://www.tvp.info/61408042/rolnictwo-upaly-przyspieszyly-zniwa-pszenica-bedzie-zbierana-pierwsza',\n",
       " 'https://www.tvp.info/61394080/czolgi-na-ulicach-china-chronia-banki-przed-protestujacymi-klientami',\n",
       " 'https://www.tvp.info/61399271/reportaztvn24-o-fuzji-lotosu-i-orlenu-zdecydowane-oswiadczenie-plockiego-koncernu',\n",
       " 'https://www.tvp.info/61390552/przecietna-placa-wyniosla-w-czerwcu-6-554-zlotych',\n",
       " 'https://www.tvp.info/61391917/niemcy-pozbywaja-sie-atomu-dlaczego-greenpeace-nie-protestuje',\n",
       " 'https://www.tvp.info/61391279/nadzwyczajne-walne-zgromadzenie-lotosu-poparlo-polaczenie-spolki-z-pkn-orlen',\n",
       " 'https://www.tvp.info/61389971/uokik-ostrzega-konsumentow-przed-spolka-z-portoryko-oferujaca-wycieczki-statkiem',\n",
       " 'https://www.tvp.info/61390727/kursy-walut-nbp-20072022-euro-dolar-funt-frank-w-srode-20-lipca-2022-eur-usd-gbp-chf',\n",
       " 'https://www.tvp.info/61387736/chaos-na-lotniskach-problemy-szybko-nie-znikna',\n",
       " 'https://www.tvp.info/61376188/bezpieczenstwo-energetyczne-japonia-zawiera-rekordowe-kontrakty',\n",
       " 'https://www.tvp.info/61375974/w-ns1-pojawil-sie-gaz-wg-agencji-reutera-w-czwartek-maja-zostac-wznowione-dostawy',\n",
       " 'https://www.tvp.info/61373049/minister-moskwa-ukraina-przystapila-miedzynarodowej-agencji-energetycznej',\n",
       " 'https://www.tvp.info/61372284/izabela-leszczyna-wyjasnia-jak-pokonac-inflacje-w-polsce',\n",
       " 'https://www.tvp.info/61371717/starbucks-zamyka-kawiarnie-usa-prezes-howard-schultz-powodem-wzgledy-bezpieczenstwa-narkomani-i-bezdomni',\n",
       " 'https://www.tvp.info/61369079/wegiel-w-polsce-piotr-naimski-uspokaja',\n",
       " 'https://www.tvp.info/61369084/fuzja-lotosu-z-orlenem-obajtek-to-wzmocni-miejsca-pracy',\n",
       " 'https://www.tvp.info/61361416/gazprom-zakreca-kurek-z-gazem-powolal-siena-sile-wyzsza',\n",
       " 'https://www.tvp.info/61356939/minister-moskwa-o-dostawach-wegla-do-polski',\n",
       " 'https://www.tvp.info/61354503/komisja-europejska-dala-zielone-swiatlo-pkn-orlen-koncern-moze-przejac-normbenz-i-aktywa-mol-na-wegrzech-i-slowacji',\n",
       " 'https://www.tvp.info/61353758/wzrost-gospodarczy-polski-nowe-prognozy-banku-swiatowego-siegaja-2030-r',\n",
       " 'https://www.tvp.info/61352820/hortex-opuszcza-rosje-agata-bonikowska-czlonek-zarzadu-decyzja-zapadla-kilka-miesiecy-temu',\n",
       " 'https://www.tvp.info/61352343/kursy-walut-18072022-euro-dolar-funt-frank-w-poniedzialek-18-lipca-eur-usd-gbp-chf',\n",
       " 'https://www.tvp.info/61351573/jak-wyglada-sytuacja-z-weglem-premier-mateusz-morawiecki-na-slasku-odprawa-z-szefami-pgg-pge-i-weglokoksu',\n",
       " 'https://www.tvp.info/61351012/lotniska-w-europie-przepelnione-odwolane-loty-i-drogie-bilety',\n",
       " 'https://www.tvp.info/61338419/rekordowe-wzrosty-cen-swiat-walczy-z-inflacja',\n",
       " 'https://www.tvp.info/61332370/propozycje-komisji-europejskiej-na-walke-z-kryzyem-gazowym',\n",
       " 'https://www.tvp.info/61331612/moc-fotowoltaiki-przekroczyla-10-gw-grabiec-atakuje-rzad',\n",
       " 'https://www.tvp.info/61327808/wojna-na-ukrainie-podzielila-ministrow-finansow-grupy-g20-nie-ma-wspolnego-komunikatu',\n",
       " 'https://www.tvp.info/61327530/niemcy-zawiaza-nowy-uklad-gazowy-z-rosja-analitycy-alarmuja',\n",
       " 'https://www.tvp.info/61306289/niemcy-gospodarczo-zostaja-w-tyle-die-welt',\n",
       " 'https://www.tvp.info/61304455/bialorus-zalega-ze-splata-obligacji-walutowych-moodys',\n",
       " 'https://www.tvp.info/61300777/czyste-powietrze-plus-warunki-i-zasady-2022-jak-dostac-40-tys-dofinansowania-na-ocieplenie-domu-wyplata-srodkow-jeszcze-przed-rozpoczeciem-remontu-gdzie-zlozyc-wniosek',\n",
       " 'https://www.tvp.info/61300642/kopalna-ropy-i-gazu-lubiatow-polskie-gornictwo-naftowe-i-gazownictwa-wybralo-wykonawcow-rozbudowy',\n",
       " 'https://www.tvp.info/61300225/zamiennik-wibor-u-minister-finansow-magdalena-rzeczkowska-o-mapie-drogowej-zmian-co-zastapi-wibor',\n",
       " 'https://www.tvp.info/61299728/inflacja-w-czerwcu-wyniosla-155-procent',\n",
       " 'https://www.tvp.info/61299318/pkn-orlen-testuje-wirtualnego-wideobota',\n",
       " 'https://www.tvp.info/61297609/ceny-mieszkan-spadna-prognozuja-analitycy-pko-bp-spada-popyt-na-nieruchomosci',\n",
       " 'https://www.tvp.info/61289227/rosja-ma-duzy-problem-produkcja-stali-stala-sienieoplacalna',\n",
       " 'https://www.tvp.info/61287570/dunsko-grecki-spor-o-nazwe-sera-feta',\n",
       " 'https://www.tvp.info/61286426/wojna-na-ukrainie-macron-o-bezpieczenstwie-energetycznym-francji',\n",
       " 'https://www.tvp.info/61284876/premier-baltic-pipe-zakontraktowany-na-przesyl-5-mld-m-szesciennych-gazu',\n",
       " 'https://www.tvp.info/61284416/kazachstan-bliski-sojusznik-putina-zaprasza-uciekajace-z-rosji-firmy-do-inwestowania-u-siebie-i-dystansuje-sie-od-dzialan-moskwy-na-ukrainie',\n",
       " 'https://www.tvp.info/61283756/rosja-odcina-niemcy-od-gazuszef-stowarzyszenia-pracodawcow-stracimy-nasz-dobrobyt',\n",
       " 'https://www.tvp.info/61282765/komisja-europejska-o-pkb-w-polsce',\n",
       " 'https://www.tvp.info/61281913/glapinski-inflacja-bedzie-stopniowo-sie-obnizac-poczawszy-od-iii-kw-br',\n",
       " 'https://www.tvp.info/61281628/piotr-krasko-nie-prowadzi-faktow-tvn-zniknal-po-publikacjach-portalu-tvpinfo',\n",
       " 'https://www.tvp.info/61280965/inflacja-w-unii-europejskiej-nietrafione-prognozy-komisji-europejskiej',\n",
       " 'https://www.tvp.info/61280313/cpk-z-milionowymi-stratami-marcin-horala-odpowiada',\n",
       " 'https://www.tvp.info/61279897/usa-poparly-decyzje-komisji-europejskiej-ws-tranzytu-towarow-z-rosji-przez-litwe-do-kaliningradu',\n",
       " 'https://www.tvp.info/61274434/kanada-bank-centralny-dokonal-najbardziej-drastycznej-interwencji-od-1998-i-podniosl-podstawowa-stope-procentowa',\n",
       " 'https://www.tvp.info/61273232/the-guardian-zacheca-do-spedzenia-wakacji-w-polsce-by-pomoc-wspierac-ukraine',\n",
       " 'https://www.tvp.info/61268178/mf-rozpoczely-sie-prace-ws-zastapienia-wibor-u-innym-wskaznikiem',\n",
       " 'https://www.tvp.info/61267404/ceny-w-usa-takiej-inflacji-nie-bylo-od-ponad-40-lat',\n",
       " 'https://www.tvp.info/61263642/mf-w-czerwcu-sprzedano-obligacje-o-wartosci-ponad-14-mld-zl-historyczny-rekord',\n",
       " 'https://www.tvp.info/61251229/prezes-pkn-orlen-obajtek-do-2030-r-wydamy-na-energetyke-zero-i-nisko-emisyjna-47-mld-zl',\n",
       " 'https://www.tvp.info/61249974/kilkadziesiat-odwolanych-i-opoznionych-lotow-w-hiszpanii-wskutek-strajku-zalogi-easyjet-i-ryanair',\n",
       " 'https://www.tvp.info/61248436/dolar-najdrozszy-w-historii',\n",
       " 'https://www.tvp.info/61248152/kprp-prezydent-andrzej-duda-podpisal-ustawe-ws-maksymalnej-ceny-wegla-min-dla-odbiorcow-indywidualnych',\n",
       " 'https://www.tvp.info/61247899/wszczeto-postepowania-wyjasniajace-wobec-pieciu-najwiekszych-domow-aukcyjnych-w-polsce',\n",
       " 'https://www.tvp.info/61247642/nbp-centralna-sciezka-projekcji-zaklada-inflacje-w-2022-r-na-poziomie-142-proc',\n",
       " 'https://www.tvp.info/61247764/tsue-skarga-nord-stream-2-ag-na-unijna-dyrektywe-gazowa-jest-dopuszczalna',\n",
       " 'https://www.tvp.info/61247263/nord-stream-1-zakrecony-jakub-wiech-o-problemach-niemiec-z-gazem-z-rosji',\n",
       " 'https://www.tvp.info/61246794/frans-timmermans-chce-czasowego-powrotu-do-wegla-ro-temu-bronil-putina-i-gazpromu',\n",
       " 'https://www.tvp.info/61245946/emerytury-w-2022-prezes-zus-14-emerytura-lepsza-niz-dwie-waloryzacje',\n",
       " 'https://www.tvp.info/61235037/ekspert-przewiduje-ze-wojna-prawna-miedzy-muskiem-i-twitterem-bedzie-na-miare-gry-o-tron',\n",
       " 'https://www.tvp.info/61233944/elon-musk-zakpil-z-twittera-pisze-o-botach',\n",
       " 'https://www.tvp.info/61232261/podpisano-umowy-z-kontrolerami-ruchu-lotniczego-komunikat-pazp',\n",
       " 'https://www.tvp.info/61230762/do-swinoujscia-dotarla-kolejna-dostawa-gazu-skroplonego-z-usa',\n",
       " 'https://www.tvp.info/61230538/kolejny-ladowy-odcinek-baltic-pipe-po-odbiorze-technicznym-to-41-kilometrowy-fragment-niechorze-ploty',\n",
       " 'https://www.tvp.info/61229452/wylaczanie-gazociagu-nord-stream-1-duze-znizki-na-rynku-gazu',\n",
       " 'https://www.tvp.info/61219882/mieszkancy-kaliningradu-odcieci-od-kolejnych-towarow',\n",
       " 'https://www.tvp.info/61220156/niemcy-protestuja-przeciwko-budowie-portu-kontenerowego-w-swinoujsciu',\n",
       " 'https://www.tvp.info/61219521/covid-19-lotnictwo-lufthansa-w-kryzysie-stewardessa-opowiada-o-przepracowaniu-braku-pracownikow-klopotach-pasazerow-braku-cateringu',\n",
       " 'https://www.tvp.info/61218007/ceny-energii-elektrycznej-w-unii-europejskiej-ile-kosztuje-kilowatogodzina-w-polsce-raport',\n",
       " 'https://www.tvp.info/61216360/problemy-z-inflacja-w-argentynie',\n",
       " 'https://www.tvp.info/61208165/niszczycielska-susza-w-moldawii-uprawy-zboz-zagrozone',\n",
       " 'https://www.tvp.info/61202156/inflacja-kredyty-prezes-narodowego-banku-polskiego-profesor-adam-glapinski-zapowiedzial-ze-rada-polityki-pienieznej-zbliza-sie-do-konca-cyklu-podwyzek-stop-procentowych',\n",
       " 'https://www.tvp.info/61193490/jaka-przyszlosc-elektrowni-w-ostrolece-deklaracja-premiera-morawieckiego',\n",
       " 'https://www.tvp.info/61192248/jakie-polaczenia-odwolal-lot-zalecenia-przewoznika-dla-podrozujacych',\n",
       " 'https://www.tvp.info/61191836/volvo-opusci-europejskie-stowarzyszenie-producentow-samochodow-z-powodu-roznic-w-podejsciu-do-celow-klimatycznych',\n",
       " 'https://www.tvp.info/61191452/otwarto-gazociag-w-grecji-ktory-umozliwi-bulgarii-pozyskiwanie-surowca-ze-zrodel-innych-niz-z-rosji',\n",
       " 'https://www.tvp.info/61191383/gazprom-rosineft-i-rosatom-ukraina-przejmuje-rosyjskie-aktywa',\n",
       " 'https://www.tvp.info/61190281/kiedy-koniec-wzrostu-cen-adam-glapinski-przekonuje-ze-jestesmy-blisko-szczytu-inflacji',\n",
       " 'https://www.tvp.info/61189979/jaka-wplyw-na-inflacje-maja-czynniki-wewnetrzne-glapinski-wyjasnia',\n",
       " 'https://www.tvp.info/61189371/gaz-z-rosji-analiza-mozliwosci-krajow-ue-w-przypadku-calkowitego-wstrzymania-dostaw',\n",
       " 'https://www.tvp.info/61189027/gaz-system-terminal-lng-w-swinoujsciu-zwieksza-mozliwosci-zaladunku-na-cysterny-o-ponad-40-proc',\n",
       " 'https://www.tvp.info/61187226/ukraina-rosjanie-kradna-zboze-i-podpalaja-pola-uprawne',\n",
       " 'https://www.tvp.info/61186390/unia-chce-zakazac-sprzedazy-aromatyzowanych-mentolowych-wkladow-tytoniowych',\n",
       " 'https://www.tvp.info/61170527/projekt-ustawy-o-usprawnieniu-procesu-inwestycyjnego-przyspieszy-budowe-cpk',\n",
       " 'https://www.tvp.info/61143547/gdzie-ogladac-tvp-info-na-ktorym-kanale-lista-telewizji-kablowych-i-satelitarnych-transmisja-online-tvp-info-i-aplikacja-mobilna',\n",
       " 'https://www.tvp.info/61170039/rada-polityki-pienieznej-podjela-decyzje-w-sprawie-stop-procentowych',\n",
       " 'https://www.tvp.info/61163791/stopy-procentowe-co-zdecyduje-dzis-rada-polityki-pienieznej',\n",
       " 'https://www.tvp.info/61160312/protesty-w-holandii-zielony-lad-doprowadza-do-chaosu-podobny-los-czeka-polskich-rolnikow',\n",
       " 'https://www.tvp.info/61151669/usa-i-partnerzy-omawiaja-plan-ograniczenia-cen-rosyjskiej-ropy-do-4060-dol-za-barylke-podaje-bloomberg',\n",
       " 'https://www.tvp.info/61150541/wzrost-wymiany-handlowej-miedzy-polska-a-niemcami',\n",
       " 'https://www.tvp.info/61148337/spolka-zabka-polska-deklarujemy-pelna-wspolprace-z-uokik',\n",
       " 'https://www.tvp.info/61147589/parlament-europejski-zatwierdza-gaz-i-atom-jakie-zielone-zrodla-energii',\n",
       " 'https://www.tvp.info/61144774/mrips-stopa-bezrobocia-w-czerwcu-wyniosla-49-proc',\n",
       " 'https://www.tvp.info/61144861/niemiecki-posel-uruchomic-nord-stream-2-i-rozmawiac-z-rosja',\n",
       " 'https://www.tvp.info/61144082/jest-zgoda-pe-na-uznanie-gazu-i-atomu-za-zielone',\n",
       " 'https://www.tvp.info/61142298/lukasz-mejza-wyjasnia-donaldowi-tuskowi-kto-odpowiada-za-wysokie-ceny-zboz',\n",
       " 'https://www.tvp.info/61140788/pawel-borys-ceny-ropy-zalamaly-sie',\n",
       " 'https://www.tvp.info/61128265/inwestycje-w-gaz-i-atom-debata-w-parlamencie-europejskim',\n",
       " 'https://www.tvp.info/61128293/ogromna-popularnosc-nowych-obligacji-skarbu-panstwa-polacy-ulokowali-miliardy-zlotych',\n",
       " 'https://www.tvp.info/61125344/ropa-brent-wti-na-gieldach-we-wtorek-wyraznie-tanieje',\n",
       " 'https://www.tvp.info/61123489/upadek-potegi-gospodarczej-niemiec-staje-sie-faktem-die-welt-pisze-o-zalamaniu-eksportu',\n",
       " 'https://www.tvp.info/61122843/rosyjska-gospodarka-przechodzi-na-tryb-wojenny-duma-przyjela-w-pierwszym-czytaniu-projekt-ustawy-ktora-naklada-na-firmy-i-obywateli-obowiazek-podporzadkowania-sie-potrzebom-armii',\n",
       " 'https://www.tvp.info/61119049/sri-lanka-rzad-chce-zaprzestac-druku-banknotow-inflacja-zbliza-sie-do-60-procent',\n",
       " 'https://www.tvp.info/61111543/bezpieczenstwo-energetyczne-morawiecki-o-tradycyjnych-zrodlach-energii-i-ets',\n",
       " 'https://www.tvp.info/61105818/skandynawia-belgia-podroze-jakie-linie-lotnicze-odwoluja-loty-z-powodu-strajkow-pracownikow',\n",
       " 'https://www.tvp.info/61105123/niemcy-elon-musk-zamyka-fabryke-tesli-po-trzech-miesiacach',\n",
       " 'https://www.tvp.info/61102910/turcja-wladze-inflacja-w-czerwcu-wyniosla-ponad-78-proc-najwiecej-od-1998-roku',\n",
       " 'https://www.tvp.info/61102120/jaroslaw-kaczynski-mial-racje-ws-wartosci-euro-w-niemczech',\n",
       " 'https://www.tvp.info/61076102/problem-krakowa-ze-stacjami-ladowania-samochodow-elektrycznych-miasto-stracilo-szanse-na-punkty-ladowania-od-taurona',\n",
       " 'https://www.tvp.info/61073391/kalkulator-wynagrodzen-2022-brutto-netto-umowa-o-prace-umowa-zlecenie-ppk-pit0-obnizka-podatkow-nowy-lad-kalkulator-ulg',\n",
       " 'https://www.tvp.info/61072532/unia-europejska-polska-zlozyla-wniosek-o-wprowadzenie-cel-na-import-rosyjskiej-ropy',\n",
       " 'https://www.tvp.info/61068312/holandia-po-protestach-mieszkancow-koncern-meta-zrezygnowal-z-budowy-centrum-danych-facebooka',\n",
       " 'https://www.tvp.info/61062034/szef-solidarnosci-piotr-duda-punktuje-donalda-tuska',\n",
       " 'https://www.tvp.info/61060342/inflacja-nowe-dane-gus-czerwiec-2022-analityk-pie-szczyt-inflacji-w-sierpniu',\n",
       " 'https://www.tvp.info/61053167/cpk-platforma-obywatelska-kod-i-agrounia-chca-zablokowac-projekt-jest-odpowiedz-spolki-na-protesty',\n",
       " 'https://www.tvp.info/61052541/ekonomista-pko-bp-inflacja-w-czerwcu-wyniosla-156-proc',\n",
       " 'https://www.tvp.info/61040344/stopa-bezrobocia-w-niemczech-najwyzsza-od-listopada-2021-roku',\n",
       " 'https://www.tvp.info/61031343/piwo-z-wody-ze-sciekow-poddaja-recyklingowi-wode-z-toalety-browar-zdobywa-uznanie-w-singapurze',\n",
       " 'https://www.tvp.info/61028823/lotos-wlipcu-i-sierpniu-litr-paliwa-z-30groszowym-rabatem',\n",
       " 'https://www.tvp.info/61026646/byle-gieldowe-tuzy-oskarzone',\n",
       " 'https://www.tvp.info/61026004/szefowa-ebc-christine-lagarde-wyrazila-przekonanie-ze-dynamika-inflacji-w-strefie-euro-zmienila-sie-na-trwale',\n",
       " 'https://www.tvp.info/61015301/influencerzy-maffashion-kruszwil-dubiel-ukarani-za-brak-wspolpracy-z-uokik-zaplaca-wysokie-kary',\n",
       " 'https://www.tvp.info/61012598/mniej-niz-10-proc-woli-zalozyc-wlasny-biznes-niz-szukac-pracy-u-kogos',\n",
       " 'https://www.tvp.info/61011193/spotkanie-ws-cpk-w-seulu-rozmowy-polski-z-korea-poludniowa',\n",
       " 'https://www.tvp.info/61005494/w-najblizszych-miesiacach-blik-pochwali-sie-pierwszymi-wdrozeniami-za-granica',\n",
       " 'https://www.tvp.info/60997774/gpw-przejmuje-gielde-armenska',\n",
       " 'https://www.tvp.info/60994671/szwedzki-panstwowy-koncern-energetyczny-vattenfall-poinformowal-we-wtorek-o-planach-budowy-dwoch-malych-modulowych-reaktorow-jadrowych-smr',\n",
       " 'https://www.tvp.info/60992299/porozumienie-cpk-z-rail-baltica-czego-dotyczy',\n",
       " 'https://www.tvp.info/60991226/kontrolerzy-lotow-i-porozumienie-z-pazp-minister-uspokaja-mozna-planowac-wakacje',\n",
       " 'https://www.tvp.info/60990607/rubel-umacnia-sie-do-dolara-najlepszy-wynik-od-siedmiu-lat',\n",
       " 'https://www.tvp.info/60988386/minister-anna-moskwa-w-luksemburgu-zakaz-sprzedazy-aut-spalinowych-od-2035-r-nie-do-przyjecia-dla-polski',\n",
       " 'https://www.tvp.info/60987327/nowa-ustawa-rzadu-zmiany-umowy-w-obecnej-sytuacji-rynkowej',\n",
       " 'https://www.tvp.info/60979979/tomasz-biernacki-najbogatszym-polakiem-wg-wprost-kim-jest-miliarder-widmo-wlasciciel-sieci-supermarketow-dino',\n",
       " 'https://www.tvp.info/60978704/wojna-na-ukranie-usa-podnosza-cla-na-rosyjskie-towary',\n",
       " 'https://www.tvp.info/60976208/szczecin-powstaje-nowoczesny-statek-canopee-ktory-przetransportuje-rakiete-ariane-6-esa-z-europy-do-kosmodromu-w-gujanie-francuskiej',\n",
       " 'https://www.tvp.info/60975924/rzad-zwieksza-srodki-w-programie-udostepnianie-wod-termalnych-w-polsce',\n",
       " 'https://www.tvp.info/60974219/daniel-obajtek-orlen-przejmie-lotos-na-przelomie-lipca-i-sierpnia',\n",
       " 'https://www.tvp.info/60972632/ustalenie-rady-ue-w-sprawie-magazynowania-gazu-rozporzadzenie-rady-ue-w-sprawie-gazu',\n",
       " 'https://www.tvp.info/60964425/ursula-von-der-leyen-kraje-rozwijajace-sie-dostana-alternatywe-dla-chinskich-funduszy',\n",
       " 'https://www.tvp.info/60941836/pkn-orlen-otworzyl-w-krakowie-pierwsza-stacje-wodorowa-autobus-na-wodor-jezdzi-po-miescie',\n",
       " 'https://www.tvp.info/60941155/pkn-orlen-chce-byc-liderem-na-rynku-biogazu',\n",
       " 'https://www.tvp.info/60941086/platnosc-odroczona-pko-bp-wprowadza-usluge',\n",
       " 'https://www.tvp.info/60937321/wojna-na-ukrainie-rosja-lamie-sankcje-na-rope',\n",
       " 'https://www.tvp.info/60937312/zalamanie-ruchu-pasazerskiego-i-gigantyczna-strata-aeroflot-opublikowal-sprawozdanie-finansowe',\n",
       " 'https://www.tvp.info/60926666/wzrost-cen-gazu-w-niemczech-poszukiwania-dostawcow',\n",
       " 'https://www.tvp.info/60922583/promocja-pkn-orlen-benzyna-tansza-o-30-groszy-za-litr',\n",
       " 'https://www.tvp.info/60920703/jakie-bezrobocie-w-polsce-w-maju-spadek-stopy-bezrobocia',\n",
       " 'https://www.tvp.info/60911841/niemcy-odwoluja-loty-na-wakacje-lufthansa-odwoluje-loty',\n",
       " 'https://www.tvp.info/60908765/w-japonskich-miejscowosciach-turystycznych-w-japonii-stanely-automaty-z-przekaskami-z-owadow',\n",
       " 'https://www.tvp.info/60906441/producent-odziezy-i-obuwia-sportowego-nike-calkowicie-wycofa-sie-z-rosji-w-zwiazku-z-wojna-na-ukrainie',\n",
       " 'https://www.tvp.info/60902419/wegiel-sejm-uchwalil-ustawe-majaca-chronic-konsumentow',\n",
       " 'https://www.tvp.info/60901742/pgnig-nowa-kopalnia-ropy-i-gazu-w-polsce-oszacowano-zasoby',\n",
       " 'https://www.tvp.info/60897406/sklepy-stacjonarne-bez-szans-w-starciu-z-internetem',\n",
       " 'https://www.tvp.info/60890430/ministerstwo-finansow-planuje-wydluzyc-termin-zlozenia-deklaracji-dla-estonskiego-cit',\n",
       " 'https://www.tvp.info/60890752/baltic-pipe-odcinek-goleniow-lwowek-gotowy-do-rozruchu',\n",
       " 'https://www.tvp.info/60881026/silne-spadki-cen-na-rynkach-ropy-z-powodu-obaw-o-recesje-w-usa-ceny-paliwa-recesja',\n",
       " 'https://www.tvp.info/60884324/gus-sprzedaz-detaliczna-wzrosla-o-82-procent-rr',\n",
       " 'https://www.tvp.info/60880313/exxon-mobil-inwestuje-29-mld-dolarow-w-katarski-projekt-rozbudowy-terminalu-lng',\n",
       " 'https://www.tvp.info/60879262/niemcy-i-holandia-wracaja-do-wegla-janusz-kowalski-o-szansie-dla-polski-ets-rosyjskim-gazie-i-budowie-elektrowni-jadrowych',\n",
       " 'https://www.tvp.info/60869837/zakaz-sprzedazy-nowych-samochodow-spalinowych-od-2035-roku-decyzja-niemieckiego-rzadu',\n",
       " 'https://www.tvp.info/60874031/wojna-na-ukrainie-firmy-technologiczne-opuszczaja-rosje-wraz-z-informatykami',\n",
       " 'https://www.tvp.info/60874490/wojna-na-ukrainie-wg-mediow-koncern-kalasznikow-obszedl-sankcje',\n",
       " 'https://www.tvp.info/60873986/pge-sfinalizowala-zakup-trzech-ladowych-farm-wiatrowych',\n",
       " 'https://www.tvp.info/60863494/wegiel-wraca-do-lask-w-niemczech-holandii-i-austrii-anna-zalewska-to-byla-ekosciema',\n",
       " 'https://www.tvp.info/60859606/sankcje-na-rosje-rosyjskie-linie-lotnicze-ograniczaja-liczbe-rejsow',\n",
       " ...]"
      ]
     },
     "execution_count": 157,
     "metadata": {},
     "output_type": "execute_result"
    }
   ],
   "source": [
    "l"
   ]
  },
  {
   "cell_type": "code",
   "execution_count": 30,
   "metadata": {},
   "outputs": [],
   "source": [
    "with open('links.txt', 'w') as f:\n",
    "    f.write('\\n'.join(links))"
   ]
  },
  {
   "cell_type": "code",
   "execution_count": 159,
   "metadata": {},
   "outputs": [],
   "source": [
    "from utils import get_website, get_content"
   ]
  },
  {
   "cell_type": "code",
   "execution_count": 160,
   "metadata": {},
   "outputs": [
    {
     "data": {
      "text/plain": [
       "{'id': 1,\n",
       " 'content': '\\n„Obrzydliwe wykorzystywanie tragedii. Kłamliwe wpisy Romana Giertycha i Dominiki Wielowieyjskiej. Wystąpiłem o akta (w sprawie Krzysztofa F. – przyp. red.) już po publikacji (Radia Szczecin – przyp. red.), o czym nawet TVN24 informuje. Dostałem je 20 stycznia 2023 r. To standardowa procedura w moim biurze po takich doniesieniach. Są granice, będą odszczekiwać” – napisał na Twitterze Mikołaj Pawlak. Rzecznik praw dziecka: Obrzydliwe wykorzystywanie tragediiWcześniej Giertych zarzucił rzecznikowi praw dziecka, że ten... ujawnił dane poszkodowany przez pedofila z PO dzieci. „Już dziś Prokuratura Okręgowa w Szczecinie, która prowadzi sprawę z z art. 241 §2 KK powinna zabezpieczać akta w biurze RPD”. Artykuł Kodeksu karnego mówi o „rozpowszechnianiu publicznie wiadomości z rozprawy sądowej prowadzonej z wyłączeniem jawności”. Grozi za to do dwóch lat więzienia.   \\n\\n\\n\\n  \\nZ kolei Wielowieyjska zacytowała fragmentu tekstu, który ukazał się na portalu TVN24.„O informację o wyroku zwróciło się jedno ze szczecińskich mediów – SSO Tomasz Szaja. Nie zostały wówczas ujawnione żadne dane identyfikujące skazanego, jak i pokrzywdzonych. O akta sprawy zwrócił się Rzecznik Prawa Dziecka w grudniu 2022 roku” – przytoczyła, sugerując tym samym, że to RPD mógł ujawnić dane poszkodowanych przez pedofila z PO. Nie doczytała jednak, że pod koniec tego samego tekstu portal TVN24 cytuje wypowiedź sędziego Sądu Okręgowego w Szczecinie, z którego jasno wynika, że rzecznik praw dziecka nie mógł wiedzieć o sprawie Krzysztofa F. przed publikacją Radia Szczecin.– Akta postępowania nie były udostępniane. O informację o treści zapadłego wyroku zwróciło się jedno ze szczecińskich mediów do rzecznika prasowego sądu – SSO Tomasz Szaja. Nie zostały wówczas ujawnione żadne dane identyfikujące zarówno skazanego, jak i pokrzywdzonych. O akta sprawy zwrócił się rzecznik prawa dziecka w dniu 30 grudnia 2022 r. – poinformował sędzia szczecińskiego SO Michał Tomala. Potwierdził to w czwartek na konferencji prasowej sędzia Maciej Strączyński, prezes Sądu Okręgowego w Szczecinie. – RPD wystąpił o te akta 30 grudnia i zostały mu one wysłane. Jest osobą uprawnioną do tego, by wystapić o przysłanie mu akt sprawy. Nie było takiego wniosku wcześniej – wskazał.  \\n\\n\\n\\n '}"
      ]
     },
     "execution_count": 160,
     "metadata": {},
     "output_type": "execute_result"
    }
   ],
   "source": [
    "get_content('https://www.tvp.info/68380631/pedofilia-w-po-rzecznik-praw-dziecka-prostuje-klamstwa-wielowieyskiej-i-giertycha', 1)"
   ]
  }
 ],
 "metadata": {
  "kernelspec": {
   "display_name": "absa",
   "language": "python",
   "name": "absa"
  },
  "language_info": {
   "codemirror_mode": {
    "name": "ipython",
    "version": 3
   },
   "file_extension": ".py",
   "mimetype": "text/x-python",
   "name": "python",
   "nbconvert_exporter": "python",
   "pygments_lexer": "ipython3",
   "version": "3.10.5"
  },
  "orig_nbformat": 4
 },
 "nbformat": 4,
 "nbformat_minor": 2
}
